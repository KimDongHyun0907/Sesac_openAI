{
  "nbformat": 4,
  "nbformat_minor": 0,
  "metadata": {
    "colab": {
      "provenance": []
    },
    "kernelspec": {
      "name": "python3",
      "display_name": "Python 3"
    },
    "language_info": {
      "name": "python"
    }
  },
  "cells": [
    {
      "cell_type": "code",
      "execution_count": null,
      "metadata": {
        "colab": {
          "base_uri": "https://localhost:8080/"
        },
        "id": "1nNU7owkrXD6",
        "outputId": "247cd56a-44ac-42a1-b03d-85988688eb08"
      },
      "outputs": [
        {
          "output_type": "execute_result",
          "data": {
            "text/plain": [
              "(9, 9, 1.3333333333333333, 57.77777777777778)"
            ]
          },
          "metadata": {},
          "execution_count": 1
        }
      ],
      "source": [
        "import numpy as np\n",
        "x = np.array([1,2,1,1,1,2,2,1,1])\n",
        "y = np.array([100,200,100,50,10,20,20,10,10])\n",
        "len(x),len(y),x.mean(), y.mean()"
      ]
    },
    {
      "cell_type": "code",
      "source": [
        "from sklearn.linear_model import LinearRegression\n",
        "model=LinearRegression()  # 추정기 함수 활성화\n",
        "model.fit(np.reshape(x,(-1,1)),y)  # w, b가 생성\n",
        "model.coef_,model.intercept_"
      ],
      "metadata": {
        "colab": {
          "base_uri": "https://localhost:8080/"
        },
        "id": "q0dHOLmNrbpq",
        "outputId": "393eb235-234f-40d6-b687-287e35ac4f32"
      },
      "execution_count": null,
      "outputs": [
        {
          "output_type": "execute_result",
          "data": {
            "text/plain": [
              "(array([33.33333333]), 13.333333333333336)"
            ]
          },
          "metadata": {},
          "execution_count": 2
        }
      ]
    },
    {
      "cell_type": "code",
      "source": [
        "w, b = model.coef_,model.intercept_\n",
        "new_x = 3\n",
        "new_y = new_x*w+b\n",
        "new_y"
      ],
      "metadata": {
        "colab": {
          "base_uri": "https://localhost:8080/"
        },
        "id": "cCLUqrajrd2h",
        "outputId": "9e0c8f9b-86fa-4833-aa33-7262a91f50ff"
      },
      "execution_count": null,
      "outputs": [
        {
          "output_type": "execute_result",
          "data": {
            "text/plain": [
              "array([113.33333333])"
            ]
          },
          "metadata": {},
          "execution_count": 3
        }
      ]
    },
    {
      "cell_type": "code",
      "source": [
        "new_x = 3\n",
        "new_x = np.reshape(new_x, (-1,1))\n",
        "model.predict(new_x)"
      ],
      "metadata": {
        "colab": {
          "base_uri": "https://localhost:8080/"
        },
        "id": "LFbd7mtCrfFX",
        "outputId": "2603f0a2-2e2f-4884-fff3-9422e6ffac2a"
      },
      "execution_count": null,
      "outputs": [
        {
          "output_type": "execute_result",
          "data": {
            "text/plain": [
              "array([113.33333333])"
            ]
          },
          "metadata": {},
          "execution_count": 4
        }
      ]
    },
    {
      "cell_type": "markdown",
      "source": [
        "https://wikidocs.net/42596  \n",
        "타이타닉 승객 생존 여부 분류 모델 학습"
      ],
      "metadata": {
        "id": "w6iwKHWIrjVe"
      }
    },
    {
      "cell_type": "code",
      "source": [
        "import pandas as pd\n",
        "from sklearn.preprocessing import OneHotEncoder\n",
        "from sklearn.compose import make_column_transformer\n",
        "from sklearn.linear_model import LogisticRegression\n",
        "import numpy as np"
      ],
      "metadata": {
        "id": "lu71lzgprgTT"
      },
      "execution_count": null,
      "outputs": []
    },
    {
      "cell_type": "code",
      "source": [
        "# 데이터 로드\n",
        "train_df = pd.read_excel('https://github.com/cranberryai/todak_todak_python/blob/master/machine_learning/binary_classification/%E1%84%90%E1%85%A1%E1%84%8B%E1%85%B5%E1%84%90%E1%85%A1%E1%84%82%E1%85%B5%E1%86%A8_b0fdSDZ.xlsx?raw=true', sheet_name='train')\n",
        "test_df = pd.read_excel('https://github.com/cranberryai/todak_todak_python/blob/master/machine_learning/binary_classification/%E1%84%90%E1%85%A1%E1%84%8B%E1%85%B5%E1%84%90%E1%85%A1%E1%84%82%E1%85%B5%E1%86%A8_b0fdSDZ.xlsx?raw=true', sheet_name='test')\n"
      ],
      "metadata": {
        "id": "n8oEX1wGrldK"
      },
      "execution_count": null,
      "outputs": []
    },
    {
      "cell_type": "code",
      "source": [
        "train_df.head()"
      ],
      "metadata": {
        "colab": {
          "base_uri": "https://localhost:8080/",
          "height": 206
        },
        "id": "gp-Lyo0ormza",
        "outputId": "ba28f72f-0be1-4092-f0c2-4cd5e2da6fe0"
      },
      "execution_count": null,
      "outputs": [
        {
          "output_type": "execute_result",
          "data": {
            "text/plain": [
              "   pclass                            name     sex  age  sibsp  parch   ticket  \\\n",
              "0       2           Lehmann, Miss. Bertha  Female   17      0      0  SC 1748   \n",
              "1       3  Laitinen, Miss. Kristina Sofia  Female   37      0      0     4135   \n",
              "2       3     Rosblom, Mr. Viktor Richard    Male   18      1      1   370129   \n",
              "3       3               Karaic, Mr. Milan    Male   30      0      0   349246   \n",
              "4       3         Moen, Mr. Sigurd Hansen    Male   25      0      0   348123   \n",
              "\n",
              "    fare embarked  survival  \n",
              "0  12.00        C         1  \n",
              "1   9.59        S         0  \n",
              "2  20.21        S         0  \n",
              "3   7.90        S         0  \n",
              "4   7.65        S         0  "
            ],
            "text/html": [
              "\n",
              "  <div id=\"df-d07218d2-4011-4860-934d-c54d6f1114b5\" class=\"colab-df-container\">\n",
              "    <div>\n",
              "<style scoped>\n",
              "    .dataframe tbody tr th:only-of-type {\n",
              "        vertical-align: middle;\n",
              "    }\n",
              "\n",
              "    .dataframe tbody tr th {\n",
              "        vertical-align: top;\n",
              "    }\n",
              "\n",
              "    .dataframe thead th {\n",
              "        text-align: right;\n",
              "    }\n",
              "</style>\n",
              "<table border=\"1\" class=\"dataframe\">\n",
              "  <thead>\n",
              "    <tr style=\"text-align: right;\">\n",
              "      <th></th>\n",
              "      <th>pclass</th>\n",
              "      <th>name</th>\n",
              "      <th>sex</th>\n",
              "      <th>age</th>\n",
              "      <th>sibsp</th>\n",
              "      <th>parch</th>\n",
              "      <th>ticket</th>\n",
              "      <th>fare</th>\n",
              "      <th>embarked</th>\n",
              "      <th>survival</th>\n",
              "    </tr>\n",
              "  </thead>\n",
              "  <tbody>\n",
              "    <tr>\n",
              "      <th>0</th>\n",
              "      <td>2</td>\n",
              "      <td>Lehmann, Miss. Bertha</td>\n",
              "      <td>Female</td>\n",
              "      <td>17</td>\n",
              "      <td>0</td>\n",
              "      <td>0</td>\n",
              "      <td>SC 1748</td>\n",
              "      <td>12.00</td>\n",
              "      <td>C</td>\n",
              "      <td>1</td>\n",
              "    </tr>\n",
              "    <tr>\n",
              "      <th>1</th>\n",
              "      <td>3</td>\n",
              "      <td>Laitinen, Miss. Kristina Sofia</td>\n",
              "      <td>Female</td>\n",
              "      <td>37</td>\n",
              "      <td>0</td>\n",
              "      <td>0</td>\n",
              "      <td>4135</td>\n",
              "      <td>9.59</td>\n",
              "      <td>S</td>\n",
              "      <td>0</td>\n",
              "    </tr>\n",
              "    <tr>\n",
              "      <th>2</th>\n",
              "      <td>3</td>\n",
              "      <td>Rosblom, Mr. Viktor Richard</td>\n",
              "      <td>Male</td>\n",
              "      <td>18</td>\n",
              "      <td>1</td>\n",
              "      <td>1</td>\n",
              "      <td>370129</td>\n",
              "      <td>20.21</td>\n",
              "      <td>S</td>\n",
              "      <td>0</td>\n",
              "    </tr>\n",
              "    <tr>\n",
              "      <th>3</th>\n",
              "      <td>3</td>\n",
              "      <td>Karaic, Mr. Milan</td>\n",
              "      <td>Male</td>\n",
              "      <td>30</td>\n",
              "      <td>0</td>\n",
              "      <td>0</td>\n",
              "      <td>349246</td>\n",
              "      <td>7.90</td>\n",
              "      <td>S</td>\n",
              "      <td>0</td>\n",
              "    </tr>\n",
              "    <tr>\n",
              "      <th>4</th>\n",
              "      <td>3</td>\n",
              "      <td>Moen, Mr. Sigurd Hansen</td>\n",
              "      <td>Male</td>\n",
              "      <td>25</td>\n",
              "      <td>0</td>\n",
              "      <td>0</td>\n",
              "      <td>348123</td>\n",
              "      <td>7.65</td>\n",
              "      <td>S</td>\n",
              "      <td>0</td>\n",
              "    </tr>\n",
              "  </tbody>\n",
              "</table>\n",
              "</div>\n",
              "    <div class=\"colab-df-buttons\">\n",
              "\n",
              "  <div class=\"colab-df-container\">\n",
              "    <button class=\"colab-df-convert\" onclick=\"convertToInteractive('df-d07218d2-4011-4860-934d-c54d6f1114b5')\"\n",
              "            title=\"Convert this dataframe to an interactive table.\"\n",
              "            style=\"display:none;\">\n",
              "\n",
              "  <svg xmlns=\"http://www.w3.org/2000/svg\" height=\"24px\" viewBox=\"0 -960 960 960\">\n",
              "    <path d=\"M120-120v-720h720v720H120Zm60-500h600v-160H180v160Zm220 220h160v-160H400v160Zm0 220h160v-160H400v160ZM180-400h160v-160H180v160Zm440 0h160v-160H620v160ZM180-180h160v-160H180v160Zm440 0h160v-160H620v160Z\"/>\n",
              "  </svg>\n",
              "    </button>\n",
              "\n",
              "  <style>\n",
              "    .colab-df-container {\n",
              "      display:flex;\n",
              "      gap: 12px;\n",
              "    }\n",
              "\n",
              "    .colab-df-convert {\n",
              "      background-color: #E8F0FE;\n",
              "      border: none;\n",
              "      border-radius: 50%;\n",
              "      cursor: pointer;\n",
              "      display: none;\n",
              "      fill: #1967D2;\n",
              "      height: 32px;\n",
              "      padding: 0 0 0 0;\n",
              "      width: 32px;\n",
              "    }\n",
              "\n",
              "    .colab-df-convert:hover {\n",
              "      background-color: #E2EBFA;\n",
              "      box-shadow: 0px 1px 2px rgba(60, 64, 67, 0.3), 0px 1px 3px 1px rgba(60, 64, 67, 0.15);\n",
              "      fill: #174EA6;\n",
              "    }\n",
              "\n",
              "    .colab-df-buttons div {\n",
              "      margin-bottom: 4px;\n",
              "    }\n",
              "\n",
              "    [theme=dark] .colab-df-convert {\n",
              "      background-color: #3B4455;\n",
              "      fill: #D2E3FC;\n",
              "    }\n",
              "\n",
              "    [theme=dark] .colab-df-convert:hover {\n",
              "      background-color: #434B5C;\n",
              "      box-shadow: 0px 1px 3px 1px rgba(0, 0, 0, 0.15);\n",
              "      filter: drop-shadow(0px 1px 2px rgba(0, 0, 0, 0.3));\n",
              "      fill: #FFFFFF;\n",
              "    }\n",
              "  </style>\n",
              "\n",
              "    <script>\n",
              "      const buttonEl =\n",
              "        document.querySelector('#df-d07218d2-4011-4860-934d-c54d6f1114b5 button.colab-df-convert');\n",
              "      buttonEl.style.display =\n",
              "        google.colab.kernel.accessAllowed ? 'block' : 'none';\n",
              "\n",
              "      async function convertToInteractive(key) {\n",
              "        const element = document.querySelector('#df-d07218d2-4011-4860-934d-c54d6f1114b5');\n",
              "        const dataTable =\n",
              "          await google.colab.kernel.invokeFunction('convertToInteractive',\n",
              "                                                    [key], {});\n",
              "        if (!dataTable) return;\n",
              "\n",
              "        const docLinkHtml = 'Like what you see? Visit the ' +\n",
              "          '<a target=\"_blank\" href=https://colab.research.google.com/notebooks/data_table.ipynb>data table notebook</a>'\n",
              "          + ' to learn more about interactive tables.';\n",
              "        element.innerHTML = '';\n",
              "        dataTable['output_type'] = 'display_data';\n",
              "        await google.colab.output.renderOutput(dataTable, element);\n",
              "        const docLink = document.createElement('div');\n",
              "        docLink.innerHTML = docLinkHtml;\n",
              "        element.appendChild(docLink);\n",
              "      }\n",
              "    </script>\n",
              "  </div>\n",
              "\n",
              "\n",
              "<div id=\"df-ab069758-7400-431d-bd89-b91f216966fc\">\n",
              "  <button class=\"colab-df-quickchart\" onclick=\"quickchart('df-ab069758-7400-431d-bd89-b91f216966fc')\"\n",
              "            title=\"Suggest charts\"\n",
              "            style=\"display:none;\">\n",
              "\n",
              "<svg xmlns=\"http://www.w3.org/2000/svg\" height=\"24px\"viewBox=\"0 0 24 24\"\n",
              "     width=\"24px\">\n",
              "    <g>\n",
              "        <path d=\"M19 3H5c-1.1 0-2 .9-2 2v14c0 1.1.9 2 2 2h14c1.1 0 2-.9 2-2V5c0-1.1-.9-2-2-2zM9 17H7v-7h2v7zm4 0h-2V7h2v10zm4 0h-2v-4h2v4z\"/>\n",
              "    </g>\n",
              "</svg>\n",
              "  </button>\n",
              "\n",
              "<style>\n",
              "  .colab-df-quickchart {\n",
              "      --bg-color: #E8F0FE;\n",
              "      --fill-color: #1967D2;\n",
              "      --hover-bg-color: #E2EBFA;\n",
              "      --hover-fill-color: #174EA6;\n",
              "      --disabled-fill-color: #AAA;\n",
              "      --disabled-bg-color: #DDD;\n",
              "  }\n",
              "\n",
              "  [theme=dark] .colab-df-quickchart {\n",
              "      --bg-color: #3B4455;\n",
              "      --fill-color: #D2E3FC;\n",
              "      --hover-bg-color: #434B5C;\n",
              "      --hover-fill-color: #FFFFFF;\n",
              "      --disabled-bg-color: #3B4455;\n",
              "      --disabled-fill-color: #666;\n",
              "  }\n",
              "\n",
              "  .colab-df-quickchart {\n",
              "    background-color: var(--bg-color);\n",
              "    border: none;\n",
              "    border-radius: 50%;\n",
              "    cursor: pointer;\n",
              "    display: none;\n",
              "    fill: var(--fill-color);\n",
              "    height: 32px;\n",
              "    padding: 0;\n",
              "    width: 32px;\n",
              "  }\n",
              "\n",
              "  .colab-df-quickchart:hover {\n",
              "    background-color: var(--hover-bg-color);\n",
              "    box-shadow: 0 1px 2px rgba(60, 64, 67, 0.3), 0 1px 3px 1px rgba(60, 64, 67, 0.15);\n",
              "    fill: var(--button-hover-fill-color);\n",
              "  }\n",
              "\n",
              "  .colab-df-quickchart-complete:disabled,\n",
              "  .colab-df-quickchart-complete:disabled:hover {\n",
              "    background-color: var(--disabled-bg-color);\n",
              "    fill: var(--disabled-fill-color);\n",
              "    box-shadow: none;\n",
              "  }\n",
              "\n",
              "  .colab-df-spinner {\n",
              "    border: 2px solid var(--fill-color);\n",
              "    border-color: transparent;\n",
              "    border-bottom-color: var(--fill-color);\n",
              "    animation:\n",
              "      spin 1s steps(1) infinite;\n",
              "  }\n",
              "\n",
              "  @keyframes spin {\n",
              "    0% {\n",
              "      border-color: transparent;\n",
              "      border-bottom-color: var(--fill-color);\n",
              "      border-left-color: var(--fill-color);\n",
              "    }\n",
              "    20% {\n",
              "      border-color: transparent;\n",
              "      border-left-color: var(--fill-color);\n",
              "      border-top-color: var(--fill-color);\n",
              "    }\n",
              "    30% {\n",
              "      border-color: transparent;\n",
              "      border-left-color: var(--fill-color);\n",
              "      border-top-color: var(--fill-color);\n",
              "      border-right-color: var(--fill-color);\n",
              "    }\n",
              "    40% {\n",
              "      border-color: transparent;\n",
              "      border-right-color: var(--fill-color);\n",
              "      border-top-color: var(--fill-color);\n",
              "    }\n",
              "    60% {\n",
              "      border-color: transparent;\n",
              "      border-right-color: var(--fill-color);\n",
              "    }\n",
              "    80% {\n",
              "      border-color: transparent;\n",
              "      border-right-color: var(--fill-color);\n",
              "      border-bottom-color: var(--fill-color);\n",
              "    }\n",
              "    90% {\n",
              "      border-color: transparent;\n",
              "      border-bottom-color: var(--fill-color);\n",
              "    }\n",
              "  }\n",
              "</style>\n",
              "\n",
              "  <script>\n",
              "    async function quickchart(key) {\n",
              "      const quickchartButtonEl =\n",
              "        document.querySelector('#' + key + ' button');\n",
              "      quickchartButtonEl.disabled = true;  // To prevent multiple clicks.\n",
              "      quickchartButtonEl.classList.add('colab-df-spinner');\n",
              "      try {\n",
              "        const charts = await google.colab.kernel.invokeFunction(\n",
              "            'suggestCharts', [key], {});\n",
              "      } catch (error) {\n",
              "        console.error('Error during call to suggestCharts:', error);\n",
              "      }\n",
              "      quickchartButtonEl.classList.remove('colab-df-spinner');\n",
              "      quickchartButtonEl.classList.add('colab-df-quickchart-complete');\n",
              "    }\n",
              "    (() => {\n",
              "      let quickchartButtonEl =\n",
              "        document.querySelector('#df-ab069758-7400-431d-bd89-b91f216966fc button');\n",
              "      quickchartButtonEl.style.display =\n",
              "        google.colab.kernel.accessAllowed ? 'block' : 'none';\n",
              "    })();\n",
              "  </script>\n",
              "</div>\n",
              "\n",
              "    </div>\n",
              "  </div>\n"
            ]
          },
          "metadata": {},
          "execution_count": 7
        }
      ]
    },
    {
      "cell_type": "code",
      "source": [
        "labels = ['사망', '생존']"
      ],
      "metadata": {
        "id": "zx8LeJfurpYg"
      },
      "execution_count": null,
      "outputs": []
    },
    {
      "cell_type": "code",
      "source": [
        "# survival 변수와의 연관성 EDA 후에 아래 작업을 실행\n",
        "# 불필요한 변수를 제거하고 survival는 y값으로 사용해야 하니 제거\n",
        "x_train = train_df.drop(['name', 'ticket', 'survival'], axis=1)\n",
        "x_test = test_df.drop(['name', 'ticket', 'survival'], axis=1)"
      ],
      "metadata": {
        "id": "9fPJkT6vrqnL"
      },
      "execution_count": null,
      "outputs": []
    },
    {
      "cell_type": "code",
      "source": [
        "x_train.head()"
      ],
      "metadata": {
        "colab": {
          "base_uri": "https://localhost:8080/",
          "height": 206
        },
        "id": "KS1ePrC1rr-A",
        "outputId": "24459ec3-847b-48a8-a785-a7b3b004278c"
      },
      "execution_count": null,
      "outputs": [
        {
          "output_type": "execute_result",
          "data": {
            "text/plain": [
              "   pclass     sex  age  sibsp  parch   fare embarked\n",
              "0       2  Female   17      0      0  12.00        C\n",
              "1       3  Female   37      0      0   9.59        S\n",
              "2       3    Male   18      1      1  20.21        S\n",
              "3       3    Male   30      0      0   7.90        S\n",
              "4       3    Male   25      0      0   7.65        S"
            ],
            "text/html": [
              "\n",
              "  <div id=\"df-152ad484-d9b8-4a3e-8016-0d588298f31f\" class=\"colab-df-container\">\n",
              "    <div>\n",
              "<style scoped>\n",
              "    .dataframe tbody tr th:only-of-type {\n",
              "        vertical-align: middle;\n",
              "    }\n",
              "\n",
              "    .dataframe tbody tr th {\n",
              "        vertical-align: top;\n",
              "    }\n",
              "\n",
              "    .dataframe thead th {\n",
              "        text-align: right;\n",
              "    }\n",
              "</style>\n",
              "<table border=\"1\" class=\"dataframe\">\n",
              "  <thead>\n",
              "    <tr style=\"text-align: right;\">\n",
              "      <th></th>\n",
              "      <th>pclass</th>\n",
              "      <th>sex</th>\n",
              "      <th>age</th>\n",
              "      <th>sibsp</th>\n",
              "      <th>parch</th>\n",
              "      <th>fare</th>\n",
              "      <th>embarked</th>\n",
              "    </tr>\n",
              "  </thead>\n",
              "  <tbody>\n",
              "    <tr>\n",
              "      <th>0</th>\n",
              "      <td>2</td>\n",
              "      <td>Female</td>\n",
              "      <td>17</td>\n",
              "      <td>0</td>\n",
              "      <td>0</td>\n",
              "      <td>12.00</td>\n",
              "      <td>C</td>\n",
              "    </tr>\n",
              "    <tr>\n",
              "      <th>1</th>\n",
              "      <td>3</td>\n",
              "      <td>Female</td>\n",
              "      <td>37</td>\n",
              "      <td>0</td>\n",
              "      <td>0</td>\n",
              "      <td>9.59</td>\n",
              "      <td>S</td>\n",
              "    </tr>\n",
              "    <tr>\n",
              "      <th>2</th>\n",
              "      <td>3</td>\n",
              "      <td>Male</td>\n",
              "      <td>18</td>\n",
              "      <td>1</td>\n",
              "      <td>1</td>\n",
              "      <td>20.21</td>\n",
              "      <td>S</td>\n",
              "    </tr>\n",
              "    <tr>\n",
              "      <th>3</th>\n",
              "      <td>3</td>\n",
              "      <td>Male</td>\n",
              "      <td>30</td>\n",
              "      <td>0</td>\n",
              "      <td>0</td>\n",
              "      <td>7.90</td>\n",
              "      <td>S</td>\n",
              "    </tr>\n",
              "    <tr>\n",
              "      <th>4</th>\n",
              "      <td>3</td>\n",
              "      <td>Male</td>\n",
              "      <td>25</td>\n",
              "      <td>0</td>\n",
              "      <td>0</td>\n",
              "      <td>7.65</td>\n",
              "      <td>S</td>\n",
              "    </tr>\n",
              "  </tbody>\n",
              "</table>\n",
              "</div>\n",
              "    <div class=\"colab-df-buttons\">\n",
              "\n",
              "  <div class=\"colab-df-container\">\n",
              "    <button class=\"colab-df-convert\" onclick=\"convertToInteractive('df-152ad484-d9b8-4a3e-8016-0d588298f31f')\"\n",
              "            title=\"Convert this dataframe to an interactive table.\"\n",
              "            style=\"display:none;\">\n",
              "\n",
              "  <svg xmlns=\"http://www.w3.org/2000/svg\" height=\"24px\" viewBox=\"0 -960 960 960\">\n",
              "    <path d=\"M120-120v-720h720v720H120Zm60-500h600v-160H180v160Zm220 220h160v-160H400v160Zm0 220h160v-160H400v160ZM180-400h160v-160H180v160Zm440 0h160v-160H620v160ZM180-180h160v-160H180v160Zm440 0h160v-160H620v160Z\"/>\n",
              "  </svg>\n",
              "    </button>\n",
              "\n",
              "  <style>\n",
              "    .colab-df-container {\n",
              "      display:flex;\n",
              "      gap: 12px;\n",
              "    }\n",
              "\n",
              "    .colab-df-convert {\n",
              "      background-color: #E8F0FE;\n",
              "      border: none;\n",
              "      border-radius: 50%;\n",
              "      cursor: pointer;\n",
              "      display: none;\n",
              "      fill: #1967D2;\n",
              "      height: 32px;\n",
              "      padding: 0 0 0 0;\n",
              "      width: 32px;\n",
              "    }\n",
              "\n",
              "    .colab-df-convert:hover {\n",
              "      background-color: #E2EBFA;\n",
              "      box-shadow: 0px 1px 2px rgba(60, 64, 67, 0.3), 0px 1px 3px 1px rgba(60, 64, 67, 0.15);\n",
              "      fill: #174EA6;\n",
              "    }\n",
              "\n",
              "    .colab-df-buttons div {\n",
              "      margin-bottom: 4px;\n",
              "    }\n",
              "\n",
              "    [theme=dark] .colab-df-convert {\n",
              "      background-color: #3B4455;\n",
              "      fill: #D2E3FC;\n",
              "    }\n",
              "\n",
              "    [theme=dark] .colab-df-convert:hover {\n",
              "      background-color: #434B5C;\n",
              "      box-shadow: 0px 1px 3px 1px rgba(0, 0, 0, 0.15);\n",
              "      filter: drop-shadow(0px 1px 2px rgba(0, 0, 0, 0.3));\n",
              "      fill: #FFFFFF;\n",
              "    }\n",
              "  </style>\n",
              "\n",
              "    <script>\n",
              "      const buttonEl =\n",
              "        document.querySelector('#df-152ad484-d9b8-4a3e-8016-0d588298f31f button.colab-df-convert');\n",
              "      buttonEl.style.display =\n",
              "        google.colab.kernel.accessAllowed ? 'block' : 'none';\n",
              "\n",
              "      async function convertToInteractive(key) {\n",
              "        const element = document.querySelector('#df-152ad484-d9b8-4a3e-8016-0d588298f31f');\n",
              "        const dataTable =\n",
              "          await google.colab.kernel.invokeFunction('convertToInteractive',\n",
              "                                                    [key], {});\n",
              "        if (!dataTable) return;\n",
              "\n",
              "        const docLinkHtml = 'Like what you see? Visit the ' +\n",
              "          '<a target=\"_blank\" href=https://colab.research.google.com/notebooks/data_table.ipynb>data table notebook</a>'\n",
              "          + ' to learn more about interactive tables.';\n",
              "        element.innerHTML = '';\n",
              "        dataTable['output_type'] = 'display_data';\n",
              "        await google.colab.output.renderOutput(dataTable, element);\n",
              "        const docLink = document.createElement('div');\n",
              "        docLink.innerHTML = docLinkHtml;\n",
              "        element.appendChild(docLink);\n",
              "      }\n",
              "    </script>\n",
              "  </div>\n",
              "\n",
              "\n",
              "<div id=\"df-2ee1187d-d30b-4f66-ad53-ed9e8dff6efe\">\n",
              "  <button class=\"colab-df-quickchart\" onclick=\"quickchart('df-2ee1187d-d30b-4f66-ad53-ed9e8dff6efe')\"\n",
              "            title=\"Suggest charts\"\n",
              "            style=\"display:none;\">\n",
              "\n",
              "<svg xmlns=\"http://www.w3.org/2000/svg\" height=\"24px\"viewBox=\"0 0 24 24\"\n",
              "     width=\"24px\">\n",
              "    <g>\n",
              "        <path d=\"M19 3H5c-1.1 0-2 .9-2 2v14c0 1.1.9 2 2 2h14c1.1 0 2-.9 2-2V5c0-1.1-.9-2-2-2zM9 17H7v-7h2v7zm4 0h-2V7h2v10zm4 0h-2v-4h2v4z\"/>\n",
              "    </g>\n",
              "</svg>\n",
              "  </button>\n",
              "\n",
              "<style>\n",
              "  .colab-df-quickchart {\n",
              "      --bg-color: #E8F0FE;\n",
              "      --fill-color: #1967D2;\n",
              "      --hover-bg-color: #E2EBFA;\n",
              "      --hover-fill-color: #174EA6;\n",
              "      --disabled-fill-color: #AAA;\n",
              "      --disabled-bg-color: #DDD;\n",
              "  }\n",
              "\n",
              "  [theme=dark] .colab-df-quickchart {\n",
              "      --bg-color: #3B4455;\n",
              "      --fill-color: #D2E3FC;\n",
              "      --hover-bg-color: #434B5C;\n",
              "      --hover-fill-color: #FFFFFF;\n",
              "      --disabled-bg-color: #3B4455;\n",
              "      --disabled-fill-color: #666;\n",
              "  }\n",
              "\n",
              "  .colab-df-quickchart {\n",
              "    background-color: var(--bg-color);\n",
              "    border: none;\n",
              "    border-radius: 50%;\n",
              "    cursor: pointer;\n",
              "    display: none;\n",
              "    fill: var(--fill-color);\n",
              "    height: 32px;\n",
              "    padding: 0;\n",
              "    width: 32px;\n",
              "  }\n",
              "\n",
              "  .colab-df-quickchart:hover {\n",
              "    background-color: var(--hover-bg-color);\n",
              "    box-shadow: 0 1px 2px rgba(60, 64, 67, 0.3), 0 1px 3px 1px rgba(60, 64, 67, 0.15);\n",
              "    fill: var(--button-hover-fill-color);\n",
              "  }\n",
              "\n",
              "  .colab-df-quickchart-complete:disabled,\n",
              "  .colab-df-quickchart-complete:disabled:hover {\n",
              "    background-color: var(--disabled-bg-color);\n",
              "    fill: var(--disabled-fill-color);\n",
              "    box-shadow: none;\n",
              "  }\n",
              "\n",
              "  .colab-df-spinner {\n",
              "    border: 2px solid var(--fill-color);\n",
              "    border-color: transparent;\n",
              "    border-bottom-color: var(--fill-color);\n",
              "    animation:\n",
              "      spin 1s steps(1) infinite;\n",
              "  }\n",
              "\n",
              "  @keyframes spin {\n",
              "    0% {\n",
              "      border-color: transparent;\n",
              "      border-bottom-color: var(--fill-color);\n",
              "      border-left-color: var(--fill-color);\n",
              "    }\n",
              "    20% {\n",
              "      border-color: transparent;\n",
              "      border-left-color: var(--fill-color);\n",
              "      border-top-color: var(--fill-color);\n",
              "    }\n",
              "    30% {\n",
              "      border-color: transparent;\n",
              "      border-left-color: var(--fill-color);\n",
              "      border-top-color: var(--fill-color);\n",
              "      border-right-color: var(--fill-color);\n",
              "    }\n",
              "    40% {\n",
              "      border-color: transparent;\n",
              "      border-right-color: var(--fill-color);\n",
              "      border-top-color: var(--fill-color);\n",
              "    }\n",
              "    60% {\n",
              "      border-color: transparent;\n",
              "      border-right-color: var(--fill-color);\n",
              "    }\n",
              "    80% {\n",
              "      border-color: transparent;\n",
              "      border-right-color: var(--fill-color);\n",
              "      border-bottom-color: var(--fill-color);\n",
              "    }\n",
              "    90% {\n",
              "      border-color: transparent;\n",
              "      border-bottom-color: var(--fill-color);\n",
              "    }\n",
              "  }\n",
              "</style>\n",
              "\n",
              "  <script>\n",
              "    async function quickchart(key) {\n",
              "      const quickchartButtonEl =\n",
              "        document.querySelector('#' + key + ' button');\n",
              "      quickchartButtonEl.disabled = true;  // To prevent multiple clicks.\n",
              "      quickchartButtonEl.classList.add('colab-df-spinner');\n",
              "      try {\n",
              "        const charts = await google.colab.kernel.invokeFunction(\n",
              "            'suggestCharts', [key], {});\n",
              "      } catch (error) {\n",
              "        console.error('Error during call to suggestCharts:', error);\n",
              "      }\n",
              "      quickchartButtonEl.classList.remove('colab-df-spinner');\n",
              "      quickchartButtonEl.classList.add('colab-df-quickchart-complete');\n",
              "    }\n",
              "    (() => {\n",
              "      let quickchartButtonEl =\n",
              "        document.querySelector('#df-2ee1187d-d30b-4f66-ad53-ed9e8dff6efe button');\n",
              "      quickchartButtonEl.style.display =\n",
              "        google.colab.kernel.accessAllowed ? 'block' : 'none';\n",
              "    })();\n",
              "  </script>\n",
              "</div>\n",
              "\n",
              "    </div>\n",
              "  </div>\n"
            ]
          },
          "metadata": {},
          "execution_count": 10
        }
      ]
    },
    {
      "cell_type": "code",
      "source": [
        "x_test.head()"
      ],
      "metadata": {
        "colab": {
          "base_uri": "https://localhost:8080/",
          "height": 206
        },
        "id": "wuyPOtGXrtgP",
        "outputId": "4c90c69a-68cc-4572-bb6b-6bf3a18d5a34"
      },
      "execution_count": null,
      "outputs": [
        {
          "output_type": "execute_result",
          "data": {
            "text/plain": [
              "   pclass     sex  age  sibsp  parch    fare embarked\n",
              "0       2  Female   21      0      1   21.00        S\n",
              "1       3    Male   35      0      0    7.05        S\n",
              "2       1    Male   45      1      1  134.50        C\n",
              "3       2    Male   40      0      0   16.00        S\n",
              "4       1  Female   55      2      0   25.70        S"
            ],
            "text/html": [
              "\n",
              "  <div id=\"df-efb664d5-fe28-42b4-90d2-85349f37d85e\" class=\"colab-df-container\">\n",
              "    <div>\n",
              "<style scoped>\n",
              "    .dataframe tbody tr th:only-of-type {\n",
              "        vertical-align: middle;\n",
              "    }\n",
              "\n",
              "    .dataframe tbody tr th {\n",
              "        vertical-align: top;\n",
              "    }\n",
              "\n",
              "    .dataframe thead th {\n",
              "        text-align: right;\n",
              "    }\n",
              "</style>\n",
              "<table border=\"1\" class=\"dataframe\">\n",
              "  <thead>\n",
              "    <tr style=\"text-align: right;\">\n",
              "      <th></th>\n",
              "      <th>pclass</th>\n",
              "      <th>sex</th>\n",
              "      <th>age</th>\n",
              "      <th>sibsp</th>\n",
              "      <th>parch</th>\n",
              "      <th>fare</th>\n",
              "      <th>embarked</th>\n",
              "    </tr>\n",
              "  </thead>\n",
              "  <tbody>\n",
              "    <tr>\n",
              "      <th>0</th>\n",
              "      <td>2</td>\n",
              "      <td>Female</td>\n",
              "      <td>21</td>\n",
              "      <td>0</td>\n",
              "      <td>1</td>\n",
              "      <td>21.00</td>\n",
              "      <td>S</td>\n",
              "    </tr>\n",
              "    <tr>\n",
              "      <th>1</th>\n",
              "      <td>3</td>\n",
              "      <td>Male</td>\n",
              "      <td>35</td>\n",
              "      <td>0</td>\n",
              "      <td>0</td>\n",
              "      <td>7.05</td>\n",
              "      <td>S</td>\n",
              "    </tr>\n",
              "    <tr>\n",
              "      <th>2</th>\n",
              "      <td>1</td>\n",
              "      <td>Male</td>\n",
              "      <td>45</td>\n",
              "      <td>1</td>\n",
              "      <td>1</td>\n",
              "      <td>134.50</td>\n",
              "      <td>C</td>\n",
              "    </tr>\n",
              "    <tr>\n",
              "      <th>3</th>\n",
              "      <td>2</td>\n",
              "      <td>Male</td>\n",
              "      <td>40</td>\n",
              "      <td>0</td>\n",
              "      <td>0</td>\n",
              "      <td>16.00</td>\n",
              "      <td>S</td>\n",
              "    </tr>\n",
              "    <tr>\n",
              "      <th>4</th>\n",
              "      <td>1</td>\n",
              "      <td>Female</td>\n",
              "      <td>55</td>\n",
              "      <td>2</td>\n",
              "      <td>0</td>\n",
              "      <td>25.70</td>\n",
              "      <td>S</td>\n",
              "    </tr>\n",
              "  </tbody>\n",
              "</table>\n",
              "</div>\n",
              "    <div class=\"colab-df-buttons\">\n",
              "\n",
              "  <div class=\"colab-df-container\">\n",
              "    <button class=\"colab-df-convert\" onclick=\"convertToInteractive('df-efb664d5-fe28-42b4-90d2-85349f37d85e')\"\n",
              "            title=\"Convert this dataframe to an interactive table.\"\n",
              "            style=\"display:none;\">\n",
              "\n",
              "  <svg xmlns=\"http://www.w3.org/2000/svg\" height=\"24px\" viewBox=\"0 -960 960 960\">\n",
              "    <path d=\"M120-120v-720h720v720H120Zm60-500h600v-160H180v160Zm220 220h160v-160H400v160Zm0 220h160v-160H400v160ZM180-400h160v-160H180v160Zm440 0h160v-160H620v160ZM180-180h160v-160H180v160Zm440 0h160v-160H620v160Z\"/>\n",
              "  </svg>\n",
              "    </button>\n",
              "\n",
              "  <style>\n",
              "    .colab-df-container {\n",
              "      display:flex;\n",
              "      gap: 12px;\n",
              "    }\n",
              "\n",
              "    .colab-df-convert {\n",
              "      background-color: #E8F0FE;\n",
              "      border: none;\n",
              "      border-radius: 50%;\n",
              "      cursor: pointer;\n",
              "      display: none;\n",
              "      fill: #1967D2;\n",
              "      height: 32px;\n",
              "      padding: 0 0 0 0;\n",
              "      width: 32px;\n",
              "    }\n",
              "\n",
              "    .colab-df-convert:hover {\n",
              "      background-color: #E2EBFA;\n",
              "      box-shadow: 0px 1px 2px rgba(60, 64, 67, 0.3), 0px 1px 3px 1px rgba(60, 64, 67, 0.15);\n",
              "      fill: #174EA6;\n",
              "    }\n",
              "\n",
              "    .colab-df-buttons div {\n",
              "      margin-bottom: 4px;\n",
              "    }\n",
              "\n",
              "    [theme=dark] .colab-df-convert {\n",
              "      background-color: #3B4455;\n",
              "      fill: #D2E3FC;\n",
              "    }\n",
              "\n",
              "    [theme=dark] .colab-df-convert:hover {\n",
              "      background-color: #434B5C;\n",
              "      box-shadow: 0px 1px 3px 1px rgba(0, 0, 0, 0.15);\n",
              "      filter: drop-shadow(0px 1px 2px rgba(0, 0, 0, 0.3));\n",
              "      fill: #FFFFFF;\n",
              "    }\n",
              "  </style>\n",
              "\n",
              "    <script>\n",
              "      const buttonEl =\n",
              "        document.querySelector('#df-efb664d5-fe28-42b4-90d2-85349f37d85e button.colab-df-convert');\n",
              "      buttonEl.style.display =\n",
              "        google.colab.kernel.accessAllowed ? 'block' : 'none';\n",
              "\n",
              "      async function convertToInteractive(key) {\n",
              "        const element = document.querySelector('#df-efb664d5-fe28-42b4-90d2-85349f37d85e');\n",
              "        const dataTable =\n",
              "          await google.colab.kernel.invokeFunction('convertToInteractive',\n",
              "                                                    [key], {});\n",
              "        if (!dataTable) return;\n",
              "\n",
              "        const docLinkHtml = 'Like what you see? Visit the ' +\n",
              "          '<a target=\"_blank\" href=https://colab.research.google.com/notebooks/data_table.ipynb>data table notebook</a>'\n",
              "          + ' to learn more about interactive tables.';\n",
              "        element.innerHTML = '';\n",
              "        dataTable['output_type'] = 'display_data';\n",
              "        await google.colab.output.renderOutput(dataTable, element);\n",
              "        const docLink = document.createElement('div');\n",
              "        docLink.innerHTML = docLinkHtml;\n",
              "        element.appendChild(docLink);\n",
              "      }\n",
              "    </script>\n",
              "  </div>\n",
              "\n",
              "\n",
              "<div id=\"df-f1310729-6e73-4996-8282-cade64a5b922\">\n",
              "  <button class=\"colab-df-quickchart\" onclick=\"quickchart('df-f1310729-6e73-4996-8282-cade64a5b922')\"\n",
              "            title=\"Suggest charts\"\n",
              "            style=\"display:none;\">\n",
              "\n",
              "<svg xmlns=\"http://www.w3.org/2000/svg\" height=\"24px\"viewBox=\"0 0 24 24\"\n",
              "     width=\"24px\">\n",
              "    <g>\n",
              "        <path d=\"M19 3H5c-1.1 0-2 .9-2 2v14c0 1.1.9 2 2 2h14c1.1 0 2-.9 2-2V5c0-1.1-.9-2-2-2zM9 17H7v-7h2v7zm4 0h-2V7h2v10zm4 0h-2v-4h2v4z\"/>\n",
              "    </g>\n",
              "</svg>\n",
              "  </button>\n",
              "\n",
              "<style>\n",
              "  .colab-df-quickchart {\n",
              "      --bg-color: #E8F0FE;\n",
              "      --fill-color: #1967D2;\n",
              "      --hover-bg-color: #E2EBFA;\n",
              "      --hover-fill-color: #174EA6;\n",
              "      --disabled-fill-color: #AAA;\n",
              "      --disabled-bg-color: #DDD;\n",
              "  }\n",
              "\n",
              "  [theme=dark] .colab-df-quickchart {\n",
              "      --bg-color: #3B4455;\n",
              "      --fill-color: #D2E3FC;\n",
              "      --hover-bg-color: #434B5C;\n",
              "      --hover-fill-color: #FFFFFF;\n",
              "      --disabled-bg-color: #3B4455;\n",
              "      --disabled-fill-color: #666;\n",
              "  }\n",
              "\n",
              "  .colab-df-quickchart {\n",
              "    background-color: var(--bg-color);\n",
              "    border: none;\n",
              "    border-radius: 50%;\n",
              "    cursor: pointer;\n",
              "    display: none;\n",
              "    fill: var(--fill-color);\n",
              "    height: 32px;\n",
              "    padding: 0;\n",
              "    width: 32px;\n",
              "  }\n",
              "\n",
              "  .colab-df-quickchart:hover {\n",
              "    background-color: var(--hover-bg-color);\n",
              "    box-shadow: 0 1px 2px rgba(60, 64, 67, 0.3), 0 1px 3px 1px rgba(60, 64, 67, 0.15);\n",
              "    fill: var(--button-hover-fill-color);\n",
              "  }\n",
              "\n",
              "  .colab-df-quickchart-complete:disabled,\n",
              "  .colab-df-quickchart-complete:disabled:hover {\n",
              "    background-color: var(--disabled-bg-color);\n",
              "    fill: var(--disabled-fill-color);\n",
              "    box-shadow: none;\n",
              "  }\n",
              "\n",
              "  .colab-df-spinner {\n",
              "    border: 2px solid var(--fill-color);\n",
              "    border-color: transparent;\n",
              "    border-bottom-color: var(--fill-color);\n",
              "    animation:\n",
              "      spin 1s steps(1) infinite;\n",
              "  }\n",
              "\n",
              "  @keyframes spin {\n",
              "    0% {\n",
              "      border-color: transparent;\n",
              "      border-bottom-color: var(--fill-color);\n",
              "      border-left-color: var(--fill-color);\n",
              "    }\n",
              "    20% {\n",
              "      border-color: transparent;\n",
              "      border-left-color: var(--fill-color);\n",
              "      border-top-color: var(--fill-color);\n",
              "    }\n",
              "    30% {\n",
              "      border-color: transparent;\n",
              "      border-left-color: var(--fill-color);\n",
              "      border-top-color: var(--fill-color);\n",
              "      border-right-color: var(--fill-color);\n",
              "    }\n",
              "    40% {\n",
              "      border-color: transparent;\n",
              "      border-right-color: var(--fill-color);\n",
              "      border-top-color: var(--fill-color);\n",
              "    }\n",
              "    60% {\n",
              "      border-color: transparent;\n",
              "      border-right-color: var(--fill-color);\n",
              "    }\n",
              "    80% {\n",
              "      border-color: transparent;\n",
              "      border-right-color: var(--fill-color);\n",
              "      border-bottom-color: var(--fill-color);\n",
              "    }\n",
              "    90% {\n",
              "      border-color: transparent;\n",
              "      border-bottom-color: var(--fill-color);\n",
              "    }\n",
              "  }\n",
              "</style>\n",
              "\n",
              "  <script>\n",
              "    async function quickchart(key) {\n",
              "      const quickchartButtonEl =\n",
              "        document.querySelector('#' + key + ' button');\n",
              "      quickchartButtonEl.disabled = true;  // To prevent multiple clicks.\n",
              "      quickchartButtonEl.classList.add('colab-df-spinner');\n",
              "      try {\n",
              "        const charts = await google.colab.kernel.invokeFunction(\n",
              "            'suggestCharts', [key], {});\n",
              "      } catch (error) {\n",
              "        console.error('Error during call to suggestCharts:', error);\n",
              "      }\n",
              "      quickchartButtonEl.classList.remove('colab-df-spinner');\n",
              "      quickchartButtonEl.classList.add('colab-df-quickchart-complete');\n",
              "    }\n",
              "    (() => {\n",
              "      let quickchartButtonEl =\n",
              "        document.querySelector('#df-f1310729-6e73-4996-8282-cade64a5b922 button');\n",
              "      quickchartButtonEl.style.display =\n",
              "        google.colab.kernel.accessAllowed ? 'block' : 'none';\n",
              "    })();\n",
              "  </script>\n",
              "</div>\n",
              "\n",
              "    </div>\n",
              "  </div>\n"
            ]
          },
          "metadata": {},
          "execution_count": 11
        }
      ]
    },
    {
      "cell_type": "code",
      "source": [
        "# 머신러닝에 들어가는 x 데이터는 문자데이터는 안됨.\n",
        "# 벡터데이터야함.\n",
        "# 성별은 Male은 0, Femaie은 1\n",
        "# embarked를 0, 1, 2, 3, 4로 줬을 때 이 값이 순서대로 값의 크기가 의미가 있는가를 고민.\n",
        "# 문자를 단순하게 숫자 0, 1, 2, 3 ...로 작성을 하지 않음. -> one hot 인코딩 작업을 진행\n",
        "# x데이터는 더미변수화, y변수는 원핫인코딩\n",
        "y_train = train_df['survival']\n",
        "y_test = test_df['survival']\n",
        "\n",
        "transformer = make_column_transformer(\n",
        "    (OneHotEncoder(), ['pclass', 'sex', 'embarked']),  # ('pclass', 'sex', 'embarked')에 대해 One-Hot 인코딩을 수행\n",
        "    remainder='passthrough')  # 지정한 열 이외의 열은 변경하지 않고 그대로 유지\n",
        "transformer.fit(x_train)\n",
        "x_train = transformer.transform(x_train)\n",
        "x_test = transformer.transform(x_test)"
      ],
      "metadata": {
        "id": "NlIrOr8NrvWo"
      },
      "execution_count": null,
      "outputs": []
    },
    {
      "cell_type": "code",
      "source": [
        "x_train[0]"
      ],
      "metadata": {
        "colab": {
          "base_uri": "https://localhost:8080/"
        },
        "id": "T3NeUoVsrx-k",
        "outputId": "15673893-81da-43d4-c61e-88eef7afcd68"
      },
      "execution_count": null,
      "outputs": [
        {
          "output_type": "execute_result",
          "data": {
            "text/plain": [
              "array([ 0.,  1.,  0.,  1.,  0.,  1.,  0.,  0., 17.,  0.,  0., 12.])"
            ]
          },
          "metadata": {},
          "execution_count": 13
        }
      ]
    },
    {
      "cell_type": "code",
      "source": [
        "model = LogisticRegression()\n",
        "model.fit(x_train, y_train)"
      ],
      "metadata": {
        "colab": {
          "base_uri": "https://localhost:8080/",
          "height": 220
        },
        "id": "EAPoq7mYrz5m",
        "outputId": "a403a00c-789c-4cf5-f30e-77e5cb8d8836"
      },
      "execution_count": null,
      "outputs": [
        {
          "output_type": "stream",
          "name": "stderr",
          "text": [
            "/usr/local/lib/python3.10/dist-packages/sklearn/linear_model/_logistic.py:458: ConvergenceWarning: lbfgs failed to converge (status=1):\n",
            "STOP: TOTAL NO. of ITERATIONS REACHED LIMIT.\n",
            "\n",
            "Increase the number of iterations (max_iter) or scale the data as shown in:\n",
            "    https://scikit-learn.org/stable/modules/preprocessing.html\n",
            "Please also refer to the documentation for alternative solver options:\n",
            "    https://scikit-learn.org/stable/modules/linear_model.html#logistic-regression\n",
            "  n_iter_i = _check_optimize_result(\n"
          ]
        },
        {
          "output_type": "execute_result",
          "data": {
            "text/plain": [
              "LogisticRegression()"
            ],
            "text/html": [
              "<style>#sk-container-id-1 {color: black;background-color: white;}#sk-container-id-1 pre{padding: 0;}#sk-container-id-1 div.sk-toggleable {background-color: white;}#sk-container-id-1 label.sk-toggleable__label {cursor: pointer;display: block;width: 100%;margin-bottom: 0;padding: 0.3em;box-sizing: border-box;text-align: center;}#sk-container-id-1 label.sk-toggleable__label-arrow:before {content: \"▸\";float: left;margin-right: 0.25em;color: #696969;}#sk-container-id-1 label.sk-toggleable__label-arrow:hover:before {color: black;}#sk-container-id-1 div.sk-estimator:hover label.sk-toggleable__label-arrow:before {color: black;}#sk-container-id-1 div.sk-toggleable__content {max-height: 0;max-width: 0;overflow: hidden;text-align: left;background-color: #f0f8ff;}#sk-container-id-1 div.sk-toggleable__content pre {margin: 0.2em;color: black;border-radius: 0.25em;background-color: #f0f8ff;}#sk-container-id-1 input.sk-toggleable__control:checked~div.sk-toggleable__content {max-height: 200px;max-width: 100%;overflow: auto;}#sk-container-id-1 input.sk-toggleable__control:checked~label.sk-toggleable__label-arrow:before {content: \"▾\";}#sk-container-id-1 div.sk-estimator input.sk-toggleable__control:checked~label.sk-toggleable__label {background-color: #d4ebff;}#sk-container-id-1 div.sk-label input.sk-toggleable__control:checked~label.sk-toggleable__label {background-color: #d4ebff;}#sk-container-id-1 input.sk-hidden--visually {border: 0;clip: rect(1px 1px 1px 1px);clip: rect(1px, 1px, 1px, 1px);height: 1px;margin: -1px;overflow: hidden;padding: 0;position: absolute;width: 1px;}#sk-container-id-1 div.sk-estimator {font-family: monospace;background-color: #f0f8ff;border: 1px dotted black;border-radius: 0.25em;box-sizing: border-box;margin-bottom: 0.5em;}#sk-container-id-1 div.sk-estimator:hover {background-color: #d4ebff;}#sk-container-id-1 div.sk-parallel-item::after {content: \"\";width: 100%;border-bottom: 1px solid gray;flex-grow: 1;}#sk-container-id-1 div.sk-label:hover label.sk-toggleable__label {background-color: #d4ebff;}#sk-container-id-1 div.sk-serial::before {content: \"\";position: absolute;border-left: 1px solid gray;box-sizing: border-box;top: 0;bottom: 0;left: 50%;z-index: 0;}#sk-container-id-1 div.sk-serial {display: flex;flex-direction: column;align-items: center;background-color: white;padding-right: 0.2em;padding-left: 0.2em;position: relative;}#sk-container-id-1 div.sk-item {position: relative;z-index: 1;}#sk-container-id-1 div.sk-parallel {display: flex;align-items: stretch;justify-content: center;background-color: white;position: relative;}#sk-container-id-1 div.sk-item::before, #sk-container-id-1 div.sk-parallel-item::before {content: \"\";position: absolute;border-left: 1px solid gray;box-sizing: border-box;top: 0;bottom: 0;left: 50%;z-index: -1;}#sk-container-id-1 div.sk-parallel-item {display: flex;flex-direction: column;z-index: 1;position: relative;background-color: white;}#sk-container-id-1 div.sk-parallel-item:first-child::after {align-self: flex-end;width: 50%;}#sk-container-id-1 div.sk-parallel-item:last-child::after {align-self: flex-start;width: 50%;}#sk-container-id-1 div.sk-parallel-item:only-child::after {width: 0;}#sk-container-id-1 div.sk-dashed-wrapped {border: 1px dashed gray;margin: 0 0.4em 0.5em 0.4em;box-sizing: border-box;padding-bottom: 0.4em;background-color: white;}#sk-container-id-1 div.sk-label label {font-family: monospace;font-weight: bold;display: inline-block;line-height: 1.2em;}#sk-container-id-1 div.sk-label-container {text-align: center;}#sk-container-id-1 div.sk-container {/* jupyter's `normalize.less` sets `[hidden] { display: none; }` but bootstrap.min.css set `[hidden] { display: none !important; }` so we also need the `!important` here to be able to override the default hidden behavior on the sphinx rendered scikit-learn.org. See: https://github.com/scikit-learn/scikit-learn/issues/21755 */display: inline-block !important;position: relative;}#sk-container-id-1 div.sk-text-repr-fallback {display: none;}</style><div id=\"sk-container-id-1\" class=\"sk-top-container\"><div class=\"sk-text-repr-fallback\"><pre>LogisticRegression()</pre><b>In a Jupyter environment, please rerun this cell to show the HTML representation or trust the notebook. <br />On GitHub, the HTML representation is unable to render, please try loading this page with nbviewer.org.</b></div><div class=\"sk-container\" hidden><div class=\"sk-item\"><div class=\"sk-estimator sk-toggleable\"><input class=\"sk-toggleable__control sk-hidden--visually\" id=\"sk-estimator-id-1\" type=\"checkbox\" checked><label for=\"sk-estimator-id-1\" class=\"sk-toggleable__label sk-toggleable__label-arrow\">LogisticRegression</label><div class=\"sk-toggleable__content\"><pre>LogisticRegression()</pre></div></div></div></div></div>"
            ]
          },
          "metadata": {},
          "execution_count": 14
        }
      ]
    },
    {
      "cell_type": "code",
      "source": [
        "print(model.score(x_train, y_train))"
      ],
      "metadata": {
        "colab": {
          "base_uri": "https://localhost:8080/"
        },
        "id": "OFm76YAkr2Lr",
        "outputId": "9002d508-88f2-458a-f201-0ffc935d8ecc"
      },
      "execution_count": null,
      "outputs": [
        {
          "output_type": "stream",
          "name": "stdout",
          "text": [
            "0.7945205479452054\n"
          ]
        }
      ]
    },
    {
      "cell_type": "code",
      "source": [
        "print(model.score(x_test, y_test))"
      ],
      "metadata": {
        "colab": {
          "base_uri": "https://localhost:8080/"
        },
        "id": "oNPrlF0Fr3ge",
        "outputId": "860ea557-b8e7-4317-c4f4-0b8279d7d19b"
      },
      "execution_count": null,
      "outputs": [
        {
          "output_type": "stream",
          "name": "stdout",
          "text": [
            "0.7763578274760383\n"
          ]
        }
      ]
    },
    {
      "cell_type": "code",
      "source": [
        "model.predict(x_test)  # 위에 있는 77%는 이 결과값의 1, 0, 0 값하고 y_train 값하고의 일치율이 77%"
      ],
      "metadata": {
        "colab": {
          "base_uri": "https://localhost:8080/"
        },
        "id": "6_gAKyoir4_o",
        "outputId": "02478a72-39cb-467b-b11f-df2db38f5582"
      },
      "execution_count": null,
      "outputs": [
        {
          "output_type": "execute_result",
          "data": {
            "text/plain": [
              "array([1, 0, 0, 0, 1, 0, 1, 0, 1, 0, 1, 1, 0, 0, 1, 0, 1, 0, 0, 0, 0, 0,\n",
              "       1, 1, 0, 1, 0, 0, 0, 1, 1, 1, 1, 0, 1, 0, 1, 0, 0, 0, 0, 0, 0, 0,\n",
              "       0, 1, 1, 0, 0, 0, 1, 1, 0, 0, 0, 1, 1, 1, 1, 1, 0, 0, 0, 0, 1, 0,\n",
              "       0, 0, 0, 0, 0, 0, 0, 1, 0, 1, 1, 0, 1, 1, 0, 1, 0, 0, 1, 0, 1, 0,\n",
              "       0, 1, 0, 0, 0, 0, 0, 0, 1, 0, 1, 1, 0, 0, 0, 0, 0, 0, 1, 0, 0, 0,\n",
              "       0, 0, 1, 0, 0, 0, 0, 0, 0, 0, 1, 0, 0, 0, 0, 1, 0, 0, 0, 0, 1, 0,\n",
              "       1, 0, 1, 1, 0, 1, 1, 1, 0, 0, 0, 0, 1, 0, 0, 1, 1, 0, 0, 0, 0, 0,\n",
              "       0, 0, 1, 0, 0, 1, 0, 0, 0, 0, 0, 1, 0, 0, 1, 0, 0, 1, 1, 1, 0, 1,\n",
              "       1, 1, 0, 0, 0, 0, 0, 0, 0, 1, 0, 0, 1, 1, 0, 0, 1, 1, 0, 0, 0, 0,\n",
              "       0, 1, 1, 0, 0, 1, 0, 0, 0, 0, 0, 1, 1, 0, 1, 0, 0, 1, 0, 0, 1, 1,\n",
              "       1, 1, 0, 0, 1, 1, 0, 0, 1, 1, 1, 1, 1, 0, 0, 1, 0, 0, 0, 1, 0, 1,\n",
              "       1, 1, 0, 0, 1, 0, 1, 0, 1, 1, 1, 1, 0, 0, 0, 1, 1, 1, 1, 0, 0, 0,\n",
              "       0, 0, 0, 1, 1, 0, 0, 0, 1, 1, 0, 1, 1, 0, 1, 1, 0, 1, 0, 1, 0, 1,\n",
              "       1, 0, 1, 0, 0, 0, 0, 1, 0, 0, 0, 0, 1, 1, 0, 0, 1, 1, 0, 1, 0, 0,\n",
              "       1, 0, 1, 1, 0])"
            ]
          },
          "metadata": {},
          "execution_count": 17
        }
      ]
    },
    {
      "cell_type": "code",
      "source": [
        "model.predict_proba(x_test)"
      ],
      "metadata": {
        "colab": {
          "base_uri": "https://localhost:8080/"
        },
        "id": "zMYrPirSr7kc",
        "outputId": "096a9e02-44d4-4121-8b73-5fc42c7ac44d"
      },
      "execution_count": null,
      "outputs": [
        {
          "output_type": "execute_result",
          "data": {
            "text/plain": [
              "array([[0.13246736, 0.86753264],\n",
              "       [0.90265405, 0.09734595],\n",
              "       [0.60918187, 0.39081813],\n",
              "       [0.82355928, 0.17644072],\n",
              "       [0.35993094, 0.64006906],\n",
              "       [0.53494048, 0.46505952],\n",
              "       [0.14057448, 0.85942552],\n",
              "       [0.92093132, 0.07906868],\n",
              "       [0.04752197, 0.95247803],\n",
              "       [0.81807013, 0.18192987],\n",
              "       [0.44198026, 0.55801974],\n",
              "       [0.07533482, 0.92466518],\n",
              "       [0.81077486, 0.18922514],\n",
              "       [0.86687242, 0.13312758],\n",
              "       [0.29917854, 0.70082146],\n",
              "       [0.79849065, 0.20150935],\n",
              "       [0.36569609, 0.63430391],\n",
              "       [0.89131147, 0.10868853],\n",
              "       [0.80650111, 0.19349889],\n",
              "       [0.84615112, 0.15384888],\n",
              "       [0.63396478, 0.36603522],\n",
              "       [0.89127877, 0.10872123],\n",
              "       [0.23740332, 0.76259668],\n",
              "       [0.21053996, 0.78946004],\n",
              "       [0.92205025, 0.07794975],\n",
              "       [0.30808514, 0.69191486],\n",
              "       [0.54524493, 0.45475507],\n",
              "       [0.95178352, 0.04821648],\n",
              "       [0.84544523, 0.15455477],\n",
              "       [0.23593661, 0.76406339],\n",
              "       [0.16352341, 0.83647659],\n",
              "       [0.23740332, 0.76259668],\n",
              "       [0.30771732, 0.69228268],\n",
              "       [0.93029919, 0.06970081],\n",
              "       [0.13499206, 0.86500794],\n",
              "       [0.87438143, 0.12561857],\n",
              "       [0.29897766, 0.70102234],\n",
              "       [0.91242896, 0.08757104],\n",
              "       [0.8312614 , 0.1687386 ],\n",
              "       [0.89634048, 0.10365952],\n",
              "       [0.86126939, 0.13873061],\n",
              "       [0.75731442, 0.24268558],\n",
              "       [0.93784405, 0.06215595],\n",
              "       [0.70138   , 0.29862   ],\n",
              "       [0.72624415, 0.27375585],\n",
              "       [0.20123166, 0.79876834],\n",
              "       [0.14686105, 0.85313895],\n",
              "       [0.84538831, 0.15461169],\n",
              "       [0.82291342, 0.17708658],\n",
              "       [0.79309558, 0.20690442],\n",
              "       [0.17652063, 0.82347937],\n",
              "       [0.4287403 , 0.5712597 ],\n",
              "       [0.78589792, 0.21410208],\n",
              "       [0.82474895, 0.17525105],\n",
              "       [0.51699334, 0.48300666],\n",
              "       [0.08495101, 0.91504899],\n",
              "       [0.46615023, 0.53384977],\n",
              "       [0.35285456, 0.64714544],\n",
              "       [0.20316649, 0.79683351],\n",
              "       [0.13643205, 0.86356795],\n",
              "       [0.52767871, 0.47232129],\n",
              "       [0.93098979, 0.06901021],\n",
              "       [0.86762746, 0.13237254],\n",
              "       [0.8831936 , 0.1168064 ],\n",
              "       [0.38568191, 0.61431809],\n",
              "       [0.87438143, 0.12561857],\n",
              "       [0.84243375, 0.15756625],\n",
              "       [0.81472396, 0.18527604],\n",
              "       [0.88263243, 0.11736757],\n",
              "       [0.6476758 , 0.3523242 ],\n",
              "       [0.96118164, 0.03881836],\n",
              "       [0.89115842, 0.10884158],\n",
              "       [0.69967679, 0.30032321],\n",
              "       [0.06434799, 0.93565201],\n",
              "       [0.85422431, 0.14577569],\n",
              "       [0.20238181, 0.79761819],\n",
              "       [0.16585731, 0.83414269],\n",
              "       [0.73276964, 0.26723036],\n",
              "       [0.1228913 , 0.8771087 ],\n",
              "       [0.42211444, 0.57788556],\n",
              "       [0.85566937, 0.14433063],\n",
              "       [0.24809877, 0.75190123],\n",
              "       [0.80644716, 0.19355284],\n",
              "       [0.92115643, 0.07884357],\n",
              "       [0.17652063, 0.82347937],\n",
              "       [0.78096246, 0.21903754],\n",
              "       [0.04103573, 0.95896427],\n",
              "       [0.63962693, 0.36037307],\n",
              "       [0.71810053, 0.28189947],\n",
              "       [0.04981751, 0.95018249],\n",
              "       [0.85056713, 0.14943287],\n",
              "       [0.93039502, 0.06960498],\n",
              "       [0.94157286, 0.05842714],\n",
              "       [0.88734573, 0.11265427],\n",
              "       [0.89133257, 0.10866743],\n",
              "       [0.750287  , 0.249713  ],\n",
              "       [0.14461882, 0.85538118],\n",
              "       [0.88321015, 0.11678985],\n",
              "       [0.23600137, 0.76399863],\n",
              "       [0.15535153, 0.84464847],\n",
              "       [0.94081436, 0.05918564],\n",
              "       [0.82873578, 0.17126422],\n",
              "       [0.85565995, 0.14434005],\n",
              "       [0.55909744, 0.44090256],\n",
              "       [0.75586575, 0.24413425],\n",
              "       [0.63284836, 0.36715164],\n",
              "       [0.4089824 , 0.5910176 ],\n",
              "       [0.73423958, 0.26576042],\n",
              "       [0.87542732, 0.12457268],\n",
              "       [0.94663481, 0.05336519],\n",
              "       [0.70194985, 0.29805015],\n",
              "       [0.86070559, 0.13929441],\n",
              "       [0.39261209, 0.60738791],\n",
              "       [0.69338865, 0.30661135],\n",
              "       [0.90802534, 0.09197466],\n",
              "       [0.98581147, 0.01418853],\n",
              "       [0.80898067, 0.19101933],\n",
              "       [0.81369884, 0.18630116],\n",
              "       [0.62827467, 0.37172533],\n",
              "       [0.83987494, 0.16012506],\n",
              "       [0.14946891, 0.85053109],\n",
              "       [0.94588207, 0.05411793],\n",
              "       [0.64348808, 0.35651192],\n",
              "       [0.65783194, 0.34216806],\n",
              "       [0.72462707, 0.27537293],\n",
              "       [0.07219624, 0.92780376],\n",
              "       [0.86059197, 0.13940803],\n",
              "       [0.56742813, 0.43257187],\n",
              "       [0.83549706, 0.16450294],\n",
              "       [0.80046647, 0.19953353],\n",
              "       [0.29403703, 0.70596297],\n",
              "       [0.75666198, 0.24333802],\n",
              "       [0.27700024, 0.72299976],\n",
              "       [0.53999589, 0.46000411],\n",
              "       [0.05133447, 0.94866553],\n",
              "       [0.24878112, 0.75121888],\n",
              "       [0.56273291, 0.43726709],\n",
              "       [0.10456256, 0.89543744],\n",
              "       [0.36217705, 0.63782295],\n",
              "       [0.1591578 , 0.8408422 ],\n",
              "       [0.79453234, 0.20546766],\n",
              "       [0.89503345, 0.10496655],\n",
              "       [0.82666869, 0.17333131],\n",
              "       [0.7096993 , 0.2903007 ],\n",
              "       [0.39006196, 0.60993804],\n",
              "       [0.79924064, 0.20075936],\n",
              "       [0.91594486, 0.08405514],\n",
              "       [0.41609645, 0.58390355],\n",
              "       [0.18687597, 0.81312403],\n",
              "       [0.87005196, 0.12994804],\n",
              "       [0.79024941, 0.20975059],\n",
              "       [0.94283841, 0.05716159],\n",
              "       [0.54932642, 0.45067358],\n",
              "       [0.96222214, 0.03777786],\n",
              "       [0.87760989, 0.12239011],\n",
              "       [0.84533422, 0.15466578],\n",
              "       [0.07371778, 0.92628222],\n",
              "       [0.73741614, 0.26258386],\n",
              "       [0.86833299, 0.13166701],\n",
              "       [0.19127231, 0.80872769],\n",
              "       [0.85833315, 0.14166685],\n",
              "       [0.56775782, 0.43224218],\n",
              "       [0.88617564, 0.11382436],\n",
              "       [0.90833619, 0.09166381],\n",
              "       [0.9148539 , 0.0851461 ],\n",
              "       [0.1605616 , 0.8394384 ],\n",
              "       [0.81370049, 0.18629951],\n",
              "       [0.90005171, 0.09994829],\n",
              "       [0.29944802, 0.70055198],\n",
              "       [0.83874854, 0.16125146],\n",
              "       [0.85543791, 0.14456209],\n",
              "       [0.36167989, 0.63832011],\n",
              "       [0.04189261, 0.95810739],\n",
              "       [0.43639212, 0.56360788],\n",
              "       [0.8789603 , 0.1210397 ],\n",
              "       [0.09191035, 0.90808965],\n",
              "       [0.41381009, 0.58618991],\n",
              "       [0.45672622, 0.54327378],\n",
              "       [0.84512767, 0.15487233],\n",
              "       [0.75942182, 0.24057818],\n",
              "       [0.95285871, 0.04714129],\n",
              "       [0.8653934 , 0.1346066 ],\n",
              "       [0.89133995, 0.10866005],\n",
              "       [0.92098813, 0.07901187],\n",
              "       [0.65721893, 0.34278107],\n",
              "       [0.05978074, 0.94021926],\n",
              "       [0.54799024, 0.45200976],\n",
              "       [0.84531286, 0.15468714],\n",
              "       [0.37065316, 0.62934684],\n",
              "       [0.27527598, 0.72472402],\n",
              "       [0.60977196, 0.39022804],\n",
              "       [0.89132729, 0.10867271],\n",
              "       [0.03227708, 0.96772292],\n",
              "       [0.26647447, 0.73352553],\n",
              "       [0.89892972, 0.10107028],\n",
              "       [0.87455475, 0.12544525],\n",
              "       [0.86874372, 0.13125628],\n",
              "       [0.85058097, 0.14941903],\n",
              "       [0.83984126, 0.16015874],\n",
              "       [0.28268435, 0.71731565],\n",
              "       [0.34005124, 0.65994876],\n",
              "       [0.84642475, 0.15357525],\n",
              "       [0.90493961, 0.09506039],\n",
              "       [0.23489757, 0.76510243],\n",
              "       [0.67334006, 0.32665994],\n",
              "       [0.86185384, 0.13814616],\n",
              "       [0.87358992, 0.12641008],\n",
              "       [0.74260511, 0.25739489],\n",
              "       [0.87005812, 0.12994188],\n",
              "       [0.17324822, 0.82675178],\n",
              "       [0.04794074, 0.95205926],\n",
              "       [0.83439771, 0.16560229],\n",
              "       [0.2119554 , 0.7880446 ],\n",
              "       [0.79612015, 0.20387985],\n",
              "       [0.83839755, 0.16160245],\n",
              "       [0.35724381, 0.64275619],\n",
              "       [0.68646181, 0.31353819],\n",
              "       [0.92092418, 0.07907582],\n",
              "       [0.20386264, 0.79613736],\n",
              "       [0.29103209, 0.70896791],\n",
              "       [0.10475498, 0.89524502],\n",
              "       [0.47641655, 0.52358345],\n",
              "       [0.83888884, 0.16111116],\n",
              "       [0.86995837, 0.13004163],\n",
              "       [0.35168502, 0.64831498],\n",
              "       [0.43861328, 0.56138672],\n",
              "       [0.82838467, 0.17161533],\n",
              "       [0.74427943, 0.25572057],\n",
              "       [0.05243121, 0.94756879],\n",
              "       [0.20294664, 0.79705336],\n",
              "       [0.29080522, 0.70919478],\n",
              "       [0.30955547, 0.69044453],\n",
              "       [0.26703418, 0.73296582],\n",
              "       [0.53885149, 0.46114851],\n",
              "       [0.76469641, 0.23530359],\n",
              "       [0.31945122, 0.68054878],\n",
              "       [0.82709425, 0.17290575],\n",
              "       [0.85043563, 0.14956437],\n",
              "       [0.92288606, 0.07711394],\n",
              "       [0.04538669, 0.95461331],\n",
              "       [0.62680729, 0.37319271],\n",
              "       [0.22302056, 0.77697944],\n",
              "       [0.07499884, 0.92500116],\n",
              "       [0.30801551, 0.69198449],\n",
              "       [0.77376165, 0.22623835],\n",
              "       [0.82291659, 0.17708341],\n",
              "       [0.23956476, 0.76043524],\n",
              "       [0.80107787, 0.19892213],\n",
              "       [0.40245463, 0.59754537],\n",
              "       [0.96547851, 0.03452149],\n",
              "       [0.23926402, 0.76073598],\n",
              "       [0.05941945, 0.94058055],\n",
              "       [0.158414  , 0.841586  ],\n",
              "       [0.14881219, 0.85118781],\n",
              "       [0.71810053, 0.28189947],\n",
              "       [0.66969769, 0.33030231],\n",
              "       [0.89848494, 0.10151506],\n",
              "       [0.04234934, 0.95765066],\n",
              "       [0.09576432, 0.90423568],\n",
              "       [0.31700676, 0.68299324],\n",
              "       [0.32150339, 0.67849661],\n",
              "       [0.56754402, 0.43245598],\n",
              "       [0.74208442, 0.25791558],\n",
              "       [0.8287126 , 0.1712874 ],\n",
              "       [0.9538043 , 0.0461957 ],\n",
              "       [0.75666198, 0.24333802],\n",
              "       [0.83718742, 0.16281258],\n",
              "       [0.29242073, 0.70757927],\n",
              "       [0.07361999, 0.92638001],\n",
              "       [0.91270239, 0.08729761],\n",
              "       [0.64792113, 0.35207887],\n",
              "       [0.82984199, 0.17015801],\n",
              "       [0.42574438, 0.57425562],\n",
              "       [0.24878112, 0.75121888],\n",
              "       [0.86995837, 0.13004163],\n",
              "       [0.17589702, 0.82410298],\n",
              "       [0.21430684, 0.78569316],\n",
              "       [0.8831936 , 0.1168064 ],\n",
              "       [0.20808705, 0.79191295],\n",
              "       [0.26653195, 0.73346805],\n",
              "       [0.77192148, 0.22807852],\n",
              "       [0.14361047, 0.85638953],\n",
              "       [0.53642888, 0.46357112],\n",
              "       [0.33454091, 0.66545909],\n",
              "       [0.70112677, 0.29887323],\n",
              "       [0.24127279, 0.75872721],\n",
              "       [0.07006619, 0.92993381],\n",
              "       [0.90612123, 0.09387877],\n",
              "       [0.16259677, 0.83740323],\n",
              "       [0.82995329, 0.17004671],\n",
              "       [0.79808869, 0.20191131],\n",
              "       [0.5967058 , 0.4032942 ],\n",
              "       [0.84542674, 0.15457326],\n",
              "       [0.13678197, 0.86321803],\n",
              "       [0.90573798, 0.09426202],\n",
              "       [0.8341267 , 0.1658733 ],\n",
              "       [0.86539467, 0.13460533],\n",
              "       [0.94661831, 0.05338169],\n",
              "       [0.47664771, 0.52335229],\n",
              "       [0.05549869, 0.94450131],\n",
              "       [0.78571309, 0.21428691],\n",
              "       [0.61881335, 0.38118665],\n",
              "       [0.19051212, 0.80948788],\n",
              "       [0.0531634 , 0.9468366 ],\n",
              "       [0.95599212, 0.04400788],\n",
              "       [0.35142168, 0.64857832],\n",
              "       [0.70981145, 0.29018855],\n",
              "       [0.8344278 , 0.1655722 ],\n",
              "       [0.12320929, 0.87679071],\n",
              "       [0.91282464, 0.08717536],\n",
              "       [0.30906404, 0.69093596],\n",
              "       [0.12756509, 0.87243491],\n",
              "       [0.83451805, 0.16548195]])"
            ]
          },
          "metadata": {},
          "execution_count": 18
        }
      ]
    },
    {
      "cell_type": "code",
      "source": [
        "## 새로운 값을 넣어 확인\n",
        "newx_test = [\n",
        "    [2, 'Female', 21, 0, 1, 21.00, 'S']\n",
        "]\n",
        "newx_test = pd.DataFrame(newx_test, columns=['pclass', 'sex', 'age', 'sibsp', 'parch', 'fare', 'embarked'])\n",
        "newx_test = transformer.transform(newx_test)"
      ],
      "metadata": {
        "id": "x7m0Lr2lr9cq"
      },
      "execution_count": null,
      "outputs": []
    },
    {
      "cell_type": "code",
      "source": [
        "y_predict = model.predict(newx_test)\n",
        "y_predict"
      ],
      "metadata": {
        "colab": {
          "base_uri": "https://localhost:8080/"
        },
        "id": "0kj0gYtisCPS",
        "outputId": "9cf9d778-fa31-4be3-83a9-0e567c98a9f0"
      },
      "execution_count": null,
      "outputs": [
        {
          "output_type": "execute_result",
          "data": {
            "text/plain": [
              "array([1])"
            ]
          },
          "metadata": {},
          "execution_count": 20
        }
      ]
    },
    {
      "cell_type": "code",
      "source": [
        "label = labels[y_predict[0]]\n",
        "label"
      ],
      "metadata": {
        "colab": {
          "base_uri": "https://localhost:8080/",
          "height": 35
        },
        "id": "VzRz8OFXsDT8",
        "outputId": "55863a9c-aec6-4849-9741-3865ce4e655f"
      },
      "execution_count": null,
      "outputs": [
        {
          "output_type": "execute_result",
          "data": {
            "text/plain": [
              "'생존'"
            ],
            "application/vnd.google.colaboratory.intrinsic+json": {
              "type": "string"
            }
          },
          "metadata": {},
          "execution_count": 21
        }
      ]
    },
    {
      "cell_type": "code",
      "source": [
        "y_predict = model.predict_proba(newx_test)\n",
        "y_predict"
      ],
      "metadata": {
        "colab": {
          "base_uri": "https://localhost:8080/"
        },
        "id": "d7gFVOnbsFeE",
        "outputId": "c1b3add5-8fa3-442a-bb40-bad733d56195"
      },
      "execution_count": null,
      "outputs": [
        {
          "output_type": "execute_result",
          "data": {
            "text/plain": [
              "array([[0.13246736, 0.86753264]])"
            ]
          },
          "metadata": {},
          "execution_count": 22
        }
      ]
    },
    {
      "cell_type": "code",
      "source": [
        "confidence = y_predict[0][y_predict[0].argmax()]\n",
        "confidence"
      ],
      "metadata": {
        "colab": {
          "base_uri": "https://localhost:8080/"
        },
        "id": "2pd6gLBKsHKM",
        "outputId": "ebbd21e7-7108-462f-99f5-5258d8feef42"
      },
      "execution_count": null,
      "outputs": [
        {
          "output_type": "execute_result",
          "data": {
            "text/plain": [
              "0.867532641303584"
            ]
          },
          "metadata": {},
          "execution_count": 23
        }
      ]
    },
    {
      "cell_type": "code",
      "source": [
        "# 사이킷런에서 제공하는 당뇨병데이터셋 샘플 (x값한개 넣기위한 작업임, 의미없음)\n",
        "from sklearn.datasets import load_diabetes\n",
        "import numpy as np\n",
        "diabetes = load_diabetes()  # 사이킷런 제공 데이터셋"
      ],
      "metadata": {
        "id": "QeOEXThLsLF9"
      },
      "execution_count": null,
      "outputs": []
    },
    {
      "cell_type": "code",
      "source": [
        "diabetes.keys()  # 구성항목 확인가능"
      ],
      "metadata": {
        "colab": {
          "base_uri": "https://localhost:8080/"
        },
        "id": "SeK6l_TdsM3Q",
        "outputId": "6ca11c09-a1cf-436c-9fb2-17934ee437ca"
      },
      "execution_count": null,
      "outputs": [
        {
          "output_type": "execute_result",
          "data": {
            "text/plain": [
              "dict_keys(['data', 'target', 'frame', 'DESCR', 'feature_names', 'data_filename', 'target_filename', 'data_module'])"
            ]
          },
          "metadata": {},
          "execution_count": 25
        }
      ]
    },
    {
      "cell_type": "code",
      "source": [
        "diabetes['DESCR']"
      ],
      "metadata": {
        "colab": {
          "base_uri": "https://localhost:8080/",
          "height": 127
        },
        "id": "udUK1F3gsOi9",
        "outputId": "02f64935-f3e3-4ef6-ab8c-59293277a477"
      },
      "execution_count": null,
      "outputs": [
        {
          "output_type": "execute_result",
          "data": {
            "text/plain": [
              "'.. _diabetes_dataset:\\n\\nDiabetes dataset\\n----------------\\n\\nTen baseline variables, age, sex, body mass index, average blood\\npressure, and six blood serum measurements were obtained for each of n =\\n442 diabetes patients, as well as the response of interest, a\\nquantitative measure of disease progression one year after baseline.\\n\\n**Data Set Characteristics:**\\n\\n  :Number of Instances: 442\\n\\n  :Number of Attributes: First 10 columns are numeric predictive values\\n\\n  :Target: Column 11 is a quantitative measure of disease progression one year after baseline\\n\\n  :Attribute Information:\\n      - age     age in years\\n      - sex\\n      - bmi     body mass index\\n      - bp      average blood pressure\\n      - s1      tc, total serum cholesterol\\n      - s2      ldl, low-density lipoproteins\\n      - s3      hdl, high-density lipoproteins\\n      - s4      tch, total cholesterol / HDL\\n      - s5      ltg, possibly log of serum triglycerides level\\n      - s6      glu, blood sugar level\\n\\nNote: Each of these 10 feature variables have been mean centered and scaled by the standard deviation times the square root of `n_samples` (i.e. the sum of squares of each column totals 1).\\n\\nSource URL:\\nhttps://www4.stat.ncsu.edu/~boos/var.select/diabetes.html\\n\\nFor more information see:\\nBradley Efron, Trevor Hastie, Iain Johnstone and Robert Tibshirani (2004) \"Least Angle Regression,\" Annals of Statistics (with discussion), 407-499.\\n(https://web.stanford.edu/~hastie/Papers/LARS/LeastAngle_2002.pdf)\\n'"
            ],
            "application/vnd.google.colaboratory.intrinsic+json": {
              "type": "string"
            }
          },
          "metadata": {},
          "execution_count": 26
        }
      ]
    },
    {
      "cell_type": "code",
      "source": [
        "len(diabetes)"
      ],
      "metadata": {
        "colab": {
          "base_uri": "https://localhost:8080/"
        },
        "id": "ayaa7UjpsSUj",
        "outputId": "2369ea88-a7ad-47f8-c227-dda210638b9e"
      },
      "execution_count": null,
      "outputs": [
        {
          "output_type": "execute_result",
          "data": {
            "text/plain": [
              "8"
            ]
          },
          "metadata": {},
          "execution_count": 27
        }
      ]
    },
    {
      "cell_type": "code",
      "source": [
        "# 한개의 x값을 갖는 인공신경망을 만들기위하여 임의로 3번째의 변수를 x값으로 할당함, 3번째변수 의미없는 값임\n",
        "x = diabetes.data[:, 2]\n",
        "y = diabetes.target\n",
        "\n",
        "np.shape(x), np.shape(y)  # x,y 데이터갯수 같아야함."
      ],
      "metadata": {
        "colab": {
          "base_uri": "https://localhost:8080/"
        },
        "id": "6nj5Q2tVsTnH",
        "outputId": "28fc8390-c5a6-4779-d63e-5290c48e687e"
      },
      "execution_count": null,
      "outputs": [
        {
          "output_type": "execute_result",
          "data": {
            "text/plain": [
              "((442,), (442,))"
            ]
          },
          "metadata": {},
          "execution_count": 28
        }
      ]
    },
    {
      "cell_type": "code",
      "source": [
        "## 사이킷런 머신러닝이면 모델만 결정하면 됨.\n",
        "# 전처리 필요없음. x값의 숫자화(벡터화). 정규화(표준화) 다 되어 있음.\n",
        "# 예측(회귀분석) wx+b를 계산하는 회귀분석 모델만 선택하면 됨.\n",
        "# 어떤 모델을 사용할 것인가, 그 모델의 설명력만 작업만"
      ],
      "metadata": {
        "id": "vOBMko57sXXi"
      },
      "execution_count": null,
      "outputs": []
    },
    {
      "cell_type": "code",
      "source": [
        "xx = [[1,2,3],\n",
        "      [2,2,3],\n",
        "      [2,2,3],\n",
        "      [2,3,4]]\n",
        "w = [[10, 11, 12, 13],\n",
        "     [20, 21, 22, 23],\n",
        "     [30, 31, 32, 33]]\n",
        "\n",
        "b=[100, 0, 0, 0]\n",
        "\n",
        "xx=np.array(xx); w=np.array(w)\n",
        "np.shape(xx), np.shape(w)"
      ],
      "metadata": {
        "colab": {
          "base_uri": "https://localhost:8080/"
        },
        "id": "_EKrbQjhsY-b",
        "outputId": "263c0cc6-64d7-4c3a-86e4-7eec49b152f3"
      },
      "execution_count": null,
      "outputs": [
        {
          "output_type": "execute_result",
          "data": {
            "text/plain": [
              "((4, 3), (3, 4))"
            ]
          },
          "metadata": {},
          "execution_count": 29
        }
      ]
    },
    {
      "cell_type": "code",
      "source": [
        "yhat=[]\n",
        "for x in range(4):\n",
        "  yhat.append(np.dot(xx,w[:,x])+b[x])\n",
        "yhat"
      ],
      "metadata": {
        "colab": {
          "base_uri": "https://localhost:8080/"
        },
        "id": "hqlFSJGmscSg",
        "outputId": "6736fab2-bc69-4cdd-c082-91d0fee63db0"
      },
      "execution_count": null,
      "outputs": [
        {
          "output_type": "execute_result",
          "data": {
            "text/plain": [
              "[array([240, 250, 250, 300]),\n",
              " array([146, 157, 157, 209]),\n",
              " array([152, 164, 164, 218]),\n",
              " array([158, 171, 171, 227])]"
            ]
          },
          "metadata": {},
          "execution_count": 30
        }
      ]
    }
  ]
}