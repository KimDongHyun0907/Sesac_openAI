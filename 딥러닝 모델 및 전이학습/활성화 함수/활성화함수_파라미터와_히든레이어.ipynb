{
  "nbformat": 4,
  "nbformat_minor": 0,
  "metadata": {
    "colab": {
      "provenance": [],
      "authorship_tag": "ABX9TyMT7t4nbJwXHIIz/0Thls/z",
      "include_colab_link": true
    },
    "kernelspec": {
      "name": "python3",
      "display_name": "Python 3"
    },
    "language_info": {
      "name": "python"
    }
  },
  "cells": [
    {
      "cell_type": "markdown",
      "metadata": {
        "id": "view-in-github",
        "colab_type": "text"
      },
      "source": [
        "<a href=\"https://colab.research.google.com/github/KimDongHyun0907/Sesac_openAI/blob/main/%ED%99%9C%EC%84%B1%ED%99%94%ED%95%A8%EC%88%98_%ED%8C%8C%EB%9D%BC%EB%AF%B8%ED%84%B0%EC%99%80_%ED%9E%88%EB%93%A0%EB%A0%88%EC%9D%B4%EC%96%B4.ipynb\" target=\"_parent\"><img src=\"https://colab.research.google.com/assets/colab-badge.svg\" alt=\"Open In Colab\"/></a>"
      ]
    },
    {
      "cell_type": "code",
      "execution_count": null,
      "metadata": {
        "id": "a4j-rAYbHRG_"
      },
      "outputs": [],
      "source": [
        "import numpy as np\n",
        "import tensorflow as tf\n",
        "from tensorflow import keras\n",
        "from tensorflow.keras import layers"
      ]
    },
    {
      "cell_type": "code",
      "source": [
        "x=np.array([1,2,3,4,5,6])\n",
        "y=np.array([10,98,8,2,3,4])"
      ],
      "metadata": {
        "id": "YHeaBkZ5Q_pA"
      },
      "execution_count": null,
      "outputs": []
    },
    {
      "cell_type": "code",
      "source": [
        "input_layer = tf.keras.layers.InputLayer(input_shape=(1,))\n",
        "hidden_layer1 = tf.keras.layers.Dense(units=4, activation='relu')\n",
        "hidden_layer2 = tf.keras.layers.Dense(units=2, activation='relu')\n",
        "output_layer= tf.keras.layers.Dense(units=1)\n",
        "# activation이 없으면 활성화함수 wx+b가 되어있는 것임.\n",
        "\n",
        "model = keras.Sequential([\n",
        "    input_layer,\n",
        "    hidden_layer1,\n",
        "    hidden_layer2,\n",
        "    output_layer\n",
        "    ])\n"
      ],
      "metadata": {
        "id": "j5U7yP82Hezw"
      },
      "execution_count": null,
      "outputs": []
    },
    {
      "cell_type": "code",
      "source": [
        "modelvalue = model.weights\n",
        "modelvalue"
      ],
      "metadata": {
        "colab": {
          "base_uri": "https://localhost:8080/"
        },
        "id": "tHN2-6miK05J",
        "outputId": "8776d8fb-5229-4f97-dca4-9e2e4e2754ef"
      },
      "execution_count": null,
      "outputs": [
        {
          "output_type": "execute_result",
          "data": {
            "text/plain": [
              "[<tf.Variable 'dense_3/kernel:0' shape=(1, 4) dtype=float32, numpy=\n",
              " array([[ 0.51151574,  0.5496485 , -0.82256854, -0.24861354]],\n",
              "       dtype=float32)>,\n",
              " <tf.Variable 'dense_3/bias:0' shape=(4,) dtype=float32, numpy=array([0., 0., 0., 0.], dtype=float32)>,\n",
              " <tf.Variable 'dense_4/kernel:0' shape=(4, 2) dtype=float32, numpy=\n",
              " array([[-0.8105962 , -0.7117398 ],\n",
              "        [ 0.32767797, -0.67657137],\n",
              "        [ 0.62613153, -0.8270757 ],\n",
              "        [-0.21192837,  0.04309678]], dtype=float32)>,\n",
              " <tf.Variable 'dense_4/bias:0' shape=(2,) dtype=float32, numpy=array([0., 0.], dtype=float32)>,\n",
              " <tf.Variable 'dense_5/kernel:0' shape=(2, 1) dtype=float32, numpy=\n",
              " array([[-0.6801817],\n",
              "        [ 1.3199507]], dtype=float32)>,\n",
              " <tf.Variable 'dense_5/bias:0' shape=(1,) dtype=float32, numpy=array([0.], dtype=float32)>]"
            ]
          },
          "metadata": {},
          "execution_count": 9
        }
      ]
    },
    {
      "cell_type": "markdown",
      "source": [
        "0,1 인덱스, dense(units=4) w, b  /  x값이 6*1이므로  w는 4, b는 4  \n",
        "2,3 인덱스, dense(units=2) w, b  /  w는 2, b는 2  \n",
        "4,5 인덱스, dense(units=1) w, b  /  w는 1, b는 1  \n"
      ],
      "metadata": {
        "id": "jkHAjSY9MPYp"
      }
    },
    {
      "cell_type": "code",
      "source": [
        "len(modelvalue)  # Dense층 * 2개 (dense 층마다 w, b 값 있음.)"
      ],
      "metadata": {
        "colab": {
          "base_uri": "https://localhost:8080/"
        },
        "id": "Vkjv6KiVMDUX",
        "outputId": "a685f5ad-c569-45d4-de19-c01bc0c84a94"
      },
      "execution_count": null,
      "outputs": [
        {
          "output_type": "execute_result",
          "data": {
            "text/plain": [
              "6"
            ]
          },
          "metadata": {},
          "execution_count": 10
        }
      ]
    },
    {
      "cell_type": "code",
      "source": [
        "intermediate_layer_model = tf.keras.Model(inputs=model.input, outputs=model.layers[0].output)\n",
        "intermediate_output = intermediate_layer_model(x)\n",
        "\n",
        "print(intermediate_output)"
      ],
      "metadata": {
        "colab": {
          "base_uri": "https://localhost:8080/"
        },
        "id": "8kx9keJxNqvO",
        "outputId": "89b84b8a-15f8-4a5c-d410-ff74ae53e119"
      },
      "execution_count": null,
      "outputs": [
        {
          "output_type": "stream",
          "name": "stdout",
          "text": [
            "tf.Tensor(\n",
            "[[0.51151574 0.5496485  0.         0.        ]\n",
            " [1.0230315  1.099297   0.         0.        ]\n",
            " [1.5345472  1.6489456  0.         0.        ]\n",
            " [2.046063   2.198594   0.         0.        ]\n",
            " [2.5575786  2.7482426  0.         0.        ]\n",
            " [3.0690944  3.2978911  0.         0.        ]], shape=(6, 4), dtype=float32)\n"
          ]
        }
      ]
    },
    {
      "cell_type": "code",
      "source": [
        "for layer in model.layers:\n",
        "  print(layer.get_weights()[0])\n",
        "  print(layer.get_weights()[1])\n",
        "  print()"
      ],
      "metadata": {
        "colab": {
          "base_uri": "https://localhost:8080/"
        },
        "id": "FatumRLwdsto",
        "outputId": "aa7b8710-cbc5-454a-c836-54fee17741e0"
      },
      "execution_count": null,
      "outputs": [
        {
          "output_type": "stream",
          "name": "stdout",
          "text": [
            "[[ 0.51151574  0.5496485  -0.82256854 -0.24861354]]\n",
            "[0. 0. 0. 0.]\n",
            "\n",
            "[[-0.8105962  -0.7117398 ]\n",
            " [ 0.32767797 -0.67657137]\n",
            " [ 0.62613153 -0.8270757 ]\n",
            " [-0.21192837  0.04309678]]\n",
            "[0. 0.]\n",
            "\n",
            "[[-0.6801817]\n",
            " [ 1.3199507]]\n",
            "[0.]\n",
            "\n"
          ]
        }
      ]
    },
    {
      "cell_type": "code",
      "source": [
        "x=np.array([[1,2,3,4,5,6], [1,2,3,4,5,6]])\n",
        "\n",
        "input_layer = tf.keras.layers.InputLayer(input_shape=(2,))\n",
        "hidden_layer1 = tf.keras.layers.Dense(units=4, activation='relu')\n",
        "hidden_layer2 = tf.keras.layers.Dense(units=2, activation='relu')\n",
        "output_layer= tf.keras.layers.Dense(units=1)\n",
        "# activation이 없으면 활성화함수 wx+b가 되어있는 것임.\n",
        "\n",
        "model = keras.Sequential([\n",
        "    input_layer,\n",
        "    hidden_layer1,\n",
        "    hidden_layer2,\n",
        "    output_layer\n",
        "    ])\n",
        "\n",
        "for layer in model.layers:\n",
        "  print(layer.get_weights()[0])\n",
        "  print(layer.get_weights()[1])\n",
        "  print()"
      ],
      "metadata": {
        "colab": {
          "base_uri": "https://localhost:8080/"
        },
        "id": "NVxwWdQKeOK2",
        "outputId": "c5ef703d-2717-436f-f1db-29f5555c3179"
      },
      "execution_count": null,
      "outputs": [
        {
          "output_type": "stream",
          "name": "stdout",
          "text": [
            "[[ 0.21260405 -0.12014079  0.72313285 -0.26046205]\n",
            " [-0.6268585  -0.45895314 -0.6958382  -0.48734522]]\n",
            "[0. 0. 0. 0.]\n",
            "\n",
            "[[ 0.36132002  0.15954304]\n",
            " [-0.1741476  -0.8272519 ]\n",
            " [ 0.53552437  0.02090907]\n",
            " [ 0.91135263  0.7908926 ]]\n",
            "[0. 0.]\n",
            "\n",
            "[[0.8205563 ]\n",
            " [0.48994398]]\n",
            "[0.]\n",
            "\n"
          ]
        }
      ]
    }
  ]
}
