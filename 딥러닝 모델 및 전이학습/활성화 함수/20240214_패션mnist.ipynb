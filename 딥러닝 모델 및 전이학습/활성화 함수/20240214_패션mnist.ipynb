{
  "nbformat": 4,
  "nbformat_minor": 0,
  "metadata": {
    "colab": {
      "provenance": []
    },
    "kernelspec": {
      "name": "python3",
      "display_name": "Python 3"
    },
    "language_info": {
      "name": "python"
    }
  },
  "cells": [
    {
      "cell_type": "markdown",
      "source": [
        "## 1.패션Mnist\n",
        "- https://www.tensorflow.org/tutorials/keras/classification?hl=ko\n",
        "\n",
        "10개의 범주(category)와 70,000개의 흑백 이미지로 구성된 패션 MNIST 데이터셋을 사용하겠습니다. 이미지는 해상도(28x28 픽셀)가 낮고 다음처럼 개별 옷 품목을 나타냅니다:\n",
        "-패션 MNIST는 컴퓨터 비전 분야의 \"Hello, World\" 프로그램격인 고전 MNIST 데이터셋을 대신해서 자주 사용됩니다. MNIST 데이터셋은 손글씨 숫자(0, 1, 2 등)의 이미지로 이루어져 있습니다. 여기서 사용하려는 옷 이미지와 동일한 포맷입니다.\n",
        "\n",
        "패션 MNIST는 일반적인 MNIST 보다 조금 더 어려운 문제이고 다양한 예제를 만들기 위해 선택했습니다. 두 데이터셋은 비교적 작기 때문에 알고리즘의 작동 여부를 확인하기 위해 사용되곤 합니다. 코드를 테스트하고 디버깅하는 용도로 좋습니다.\n",
        "\n",
        "여기에서 60,000개의 이미지를 사용하여 네트워크를 훈련하고 10,000개의 이미지를 사용하여 네트워크에서 이미지 분류를 학습한 정도를 평가합니다. TensorFlow에서 직접 Fashion MNIST에 액세스할 수 있습니다. TensorFlow에서 직접 Fashion MNIST 데이터를 가져오고 로드합니다."
      ],
      "metadata": {
        "id": "yHujpF668QWB"
      }
    },
    {
      "cell_type": "code",
      "source": [
        "import tensorflow as tf\n",
        "\n",
        "# Helper libraries\n",
        "import numpy as np\n",
        "import matplotlib.pyplot as plt\n",
        "\n",
        "print(tf.__version__)"
      ],
      "metadata": {
        "colab": {
          "base_uri": "https://localhost:8080/"
        },
        "id": "y5SAT8MS8aQD",
        "outputId": "76f96c5b-2895-472c-ce66-392d6bbbe770"
      },
      "execution_count": 1,
      "outputs": [
        {
          "output_type": "stream",
          "name": "stdout",
          "text": [
            "2.15.0\n"
          ]
        }
      ]
    },
    {
      "cell_type": "code",
      "source": [
        "fashion_mnist = tf.keras.datasets.fashion_mnist\n",
        "(train_images, train_labels), (test_images, test_labels) = fashion_mnist.load_data()"
      ],
      "metadata": {
        "id": "ljCzplOj8hGD",
        "colab": {
          "base_uri": "https://localhost:8080/"
        },
        "outputId": "9c1cc751-df0a-4dcd-c006-1c4b00ac788d"
      },
      "execution_count": 2,
      "outputs": [
        {
          "output_type": "stream",
          "name": "stdout",
          "text": [
            "Downloading data from https://storage.googleapis.com/tensorflow/tf-keras-datasets/train-labels-idx1-ubyte.gz\n",
            "29515/29515 [==============================] - 0s 0us/step\n",
            "Downloading data from https://storage.googleapis.com/tensorflow/tf-keras-datasets/train-images-idx3-ubyte.gz\n",
            "26421880/26421880 [==============================] - 0s 0us/step\n",
            "Downloading data from https://storage.googleapis.com/tensorflow/tf-keras-datasets/t10k-labels-idx1-ubyte.gz\n",
            "5148/5148 [==============================] - 0s 0us/step\n",
            "Downloading data from https://storage.googleapis.com/tensorflow/tf-keras-datasets/t10k-images-idx3-ubyte.gz\n",
            "4422102/4422102 [==============================] - 0s 0us/step\n"
          ]
        }
      ]
    },
    {
      "cell_type": "code",
      "source": [
        "class_names = ['T-shirt/top', 'Trouser', 'Pullover', 'Dress', 'Coat',\n",
        "               'Sandal', 'Shirt', 'Sneaker', 'Bag', 'Ankle boot']\n"
      ],
      "metadata": {
        "id": "Lji74HgS8jqx"
      },
      "execution_count": 3,
      "outputs": []
    },
    {
      "cell_type": "markdown",
      "source": [
        "## 2.데이터탐색\n",
        "- 모델을 훈련하기 전에 데이터셋 구조를 살펴보죠. 다음 코드는 훈련 세트에 60,000개의 이미지가 있다는 것을 보여줍니다. 각 이미지는 28x28 픽셀로 표현됩니다"
      ],
      "metadata": {
        "id": "6ezbsD198zVR"
      }
    },
    {
      "cell_type": "code",
      "source": [
        "train_images.shape"
      ],
      "metadata": {
        "colab": {
          "base_uri": "https://localhost:8080/"
        },
        "id": "sItF1sor84wz",
        "outputId": "e3169aa2-79be-40f4-cfc8-548b0781f6a8"
      },
      "execution_count": 4,
      "outputs": [
        {
          "output_type": "execute_result",
          "data": {
            "text/plain": [
              "(60000, 28, 28)"
            ]
          },
          "metadata": {},
          "execution_count": 4
        }
      ]
    },
    {
      "cell_type": "code",
      "source": [
        "len(train_labels)"
      ],
      "metadata": {
        "colab": {
          "base_uri": "https://localhost:8080/"
        },
        "id": "aDv_Y2wz86bb",
        "outputId": "948557fd-cb73-4c34-9abf-b1dddf29b61c"
      },
      "execution_count": 5,
      "outputs": [
        {
          "output_type": "execute_result",
          "data": {
            "text/plain": [
              "60000"
            ]
          },
          "metadata": {},
          "execution_count": 5
        }
      ]
    },
    {
      "cell_type": "code",
      "source": [
        "train_labels"
      ],
      "metadata": {
        "colab": {
          "base_uri": "https://localhost:8080/"
        },
        "id": "0TuuQhLs9Gj7",
        "outputId": "7b031a5d-6726-45b8-bd77-f0555371d8d7"
      },
      "execution_count": 6,
      "outputs": [
        {
          "output_type": "execute_result",
          "data": {
            "text/plain": [
              "array([9, 0, 0, ..., 3, 0, 5], dtype=uint8)"
            ]
          },
          "metadata": {},
          "execution_count": 6
        }
      ]
    },
    {
      "cell_type": "code",
      "source": [
        "## 추가코드\n",
        "def label_Unique(data):\n",
        "  tmp=np.unique(data, return_counts=True)\n",
        "  print(tmp)\n",
        "  plt.figure(figsize=(3,2))\n",
        "  plt.bar(tmp[0],tmp[1])\n",
        "  plt.show()\n",
        "label_Unique(train_labels)\n"
      ],
      "metadata": {
        "colab": {
          "base_uri": "https://localhost:8080/",
          "height": 232
        },
        "id": "scaPjFqG9IqQ",
        "outputId": "210de29a-3fec-4831-d00c-27516fdfb090"
      },
      "execution_count": 7,
      "outputs": [
        {
          "output_type": "stream",
          "name": "stdout",
          "text": [
            "(array([0, 1, 2, 3, 4, 5, 6, 7, 8, 9], dtype=uint8), array([6000, 6000, 6000, 6000, 6000, 6000, 6000, 6000, 6000, 6000]))\n"
          ]
        },
        {
          "output_type": "display_data",
          "data": {
            "text/plain": [
              "<Figure size 300x200 with 1 Axes>"
            ],
            "image/png": "[encoded data removed]"
          },
          "metadata": {}
        }
      ]
    },
    {
      "cell_type": "code",
      "source": [
        "test_images.shape\n"
      ],
      "metadata": {
        "colab": {
          "base_uri": "https://localhost:8080/"
        },
        "id": "xW5WvbI-99pf",
        "outputId": "39fe4c7a-7bc8-4ebe-f402-d44bd53d88f9"
      },
      "execution_count": 8,
      "outputs": [
        {
          "output_type": "execute_result",
          "data": {
            "text/plain": [
              "(10000, 28, 28)"
            ]
          },
          "metadata": {},
          "execution_count": 8
        }
      ]
    },
    {
      "cell_type": "code",
      "source": [
        "len(test_labels)"
      ],
      "metadata": {
        "colab": {
          "base_uri": "https://localhost:8080/"
        },
        "id": "T8wW17yZ-THC",
        "outputId": "d899ccf3-1d75-4a84-add4-8e768e5f25eb"
      },
      "execution_count": 9,
      "outputs": [
        {
          "output_type": "execute_result",
          "data": {
            "text/plain": [
              "10000"
            ]
          },
          "metadata": {},
          "execution_count": 9
        }
      ]
    },
    {
      "cell_type": "code",
      "source": [
        "###########\n",
        "## 추가코드\n",
        "############\n",
        "label_Unique(test_labels)"
      ],
      "metadata": {
        "colab": {
          "base_uri": "https://localhost:8080/",
          "height": 232
        },
        "id": "s-GmpcIR-V7X",
        "outputId": "fec231f9-1f44-4fe3-8159-736a8b0c1933"
      },
      "execution_count": 10,
      "outputs": [
        {
          "output_type": "stream",
          "name": "stdout",
          "text": [
            "(array([0, 1, 2, 3, 4, 5, 6, 7, 8, 9], dtype=uint8), array([1000, 1000, 1000, 1000, 1000, 1000, 1000, 1000, 1000, 1000]))\n"
          ]
        },
        {
          "output_type": "display_data",
          "data": {
            "text/plain": [
              "<Figure size 300x200 with 1 Axes>"
            ],
            "image/png": "[encoded data removed]"
          },
          "metadata": {}
        }
      ]
    },
    {
      "cell_type": "markdown",
      "source": [
        "## 3.데이터전처리\n",
        "- 네트워크를 훈련하기 전에 데이터를 전처리해야 합니다. 훈련 세트에 있는 첫 번째 이미지를 보면 픽셀 값의 범위가 0~255 사이라는 것을 알 수 있습니다:"
      ],
      "metadata": {
        "id": "V77FZRVl-m8v"
      }
    },
    {
      "cell_type": "code",
      "source": [
        "plt.figure()\n",
        "plt.imshow(train_images[0])\n",
        "plt.colorbar()\n",
        "plt.grid(False)\n",
        "plt.show()"
      ],
      "metadata": {
        "colab": {
          "base_uri": "https://localhost:8080/",
          "height": 430
        },
        "id": "88_1K_vf-vGO",
        "outputId": "a6812e75-a56f-4aba-f5b4-36e544f58e0b"
      },
      "execution_count": 11,
      "outputs": [
        {
          "output_type": "display_data",
          "data": {
            "text/plain": [
              "<Figure size 640x480 with 2 Axes>"
            ],
            "image/png": "[encoded data removed]"
          },
          "metadata": {}
        }
      ]
    },
    {
      "cell_type": "code",
      "source": [
        "###########################3\n",
        "## 신경망 모델에 주입하기 전에 이 값의 범위를 0~1 사이로 조정하겠습니다.\n",
        "# 이렇게 하려면 255로 나누어야 합니다. 훈련 세트와 테스트 세트를 동일한 방식으로 전처리하는 것이 중요합니다:\n",
        "\n",
        "train_images = train_images / 255.0\n",
        "test_images = test_images / 255.0"
      ],
      "metadata": {
        "id": "Xe1ijyWk-7wh"
      },
      "execution_count": 12,
      "outputs": []
    },
    {
      "cell_type": "code",
      "source": [
        "############################3\n",
        "## 훈련 세트에서 처음 25개 이미지와 그 아래 클래스 이름을 출력해 보죠.\n",
        "### 데이터 포맷이 올바른지 확인하고 네트워크 구성과 훈련할 준비를 마칩니다.\n",
        "\n",
        "plt.figure(figsize=(10,10))\n",
        "for i in range(25):\n",
        "    plt.subplot(5,5,i+1)\n",
        "    plt.xticks([])\n",
        "    plt.yticks([])\n",
        "    plt.grid(False)\n",
        "    plt.imshow(train_images[i], cmap=plt.cm.binary)\n",
        "    plt.xlabel(class_names[train_labels[i]])\n",
        "plt.show()"
      ],
      "metadata": {
        "colab": {
          "base_uri": "https://localhost:8080/",
          "height": 826
        },
        "id": "mk3Zei2x_B1v",
        "outputId": "6b38a34f-d88a-4787-e0de-5389ccb2aae7"
      },
      "execution_count": 13,
      "outputs": [
        {
          "output_type": "display_data",
          "data": {
            "text/plain": [
              "<Figure size 1000x1000 with 25 Axes>"
            ],
            "image/png": "[encoded data removed]"
          },
          "metadata": {}
        }
      ]
    },
    {
      "cell_type": "markdown",
      "source": [
        "## 4.모델구성\n",
        "- 신경망 모델을 만들려면 모델의 층을 구성한 다음 모델을 컴파일합니다.\n",
        ".\n"
      ],
      "metadata": {
        "id": "fKXUR2qb_LCa"
      }
    },
    {
      "cell_type": "code",
      "source": [
        "########################\n",
        "\n",
        "# 층 설정\n",
        "# 신경망의 기본 빌딩 블록은 레이어 입니다.\n",
        "# 레이어는 레이어에 공급된 데이터로부터 표현을 추출합니다. 이러한 표현은 당면한 문제에 의미가 있어야 합니다.\n",
        "# 대부분 딥러닝은 간단한 층을 연결하여 구성됩니다.\n",
        "# tf.keras.layers.Dense와 같은 층들의 가중치(parameter)는 훈련하는 동안 학습됩니다\n",
        "\n",
        "model = tf.keras.Sequential([\n",
        "    tf.keras.layers.Flatten(input_shape=(28, 28)),\n",
        "    tf.keras.layers.Dense(128, activation='relu'),\n",
        "    tf.keras.layers.Dense(10)\n",
        "])\n",
        "\n",
        "\n",
        "#############\n",
        "# 모델 컴파일\n",
        "# 모델을 훈련할 준비가 되기 전에 몇 가지 설정이 더 필요합니다. 다음은 모델의 컴파일 단계에서 추가됩니다.\n",
        "\n",
        "# 손실 함수 - 훈련 중 모델이 얼마나 정확한지 측정합니다. 모델을 올바른 방향으로 \"조정\"하려면 이 함수를 최소화해야 합니다.\n",
        "# 옵티마이저 - 모델이 인식하는 데이터와 해당 손실 함수를 기반으로 모델이 업데이트되는 방식입니다.\n",
        "# 메트릭 — 훈련 및 테스트 단계를 모니터링하는 데 사용됩니다. 다음 예에서는 올바르게 분류된 이미지의 비율인 정확도를 사용합니다.\n",
        "\n",
        "model.compile(optimizer='adam',\n",
        "              loss=tf.keras.losses.SparseCategoricalCrossentropy(from_logits=True),\n",
        "              metrics=['accuracy'])\n",
        "\n",
        "\n"
      ],
      "metadata": {
        "id": "IhrwPlZ1_Q50"
      },
      "execution_count": 14,
      "outputs": []
    },
    {
      "cell_type": "code",
      "source": [
        "model.summary()"
      ],
      "metadata": {
        "colab": {
          "base_uri": "https://localhost:8080/"
        },
        "id": "pp3oicFiLcYH",
        "outputId": "f84eef71-b64d-41e4-c187-b22ee0664bd9"
      },
      "execution_count": 22,
      "outputs": [
        {
          "output_type": "stream",
          "name": "stdout",
          "text": [
            "Model: \"sequential\"\n",
            "_________________________________________________________________\n",
            " Layer (type)                Output Shape              Param #   \n",
            "=================================================================\n",
            " flatten (Flatten)           (None, 784)               0         \n",
            "                                                                 \n",
            " dense (Dense)               (None, 128)               100480    \n",
            "                                                                 \n",
            " dense_1 (Dense)             (None, 10)                1290      \n",
            "                                                                 \n",
            "=================================================================\n",
            "Total params: 101770 (397.54 KB)\n",
            "Trainable params: 101770 (397.54 KB)\n",
            "Non-trainable params: 0 (0.00 Byte)\n",
            "_________________________________________________________________\n"
          ]
        }
      ]
    },
    {
      "cell_type": "code",
      "source": [
        "#########\n",
        "## 모델저장\n",
        "###\n",
        "from tensorflow.keras.callbacks import ModelCheckpoint\n",
        "modelpath=\"./model/{epoch:02d}-{val_accuracy:.4f}.hdf5\"\n",
        "checkpointer = ModelCheckpoint(filepath=modelpath, verbose=1)\n",
        "\n",
        "hist=model.fit(train_images, train_labels,\n",
        "               epochs=3,\n",
        "               validation_data=(test_images, test_labels),callbacks=[checkpointer])\n"
      ],
      "metadata": {
        "colab": {
          "base_uri": "https://localhost:8080/"
        },
        "id": "qlUIhyHSBAwf",
        "outputId": "fe950586-72ae-4225-cc1b-b6d1409ad734"
      },
      "execution_count": 15,
      "outputs": [
        {
          "output_type": "stream",
          "name": "stdout",
          "text": [
            "Epoch 1/3\n",
            "1863/1875 [============================>.] - ETA: 0s - loss: 0.5005 - accuracy: 0.8238\n",
            "Epoch 1: saving model to ./model/01-0.8415.hdf5\n",
            "1875/1875 [==============================] - 9s 4ms/step - loss: 0.5000 - accuracy: 0.8240 - val_loss: 0.4398 - val_accuracy: 0.8415\n",
            "Epoch 2/3\n",
            "  51/1875 [..............................] - ETA: 5s - loss: 0.4061 - accuracy: 0.8572"
          ]
        },
        {
          "output_type": "stream",
          "name": "stderr",
          "text": [
            "/usr/local/lib/python3.10/dist-packages/keras/src/engine/training.py:3103: UserWarning: You are saving your model as an HDF5 file via `model.save()`. This file format is considered legacy. We recommend using instead the native Keras format, e.g. `model.save('my_model.keras')`.\n",
            "  saving_api.save_model(\n"
          ]
        },
        {
          "output_type": "stream",
          "name": "stdout",
          "text": [
            "1872/1875 [============================>.] - ETA: 0s - loss: 0.3739 - accuracy: 0.8665\n",
            "Epoch 2: saving model to ./model/02-0.8547.hdf5\n",
            "1875/1875 [==============================] - 7s 3ms/step - loss: 0.3739 - accuracy: 0.8665 - val_loss: 0.3956 - val_accuracy: 0.8547\n",
            "Epoch 3/3\n",
            "1867/1875 [============================>.] - ETA: 0s - loss: 0.3381 - accuracy: 0.8777\n",
            "Epoch 3: saving model to ./model/03-0.8703.hdf5\n",
            "1875/1875 [==============================] - 8s 4ms/step - loss: 0.3383 - accuracy: 0.8777 - val_loss: 0.3561 - val_accuracy: 0.8703\n"
          ]
        }
      ]
    },
    {
      "cell_type": "markdown",
      "source": [
        "## 5.정확도평가\n",
        "- 다음으로, 모델이 테스트 데이터세트에서 작동하는 방식을 비교합니다\n",
        "- 만들어진 모델의 레이어당 w, b를 이용한 계산 결과의 최종값이 test_label값과 같은가 (그 개수를 파악 / 전체 개수 )\n",
        "- 지금 이 자료는 10개의 카테고리를 한 개 카테고리 맞추기 (softmax 활성화함수 : wx+b를 하고 sigmoid를 한 10개의 값을 다 더해서 각 값을 나눈값)"
      ],
      "metadata": {
        "id": "rtDYkCzoBu9C"
      }
    },
    {
      "cell_type": "code",
      "source": [
        "test_loss, test_acc = model.evaluate(test_images,  test_labels, verbose=2)\n",
        "\n",
        "print('\\nTest accuracy:', test_acc)"
      ],
      "metadata": {
        "colab": {
          "base_uri": "https://localhost:8080/"
        },
        "id": "0xf_AmcTB0kL",
        "outputId": "0f5abeed-8087-4971-ec6d-29cab6cf7461"
      },
      "execution_count": 16,
      "outputs": [
        {
          "output_type": "stream",
          "name": "stdout",
          "text": [
            "313/313 - 0s - loss: 0.3561 - accuracy: 0.8703 - 459ms/epoch - 1ms/step\n",
            "\n",
            "Test accuracy: 0.8702999949455261\n"
          ]
        }
      ]
    },
    {
      "cell_type": "markdown",
      "source": [
        "## 6.예측하기\n",
        "- 훈련된 모델을 사용하여 일부 이미지에 대한 예측을 수행할 수 있습니다. 소프트맥스 레이어를 연결하여 로짓을 해석하기 쉬운 확률로 변환합니다.\n",
        "- y값을 원핫인코딩해서 넣으면 model.predict하면 됨\n",
        "- y값을 원핫인코딩 안하고 넣으면 model.predict하면 안됨. tf.nn.softmax해야 함. => 이 코드의 이슈는 최종레이어의 softmax함수를 사용하지 않았기 때문에 예측할 때 아래코드가 추가되어야 함.  \n",
        "probability_model = tf.keras.Sequential([model, tf.keras.layers.Softmax()])"
      ],
      "metadata": {
        "id": "A99I9nAhB4pp"
      }
    },
    {
      "cell_type": "code",
      "source": [
        "probability_model = tf.keras.Sequential([model,\n",
        "                                         tf.keras.layers.Softmax()])"
      ],
      "metadata": {
        "id": "jzWN5u4nB_x4"
      },
      "execution_count": 89,
      "outputs": []
    },
    {
      "cell_type": "code",
      "source": [
        "predictions = probability_model.predict(test_images)"
      ],
      "metadata": {
        "colab": {
          "base_uri": "https://localhost:8080/"
        },
        "id": "5vRj2CVmCB8_",
        "outputId": "012a4030-4148-4fc3-8a6c-024524644625"
      },
      "execution_count": 90,
      "outputs": [
        {
          "output_type": "stream",
          "name": "stdout",
          "text": [
            "313/313 [==============================] - 1s 2ms/step\n"
          ]
        }
      ]
    },
    {
      "cell_type": "code",
      "source": [
        "predictions[0], np.sum(predictions[0])"
      ],
      "metadata": {
        "colab": {
          "base_uri": "https://localhost:8080/"
        },
        "id": "1xtR6dYoCExa",
        "outputId": "1f761a6b-b6c9-4b28-885e-e544f5675485"
      },
      "execution_count": 91,
      "outputs": [
        {
          "output_type": "execute_result",
          "data": {
            "text/plain": [
              "(array([1.3658183e-05, 9.1578407e-09, 1.2361040e-06, 1.2629415e-07,\n",
              "        1.3189946e-06, 7.1480535e-02, 5.7390757e-06, 4.4938613e-02,\n",
              "        1.6103128e-03, 8.8194841e-01], dtype=float32),\n",
              " 0.99999994)"
            ]
          },
          "metadata": {},
          "execution_count": 91
        }
      ]
    },
    {
      "cell_type": "code",
      "source": [
        "tmp = model.predict(test_images)  #원핫인코딩으로 되어 있는 y값을 넣었을때는 이렇게 예측함.\n",
        "tmp[0], np.sum(tmp[0])"
      ],
      "metadata": {
        "colab": {
          "base_uri": "https://localhost:8080/"
        },
        "id": "m49wz_Oehg7R",
        "outputId": "87b61e1a-2621-4639-9a5f-ba5296949c77"
      },
      "execution_count": 92,
      "outputs": [
        {
          "output_type": "stream",
          "name": "stdout",
          "text": [
            "313/313 [==============================] - 1s 2ms/step\n"
          ]
        },
        {
          "output_type": "execute_result",
          "data": {
            "text/plain": [
              "(array([ -5.156181 , -12.463664 ,  -7.5585556,  -9.839662 ,  -7.49365  ,\n",
              "          3.4066603,  -6.023222 ,   2.9425325,  -0.3863364,   5.9193687],\n",
              "       dtype=float32),\n",
              " -36.652706)"
            ]
          },
          "metadata": {},
          "execution_count": 92
        }
      ]
    },
    {
      "cell_type": "code",
      "source": [
        "## 테스트 이미지의 첫번째 자료를 확인하고자함.\n",
        "\n",
        "print(predictions[0], np.sum(predictions[0]))\n",
        "print('-'*100)\n",
        "\n",
        "num=100\n",
        "bun = np.argmax(predictions[num])\n",
        "yhat = class_names[bun]\n",
        "\n",
        "print(f'yhat: {yhat}, real: {class_names[test_labels[num]]}')\n",
        "plt.imshow(test_images[num], cmap='gray')"
      ],
      "metadata": {
        "colab": {
          "base_uri": "https://localhost:8080/",
          "height": 521
        },
        "id": "pZFK6QkdkVlu",
        "outputId": "58951521-1d6c-4136-8980-d067e20749cb"
      },
      "execution_count": 99,
      "outputs": [
        {
          "output_type": "stream",
          "name": "stdout",
          "text": [
            "[1.3658183e-05 9.1578407e-09 1.2361040e-06 1.2629415e-07 1.3189946e-06\n",
            " 7.1480535e-02 5.7390757e-06 4.4938613e-02 1.6103128e-03 8.8194841e-01] 0.99999994\n",
            "----------------------------------------------------------------------------------------------------\n",
            "yhat: Dress, real: Dress\n"
          ]
        },
        {
          "output_type": "execute_result",
          "data": {
            "text/plain": [
              "<matplotlib.image.AxesImage at 0x78b115fa8f70>"
            ]
          },
          "metadata": {},
          "execution_count": 99
        },
        {
          "output_type": "display_data",
          "data": {
            "text/plain": [
              "<Figure size 640x480 with 1 Axes>"
            ],
            "image/png": "[encoded data removed]"
          },
          "metadata": {}
        }
      ]
    },
    {
      "cell_type": "code",
      "source": [
        "test_labels"
      ],
      "metadata": {
        "colab": {
          "base_uri": "https://localhost:8080/"
        },
        "id": "08CGiqSklj9J",
        "outputId": "d1829f7e-b402-4241-81ce-ba65c3802e3c"
      },
      "execution_count": 109,
      "outputs": [
        {
          "output_type": "execute_result",
          "data": {
            "text/plain": [
              "array([9, 2, 1, ..., 8, 1, 5], dtype=uint8)"
            ]
          },
          "metadata": {},
          "execution_count": 109
        }
      ]
    },
    {
      "cell_type": "code",
      "source": [
        "cnt = 0\n",
        "for num in range(len(test_labels)):\n",
        "  bun = np.argmax(predictions[num])\n",
        "  yhat = class_names[bun]\n",
        "\n",
        "  if yhat != class_names[test_labels[num]]:\n",
        "    print(f'{num} yhat: {yhat}, real: {class_names[test_labels[num]]}')\n",
        "    cnt += 1\n",
        "\n",
        "print()\n",
        "print(f'정확도 : {100-(cnt / len(test_labels)*100):.2f}%')"
      ],
      "metadata": {
        "colab": {
          "base_uri": "https://localhost:8080/"
        },
        "id": "YzYTCYdXld2d",
        "outputId": "32edeaae-5dde-4aa1-ecb1-c41dc8063f75"
      },
      "execution_count": 113,
      "outputs": [
        {
          "output_type": "stream",
          "name": "stdout",
          "text": [
            "17 yhat: Pullover, real: Coat\n",
            "23 yhat: Sandal, real: Ankle boot\n",
            "25 yhat: Pullover, real: Coat\n",
            "40 yhat: T-shirt/top, real: Shirt\n",
            "42 yhat: Shirt, real: Dress\n",
            "49 yhat: Shirt, real: Pullover\n",
            "51 yhat: Pullover, real: Coat\n",
            "57 yhat: Shirt, real: Coat\n",
            "66 yhat: Dress, real: Pullover\n",
            "68 yhat: Sneaker, real: Ankle boot\n",
            "89 yhat: Pullover, real: Shirt\n",
            "98 yhat: Pullover, real: Coat\n",
            "103 yhat: Shirt, real: Pullover\n",
            "107 yhat: Sneaker, real: Ankle boot\n",
            "127 yhat: Pullover, real: Coat\n",
            "141 yhat: Shirt, real: T-shirt/top\n",
            "147 yhat: Dress, real: Shirt\n",
            "150 yhat: Dress, real: Coat\n",
            "151 yhat: Pullover, real: Coat\n",
            "153 yhat: Dress, real: Coat\n",
            "170 yhat: Shirt, real: T-shirt/top\n",
            "192 yhat: Dress, real: Trouser\n",
            "193 yhat: Pullover, real: Shirt\n",
            "222 yhat: Dress, real: Pullover\n",
            "239 yhat: Pullover, real: Coat\n",
            "241 yhat: Coat, real: Shirt\n",
            "244 yhat: Pullover, real: Shirt\n",
            "247 yhat: Pullover, real: Coat\n",
            "279 yhat: Pullover, real: Coat\n",
            "282 yhat: Pullover, real: Shirt\n",
            "286 yhat: T-shirt/top, real: Shirt\n",
            "311 yhat: Shirt, real: Dress\n",
            "313 yhat: Shirt, real: Coat\n",
            "315 yhat: Pullover, real: Coat\n",
            "316 yhat: Sneaker, real: Ankle boot\n",
            "320 yhat: Pullover, real: Bag\n",
            "324 yhat: Shirt, real: Coat\n",
            "325 yhat: Pullover, real: Shirt\n",
            "332 yhat: Shirt, real: T-shirt/top\n",
            "344 yhat: T-shirt/top, real: Shirt\n",
            "352 yhat: Shirt, real: Bag\n",
            "359 yhat: Shirt, real: T-shirt/top\n",
            "361 yhat: Shirt, real: Pullover\n",
            "374 yhat: Shirt, real: T-shirt/top\n",
            "378 yhat: Dress, real: Coat\n",
            "381 yhat: Shirt, real: T-shirt/top\n",
            "382 yhat: T-shirt/top, real: Pullover\n",
            "389 yhat: Pullover, real: Shirt\n",
            "396 yhat: Shirt, real: Coat\n",
            "406 yhat: Pullover, real: Shirt\n",
            "409 yhat: Dress, real: Trouser\n",
            "441 yhat: Sneaker, real: Ankle boot\n",
            "444 yhat: Coat, real: Shirt\n",
            "454 yhat: Pullover, real: T-shirt/top\n",
            "457 yhat: Coat, real: Pullover\n",
            "460 yhat: Trouser, real: Dress\n",
            "474 yhat: T-shirt/top, real: Shirt\n",
            "476 yhat: Shirt, real: Coat\n",
            "490 yhat: Shirt, real: Dress\n",
            "491 yhat: Shirt, real: Coat\n",
            "499 yhat: Dress, real: T-shirt/top\n",
            "526 yhat: Pullover, real: Coat\n",
            "529 yhat: Pullover, real: Bag\n",
            "541 yhat: Pullover, real: Coat\n",
            "548 yhat: Coat, real: Shirt\n",
            "562 yhat: Pullover, real: Shirt\n",
            "563 yhat: T-shirt/top, real: Shirt\n",
            "565 yhat: T-shirt/top, real: Shirt\n",
            "569 yhat: T-shirt/top, real: Dress\n",
            "572 yhat: T-shirt/top, real: Shirt\n",
            "577 yhat: Shirt, real: T-shirt/top\n",
            "578 yhat: Shirt, real: Dress\n",
            "585 yhat: Pullover, real: Coat\n",
            "586 yhat: T-shirt/top, real: Shirt\n",
            "595 yhat: Pullover, real: Shirt\n",
            "607 yhat: T-shirt/top, real: Dress\n",
            "616 yhat: Dress, real: T-shirt/top\n",
            "634 yhat: Pullover, real: Shirt\n",
            "635 yhat: Trouser, real: Bag\n",
            "639 yhat: Pullover, real: Coat\n",
            "663 yhat: Dress, real: Trouser\n",
            "669 yhat: T-shirt/top, real: Bag\n",
            "670 yhat: Shirt, real: Pullover\n",
            "671 yhat: Sandal, real: Sneaker\n",
            "685 yhat: Dress, real: Coat\n",
            "688 yhat: Coat, real: Dress\n",
            "689 yhat: Pullover, real: Coat\n",
            "697 yhat: Pullover, real: Bag\n",
            "701 yhat: Dress, real: Trouser\n",
            "702 yhat: Pullover, real: Coat\n",
            "711 yhat: Dress, real: Shirt\n",
            "722 yhat: Sneaker, real: Sandal\n",
            "725 yhat: Coat, real: Shirt\n",
            "732 yhat: T-shirt/top, real: Pullover\n",
            "753 yhat: T-shirt/top, real: Dress\n",
            "760 yhat: Shirt, real: Pullover\n",
            "761 yhat: Pullover, real: Shirt\n",
            "787 yhat: Dress, real: Trouser\n",
            "800 yhat: Ankle boot, real: Sneaker\n",
            "801 yhat: Pullover, real: Coat\n",
            "805 yhat: Pullover, real: Coat\n",
            "806 yhat: Pullover, real: Coat\n",
            "823 yhat: Pullover, real: Shirt\n",
            "830 yhat: Shirt, real: Coat\n",
            "844 yhat: Trouser, real: Dress\n",
            "851 yhat: Coat, real: Pullover\n",
            "860 yhat: Pullover, real: Shirt\n",
            "875 yhat: Pullover, real: Coat\n",
            "881 yhat: Shirt, real: T-shirt/top\n",
            "887 yhat: Trouser, real: Dress\n",
            "890 yhat: Dress, real: T-shirt/top\n",
            "902 yhat: Sneaker, real: Sandal\n",
            "905 yhat: Pullover, real: Coat\n",
            "909 yhat: Pullover, real: Shirt\n",
            "921 yhat: Coat, real: Shirt\n",
            "926 yhat: Shirt, real: T-shirt/top\n",
            "930 yhat: Bag, real: T-shirt/top\n",
            "933 yhat: Pullover, real: Coat\n",
            "935 yhat: Shirt, real: Coat\n",
            "937 yhat: Shirt, real: T-shirt/top\n",
            "956 yhat: Pullover, real: Shirt\n",
            "960 yhat: Pullover, real: Dress\n",
            "963 yhat: Coat, real: Shirt\n",
            "965 yhat: Pullover, real: T-shirt/top\n",
            "966 yhat: T-shirt/top, real: Shirt\n",
            "976 yhat: Coat, real: Pullover\n",
            "977 yhat: T-shirt/top, real: Shirt\n",
            "979 yhat: T-shirt/top, real: Dress\n",
            "987 yhat: Pullover, real: Coat\n",
            "993 yhat: Sneaker, real: Sandal\n",
            "994 yhat: Pullover, real: Coat\n",
            "1000 yhat: Shirt, real: T-shirt/top\n",
            "1004 yhat: Pullover, real: Shirt\n",
            "1005 yhat: Pullover, real: T-shirt/top\n",
            "1008 yhat: Pullover, real: Shirt\n",
            "1025 yhat: Coat, real: Shirt\n",
            "1053 yhat: Pullover, real: Coat\n",
            "1055 yhat: Pullover, real: Coat\n",
            "1056 yhat: T-shirt/top, real: Shirt\n",
            "1065 yhat: Shirt, real: Coat\n",
            "1082 yhat: Dress, real: Trouser\n",
            "1101 yhat: Shirt, real: Coat\n",
            "1104 yhat: Shirt, real: Coat\n",
            "1107 yhat: Pullover, real: Shirt\n",
            "1111 yhat: Dress, real: T-shirt/top\n",
            "1121 yhat: Pullover, real: Shirt\n",
            "1123 yhat: Sandal, real: Sneaker\n",
            "1131 yhat: Coat, real: Shirt\n",
            "1139 yhat: Shirt, real: T-shirt/top\n",
            "1152 yhat: T-shirt/top, real: Shirt\n",
            "1160 yhat: Dress, real: Coat\n",
            "1162 yhat: Coat, real: Shirt\n",
            "1165 yhat: Pullover, real: Shirt\n",
            "1174 yhat: Coat, real: Shirt\n",
            "1185 yhat: Pullover, real: Coat\n",
            "1207 yhat: Dress, real: T-shirt/top\n",
            "1210 yhat: T-shirt/top, real: Shirt\n",
            "1218 yhat: Dress, real: T-shirt/top\n",
            "1223 yhat: Shirt, real: Coat\n",
            "1231 yhat: Shirt, real: T-shirt/top\n",
            "1249 yhat: Shirt, real: T-shirt/top\n",
            "1254 yhat: Coat, real: Pullover\n",
            "1280 yhat: Coat, real: Pullover\n",
            "1285 yhat: Shirt, real: T-shirt/top\n",
            "1297 yhat: Pullover, real: Coat\n",
            "1300 yhat: Sandal, real: Bag\n",
            "1305 yhat: Shirt, real: T-shirt/top\n",
            "1326 yhat: Shirt, real: Dress\n",
            "1329 yhat: Pullover, real: Coat\n",
            "1334 yhat: Shirt, real: Coat\n",
            "1339 yhat: Dress, real: Pullover\n",
            "1342 yhat: Pullover, real: Coat\n",
            "1343 yhat: Pullover, real: Coat\n",
            "1356 yhat: Pullover, real: Coat\n",
            "1374 yhat: Coat, real: Pullover\n",
            "1377 yhat: Pullover, real: Coat\n",
            "1388 yhat: Pullover, real: Coat\n",
            "1390 yhat: Trouser, real: Dress\n",
            "1396 yhat: T-shirt/top, real: Shirt\n",
            "1399 yhat: Shirt, real: T-shirt/top\n",
            "1408 yhat: Pullover, real: Coat\n",
            "1425 yhat: Shirt, real: Pullover\n",
            "1449 yhat: Coat, real: Pullover\n",
            "1455 yhat: Pullover, real: Bag\n",
            "1458 yhat: T-shirt/top, real: Shirt\n",
            "1462 yhat: Bag, real: Coat\n",
            "1469 yhat: Pullover, real: Shirt\n",
            "1471 yhat: Sneaker, real: Ankle boot\n",
            "1482 yhat: Dress, real: Trouser\n",
            "1483 yhat: Shirt, real: T-shirt/top\n",
            "1487 yhat: Pullover, real: Shirt\n",
            "1495 yhat: Shirt, real: T-shirt/top\n",
            "1496 yhat: Pullover, real: Shirt\n",
            "1502 yhat: Pullover, real: Shirt\n",
            "1504 yhat: Dress, real: T-shirt/top\n",
            "1522 yhat: Sneaker, real: Ankle boot\n",
            "1527 yhat: Shirt, real: Pullover\n",
            "1533 yhat: Shirt, real: Pullover\n",
            "1586 yhat: Shirt, real: T-shirt/top\n",
            "1593 yhat: Pullover, real: Coat\n",
            "1596 yhat: Pullover, real: Coat\n",
            "1620 yhat: T-shirt/top, real: Shirt\n",
            "1624 yhat: Shirt, real: Pullover\n",
            "1632 yhat: Sneaker, real: Ankle boot\n",
            "1643 yhat: Coat, real: Shirt\n",
            "1645 yhat: Bag, real: Shirt\n",
            "1650 yhat: T-shirt/top, real: Shirt\n",
            "1659 yhat: Dress, real: Trouser\n",
            "1662 yhat: Pullover, real: Coat\n",
            "1665 yhat: Coat, real: Dress\n",
            "1671 yhat: Pullover, real: Coat\n",
            "1686 yhat: Shirt, real: T-shirt/top\n",
            "1701 yhat: Coat, real: Shirt\n",
            "1732 yhat: Coat, real: Pullover\n",
            "1743 yhat: Coat, real: Pullover\n",
            "1744 yhat: Pullover, real: Shirt\n",
            "1771 yhat: T-shirt/top, real: Shirt\n",
            "1785 yhat: Sandal, real: Sneaker\n",
            "1792 yhat: Pullover, real: Coat\n",
            "1803 yhat: Pullover, real: Coat\n",
            "1810 yhat: Coat, real: Dress\n",
            "1811 yhat: Pullover, real: Coat\n",
            "1814 yhat: Dress, real: Coat\n",
            "1822 yhat: Sandal, real: Sneaker\n",
            "1833 yhat: Trouser, real: Dress\n",
            "1842 yhat: Shirt, real: T-shirt/top\n",
            "1846 yhat: T-shirt/top, real: Bag\n",
            "1852 yhat: Coat, real: Dress\n",
            "1856 yhat: Pullover, real: Coat\n",
            "1861 yhat: Shirt, real: T-shirt/top\n",
            "1863 yhat: Pullover, real: Coat\n",
            "1867 yhat: Shirt, real: T-shirt/top\n",
            "1895 yhat: Pullover, real: Coat\n",
            "1905 yhat: Shirt, real: T-shirt/top\n",
            "1917 yhat: Pullover, real: Coat\n",
            "1922 yhat: Coat, real: Shirt\n",
            "1930 yhat: Coat, real: Dress\n",
            "1943 yhat: T-shirt/top, real: Shirt\n",
            "1945 yhat: Dress, real: T-shirt/top\n",
            "1953 yhat: Sneaker, real: Sandal\n",
            "1954 yhat: Sneaker, real: Ankle boot\n",
            "1955 yhat: Dress, real: Trouser\n",
            "1957 yhat: Coat, real: Pullover\n",
            "1968 yhat: Shirt, real: Dress\n",
            "1974 yhat: T-shirt/top, real: Shirt\n",
            "1975 yhat: Coat, real: Bag\n",
            "1980 yhat: Dress, real: Bag\n",
            "2001 yhat: Coat, real: Pullover\n",
            "2006 yhat: T-shirt/top, real: Shirt\n",
            "2016 yhat: Pullover, real: Shirt\n",
            "2020 yhat: Coat, real: Pullover\n",
            "2021 yhat: T-shirt/top, real: Dress\n",
            "2022 yhat: Ankle boot, real: Sneaker\n",
            "2037 yhat: Sneaker, real: Sandal\n",
            "2039 yhat: Coat, real: Pullover\n",
            "2042 yhat: Pullover, real: Coat\n",
            "2065 yhat: Trouser, real: Dress\n",
            "2067 yhat: Pullover, real: Coat\n",
            "2069 yhat: Pullover, real: Shirt\n",
            "2071 yhat: Coat, real: Dress\n",
            "2073 yhat: Dress, real: Coat\n",
            "2076 yhat: Pullover, real: Bag\n",
            "2110 yhat: Coat, real: Shirt\n",
            "2124 yhat: Pullover, real: Coat\n",
            "2138 yhat: Pullover, real: Shirt\n",
            "2144 yhat: Shirt, real: Coat\n",
            "2162 yhat: Coat, real: Shirt\n",
            "2189 yhat: Shirt, real: Coat\n",
            "2191 yhat: T-shirt/top, real: Shirt\n",
            "2195 yhat: Pullover, real: Shirt\n",
            "2243 yhat: Pullover, real: Coat\n",
            "2245 yhat: Pullover, real: Dress\n",
            "2272 yhat: Coat, real: Pullover\n",
            "2279 yhat: Pullover, real: T-shirt/top\n",
            "2284 yhat: Shirt, real: Coat\n",
            "2290 yhat: T-shirt/top, real: Shirt\n",
            "2309 yhat: Shirt, real: Dress\n",
            "2311 yhat: Dress, real: Shirt\n",
            "2312 yhat: Shirt, real: Dress\n",
            "2316 yhat: Sneaker, real: Ankle boot\n",
            "2318 yhat: Pullover, real: Dress\n",
            "2320 yhat: Pullover, real: Coat\n",
            "2326 yhat: Pullover, real: Shirt\n",
            "2332 yhat: Coat, real: Pullover\n",
            "2337 yhat: Shirt, real: Pullover\n",
            "2351 yhat: Pullover, real: Shirt\n",
            "2352 yhat: Coat, real: Shirt\n",
            "2373 yhat: Pullover, real: Shirt\n",
            "2376 yhat: Shirt, real: Coat\n",
            "2378 yhat: Sandal, real: Bag\n",
            "2396 yhat: Shirt, real: Trouser\n",
            "2397 yhat: T-shirt/top, real: Shirt\n",
            "2399 yhat: Sandal, real: Ankle boot\n",
            "2401 yhat: Sandal, real: Ankle boot\n",
            "2417 yhat: T-shirt/top, real: Shirt\n",
            "2418 yhat: Pullover, real: Coat\n",
            "2421 yhat: Pullover, real: Coat\n",
            "2425 yhat: Pullover, real: Shirt\n",
            "2431 yhat: T-shirt/top, real: Shirt\n",
            "2440 yhat: Pullover, real: Coat\n",
            "2462 yhat: Pullover, real: Coat\n",
            "2464 yhat: T-shirt/top, real: Shirt\n",
            "2469 yhat: Pullover, real: Shirt\n",
            "2476 yhat: Coat, real: Bag\n",
            "2478 yhat: Dress, real: Trouser\n",
            "2485 yhat: T-shirt/top, real: Shirt\n",
            "2487 yhat: Shirt, real: Coat\n",
            "2491 yhat: Pullover, real: Shirt\n",
            "2498 yhat: T-shirt/top, real: Shirt\n",
            "2500 yhat: Pullover, real: Shirt\n",
            "2503 yhat: Coat, real: Pullover\n",
            "2506 yhat: Shirt, real: T-shirt/top\n",
            "2507 yhat: Coat, real: Dress\n",
            "2509 yhat: Pullover, real: Coat\n",
            "2522 yhat: Shirt, real: T-shirt/top\n",
            "2527 yhat: Sneaker, real: Ankle boot\n",
            "2540 yhat: Coat, real: Shirt\n",
            "2548 yhat: Shirt, real: Pullover\n",
            "2551 yhat: Dress, real: Shirt\n",
            "2559 yhat: Sneaker, real: Ankle boot\n",
            "2571 yhat: Pullover, real: T-shirt/top\n",
            "2573 yhat: Dress, real: Coat\n",
            "2580 yhat: T-shirt/top, real: Shirt\n",
            "2588 yhat: Pullover, real: Shirt\n",
            "2593 yhat: Shirt, real: Pullover\n",
            "2595 yhat: Ankle boot, real: Sneaker\n",
            "2599 yhat: Bag, real: T-shirt/top\n",
            "2617 yhat: Shirt, real: Coat\n",
            "2629 yhat: Dress, real: Shirt\n",
            "2639 yhat: Coat, real: Dress\n",
            "2652 yhat: Pullover, real: T-shirt/top\n",
            "2653 yhat: Shirt, real: T-shirt/top\n",
            "2659 yhat: Shirt, real: Bag\n",
            "2661 yhat: Pullover, real: Shirt\n",
            "2670 yhat: Pullover, real: Shirt\n",
            "2671 yhat: Pullover, real: Coat\n",
            "2681 yhat: Shirt, real: Coat\n",
            "2685 yhat: Pullover, real: Dress\n",
            "2688 yhat: T-shirt/top, real: Dress\n",
            "2694 yhat: Coat, real: Shirt\n",
            "2695 yhat: Shirt, real: Dress\n",
            "2698 yhat: Dress, real: Coat\n",
            "2717 yhat: Pullover, real: T-shirt/top\n",
            "2721 yhat: T-shirt/top, real: Dress\n",
            "2733 yhat: Coat, real: Pullover\n",
            "2734 yhat: Pullover, real: Coat\n",
            "2741 yhat: Pullover, real: Trouser\n",
            "2752 yhat: Pullover, real: Shirt\n",
            "2757 yhat: Pullover, real: Shirt\n",
            "2772 yhat: Sandal, real: Sneaker\n",
            "2776 yhat: Pullover, real: Coat\n",
            "2779 yhat: Dress, real: Coat\n",
            "2794 yhat: Pullover, real: Coat\n",
            "2814 yhat: Pullover, real: Dress\n",
            "2817 yhat: Trouser, real: Dress\n",
            "2828 yhat: Shirt, real: T-shirt/top\n",
            "2837 yhat: Shirt, real: Pullover\n",
            "2839 yhat: T-shirt/top, real: Shirt\n",
            "2840 yhat: T-shirt/top, real: Shirt\n",
            "2842 yhat: Coat, real: Shirt\n",
            "2843 yhat: Pullover, real: Shirt\n",
            "2856 yhat: T-shirt/top, real: Shirt\n",
            "2865 yhat: Coat, real: Shirt\n",
            "2869 yhat: Pullover, real: Shirt\n",
            "2872 yhat: Shirt, real: T-shirt/top\n",
            "2882 yhat: Pullover, real: Shirt\n",
            "2897 yhat: Sandal, real: T-shirt/top\n",
            "2898 yhat: Coat, real: Dress\n",
            "2905 yhat: Coat, real: Bag\n",
            "2909 yhat: Dress, real: T-shirt/top\n",
            "2914 yhat: Ankle boot, real: Sneaker\n",
            "2919 yhat: Shirt, real: Coat\n",
            "2920 yhat: Coat, real: Pullover\n",
            "2926 yhat: Coat, real: Pullover\n",
            "2935 yhat: Sneaker, real: Ankle boot\n",
            "2940 yhat: T-shirt/top, real: Shirt\n",
            "2942 yhat: Pullover, real: Shirt\n",
            "2951 yhat: Dress, real: Trouser\n",
            "2953 yhat: Pullover, real: T-shirt/top\n",
            "2965 yhat: Ankle boot, real: Sneaker\n",
            "2967 yhat: Pullover, real: Coat\n",
            "2979 yhat: Pullover, real: Shirt\n",
            "2985 yhat: Pullover, real: Shirt\n",
            "3004 yhat: Sandal, real: Sneaker\n",
            "3007 yhat: T-shirt/top, real: Dress\n",
            "3008 yhat: Dress, real: Bag\n",
            "3019 yhat: Pullover, real: Dress\n",
            "3040 yhat: Shirt, real: Pullover\n",
            "3045 yhat: Dress, real: Shirt\n",
            "3058 yhat: Pullover, real: Coat\n",
            "3071 yhat: Ankle boot, real: Sandal\n",
            "3074 yhat: Shirt, real: T-shirt/top\n",
            "3077 yhat: Pullover, real: Coat\n",
            "3080 yhat: T-shirt/top, real: Shirt\n",
            "3081 yhat: Pullover, real: Coat\n",
            "3082 yhat: Shirt, real: Pullover\n",
            "3083 yhat: Pullover, real: Coat\n",
            "3084 yhat: Dress, real: Coat\n",
            "3087 yhat: Sneaker, real: Ankle boot\n",
            "3106 yhat: Coat, real: Dress\n",
            "3116 yhat: Pullover, real: Shirt\n",
            "3123 yhat: Sandal, real: Sneaker\n",
            "3132 yhat: Pullover, real: T-shirt/top\n",
            "3140 yhat: T-shirt/top, real: Dress\n",
            "3165 yhat: Pullover, real: Shirt\n",
            "3174 yhat: Pullover, real: Shirt\n",
            "3176 yhat: Pullover, real: Coat\n",
            "3188 yhat: Pullover, real: Shirt\n",
            "3198 yhat: Pullover, real: Shirt\n",
            "3201 yhat: Dress, real: T-shirt/top\n",
            "3205 yhat: Dress, real: T-shirt/top\n",
            "3209 yhat: T-shirt/top, real: Dress\n",
            "3220 yhat: Dress, real: Coat\n",
            "3229 yhat: Shirt, real: Coat\n",
            "3230 yhat: T-shirt/top, real: Shirt\n",
            "3232 yhat: T-shirt/top, real: Shirt\n",
            "3234 yhat: Sandal, real: Sneaker\n",
            "3236 yhat: Shirt, real: T-shirt/top\n",
            "3240 yhat: Shirt, real: Pullover\n",
            "3244 yhat: Shirt, real: T-shirt/top\n",
            "3253 yhat: Sneaker, real: Sandal\n",
            "3255 yhat: T-shirt/top, real: Pullover\n",
            "3258 yhat: Dress, real: Pullover\n",
            "3262 yhat: Coat, real: Shirt\n",
            "3265 yhat: Pullover, real: Dress\n",
            "3274 yhat: Ankle boot, real: Sneaker\n",
            "3277 yhat: Pullover, real: T-shirt/top\n",
            "3282 yhat: Pullover, real: Bag\n",
            "3283 yhat: Shirt, real: T-shirt/top\n",
            "3284 yhat: Shirt, real: Pullover\n",
            "3290 yhat: Pullover, real: Coat\n",
            "3293 yhat: Coat, real: Pullover\n",
            "3297 yhat: Coat, real: Pullover\n",
            "3313 yhat: Shirt, real: Dress\n",
            "3323 yhat: T-shirt/top, real: Shirt\n",
            "3327 yhat: Dress, real: Shirt\n",
            "3332 yhat: Shirt, real: T-shirt/top\n",
            "3334 yhat: Dress, real: Shirt\n",
            "3338 yhat: Coat, real: Shirt\n",
            "3342 yhat: Pullover, real: T-shirt/top\n",
            "3351 yhat: Ankle boot, real: Sneaker\n",
            "3370 yhat: Coat, real: Pullover\n",
            "3386 yhat: Pullover, real: Coat\n",
            "3401 yhat: Pullover, real: Shirt\n",
            "3429 yhat: Dress, real: Shirt\n",
            "3441 yhat: Shirt, real: T-shirt/top\n",
            "3442 yhat: Ankle boot, real: Sneaker\n",
            "3451 yhat: Shirt, real: T-shirt/top\n",
            "3454 yhat: Shirt, real: T-shirt/top\n",
            "3457 yhat: Coat, real: Pullover\n",
            "3466 yhat: Sandal, real: T-shirt/top\n",
            "3468 yhat: Sneaker, real: Bag\n",
            "3479 yhat: Pullover, real: Coat\n",
            "3481 yhat: T-shirt/top, real: Shirt\n",
            "3484 yhat: Pullover, real: T-shirt/top\n",
            "3485 yhat: Shirt, real: T-shirt/top\n",
            "3489 yhat: Dress, real: Pullover\n",
            "3491 yhat: Pullover, real: Shirt\n",
            "3496 yhat: Coat, real: Pullover\n",
            "3509 yhat: Pullover, real: Coat\n",
            "3531 yhat: Dress, real: T-shirt/top\n",
            "3532 yhat: Shirt, real: Pullover\n",
            "3540 yhat: Shirt, real: T-shirt/top\n",
            "3545 yhat: Pullover, real: Shirt\n",
            "3553 yhat: T-shirt/top, real: Pullover\n",
            "3554 yhat: Coat, real: Pullover\n",
            "3568 yhat: Pullover, real: Coat\n",
            "3572 yhat: Pullover, real: Shirt\n",
            "3575 yhat: Shirt, real: T-shirt/top\n",
            "3588 yhat: Pullover, real: Shirt\n",
            "3598 yhat: Coat, real: Pullover\n",
            "3609 yhat: Coat, real: T-shirt/top\n",
            "3625 yhat: T-shirt/top, real: Shirt\n",
            "3626 yhat: Dress, real: Coat\n",
            "3643 yhat: Pullover, real: Coat\n",
            "3658 yhat: Coat, real: Shirt\n",
            "3663 yhat: Bag, real: Shirt\n",
            "3669 yhat: Coat, real: Shirt\n",
            "3690 yhat: Sneaker, real: Sandal\n",
            "3700 yhat: T-shirt/top, real: Shirt\n",
            "3704 yhat: Pullover, real: Coat\n",
            "3706 yhat: Pullover, real: Dress\n",
            "3720 yhat: Coat, real: Dress\n",
            "3730 yhat: Dress, real: Coat\n",
            "3731 yhat: Pullover, real: Coat\n",
            "3733 yhat: Sandal, real: Sneaker\n",
            "3739 yhat: Trouser, real: Dress\n",
            "3741 yhat: Bag, real: Shirt\n",
            "3747 yhat: Shirt, real: T-shirt/top\n",
            "3765 yhat: Shirt, real: Bag\n",
            "3767 yhat: Pullover, real: Coat\n",
            "3787 yhat: Pullover, real: Shirt\n",
            "3800 yhat: Pullover, real: Shirt\n",
            "3804 yhat: Pullover, real: Coat\n",
            "3805 yhat: T-shirt/top, real: Dress\n",
            "3811 yhat: Dress, real: Coat\n",
            "3816 yhat: Coat, real: Pullover\n",
            "3829 yhat: Trouser, real: Shirt\n",
            "3830 yhat: Dress, real: Shirt\n",
            "3855 yhat: Pullover, real: Coat\n",
            "3861 yhat: Coat, real: Shirt\n",
            "3864 yhat: Pullover, real: Shirt\n",
            "3866 yhat: Ankle boot, real: Sandal\n",
            "3871 yhat: Coat, real: Pullover\n",
            "3876 yhat: Pullover, real: Shirt\n",
            "3880 yhat: Dress, real: Pullover\n",
            "3896 yhat: Sneaker, real: Ankle boot\n",
            "3900 yhat: Pullover, real: Shirt\n",
            "3909 yhat: Sneaker, real: Ankle boot\n",
            "3917 yhat: Shirt, real: T-shirt/top\n",
            "3919 yhat: Bag, real: T-shirt/top\n",
            "3938 yhat: Shirt, real: T-shirt/top\n",
            "3940 yhat: Coat, real: Dress\n",
            "3953 yhat: Pullover, real: T-shirt/top\n",
            "3954 yhat: Shirt, real: T-shirt/top\n",
            "3959 yhat: Pullover, real: Shirt\n",
            "3961 yhat: Pullover, real: Coat\n",
            "3974 yhat: Dress, real: Trouser\n",
            "3987 yhat: Coat, real: Shirt\n",
            "3988 yhat: Coat, real: Bag\n",
            "4010 yhat: Sandal, real: Sneaker\n",
            "4012 yhat: Pullover, real: Coat\n",
            "4019 yhat: T-shirt/top, real: Shirt\n",
            "4021 yhat: Coat, real: Pullover\n",
            "4037 yhat: Coat, real: Pullover\n",
            "4040 yhat: Sneaker, real: Sandal\n",
            "4041 yhat: Dress, real: Pullover\n",
            "4056 yhat: Coat, real: Dress\n",
            "4058 yhat: Sandal, real: Sneaker\n",
            "4061 yhat: Shirt, real: Coat\n",
            "4067 yhat: Shirt, real: T-shirt/top\n",
            "4071 yhat: Pullover, real: Bag\n",
            "4079 yhat: Coat, real: Shirt\n",
            "4084 yhat: Shirt, real: Dress\n",
            "4088 yhat: Pullover, real: Shirt\n",
            "4104 yhat: Dress, real: Pullover\n",
            "4106 yhat: Pullover, real: Shirt\n",
            "4109 yhat: T-shirt/top, real: Shirt\n",
            "4124 yhat: Coat, real: Pullover\n",
            "4127 yhat: T-shirt/top, real: Shirt\n",
            "4138 yhat: Shirt, real: Pullover\n",
            "4142 yhat: Dress, real: Shirt\n",
            "4143 yhat: Pullover, real: T-shirt/top\n",
            "4148 yhat: Bag, real: Dress\n",
            "4152 yhat: Pullover, real: Shirt\n",
            "4153 yhat: T-shirt/top, real: Shirt\n",
            "4159 yhat: T-shirt/top, real: Pullover\n",
            "4166 yhat: Pullover, real: Coat\n",
            "4184 yhat: Ankle boot, real: Sneaker\n",
            "4192 yhat: T-shirt/top, real: Shirt\n",
            "4193 yhat: Trouser, real: T-shirt/top\n",
            "4194 yhat: T-shirt/top, real: Shirt\n",
            "4196 yhat: Shirt, real: Pullover\n",
            "4213 yhat: Shirt, real: T-shirt/top\n",
            "4224 yhat: Shirt, real: T-shirt/top\n",
            "4231 yhat: T-shirt/top, real: Shirt\n",
            "4233 yhat: Pullover, real: Coat\n",
            "4251 yhat: Shirt, real: Coat\n",
            "4262 yhat: Dress, real: T-shirt/top\n",
            "4267 yhat: Pullover, real: Shirt\n",
            "4272 yhat: Pullover, real: Coat\n",
            "4274 yhat: Shirt, real: Bag\n",
            "4275 yhat: Dress, real: T-shirt/top\n",
            "4280 yhat: T-shirt/top, real: Shirt\n",
            "4299 yhat: Pullover, real: Shirt\n",
            "4300 yhat: Shirt, real: Pullover\n",
            "4307 yhat: Dress, real: Coat\n",
            "4317 yhat: Pullover, real: Coat\n",
            "4329 yhat: Pullover, real: Shirt\n",
            "4333 yhat: Pullover, real: Coat\n",
            "4363 yhat: Coat, real: Pullover\n",
            "4373 yhat: Pullover, real: Coat\n",
            "4381 yhat: Shirt, real: T-shirt/top\n",
            "4389 yhat: Pullover, real: Coat\n",
            "4394 yhat: Bag, real: Dress\n",
            "4399 yhat: Coat, real: Shirt\n",
            "4404 yhat: Sneaker, real: Ankle boot\n",
            "4405 yhat: Sneaker, real: Sandal\n",
            "4411 yhat: Pullover, real: Coat\n",
            "4416 yhat: Pullover, real: Shirt\n",
            "4417 yhat: Shirt, real: Coat\n",
            "4420 yhat: Pullover, real: Shirt\n",
            "4437 yhat: Pullover, real: Coat\n",
            "4451 yhat: T-shirt/top, real: Shirt\n",
            "4456 yhat: Shirt, real: Bag\n",
            "4460 yhat: Shirt, real: T-shirt/top\n",
            "4471 yhat: Pullover, real: Coat\n",
            "4481 yhat: Pullover, real: Coat\n",
            "4484 yhat: Dress, real: Coat\n",
            "4500 yhat: Pullover, real: Coat\n",
            "4505 yhat: Bag, real: Shirt\n",
            "4508 yhat: Shirt, real: T-shirt/top\n",
            "4509 yhat: Dress, real: Shirt\n",
            "4539 yhat: Shirt, real: T-shirt/top\n",
            "4542 yhat: Pullover, real: Shirt\n",
            "4569 yhat: Dress, real: Shirt\n",
            "4579 yhat: Pullover, real: Coat\n",
            "4599 yhat: Ankle boot, real: Sandal\n",
            "4608 yhat: Shirt, real: Coat\n",
            "4615 yhat: Sandal, real: Ankle boot\n",
            "4629 yhat: Coat, real: Pullover\n",
            "4641 yhat: Pullover, real: Coat\n",
            "4646 yhat: Pullover, real: Coat\n",
            "4649 yhat: Coat, real: Pullover\n",
            "4652 yhat: Pullover, real: Coat\n",
            "4658 yhat: Dress, real: T-shirt/top\n",
            "4664 yhat: Shirt, real: Dress\n",
            "4668 yhat: Shirt, real: Coat\n",
            "4672 yhat: Dress, real: Shirt\n",
            "4674 yhat: Shirt, real: Pullover\n",
            "4678 yhat: Dress, real: Trouser\n",
            "4685 yhat: Shirt, real: Pullover\n",
            "4687 yhat: Coat, real: Pullover\n",
            "4692 yhat: T-shirt/top, real: Shirt\n",
            "4693 yhat: Ankle boot, real: Sneaker\n",
            "4708 yhat: Shirt, real: Bag\n",
            "4711 yhat: Dress, real: T-shirt/top\n",
            "4727 yhat: T-shirt/top, real: Shirt\n",
            "4738 yhat: Coat, real: Pullover\n",
            "4739 yhat: Pullover, real: Coat\n",
            "4742 yhat: Ankle boot, real: Sandal\n",
            "4743 yhat: Sandal, real: Ankle boot\n",
            "4744 yhat: T-shirt/top, real: Bag\n",
            "4751 yhat: Coat, real: Dress\n",
            "4756 yhat: Pullover, real: Coat\n",
            "4775 yhat: Shirt, real: Coat\n",
            "4777 yhat: Shirt, real: Pullover\n",
            "4784 yhat: Pullover, real: Shirt\n",
            "4803 yhat: T-shirt/top, real: Shirt\n",
            "4810 yhat: Pullover, real: Coat\n",
            "4817 yhat: Coat, real: Shirt\n",
            "4823 yhat: Coat, real: Pullover\n",
            "4828 yhat: Coat, real: Pullover\n",
            "4829 yhat: Sneaker, real: Bag\n",
            "4842 yhat: T-shirt/top, real: Shirt\n",
            "4846 yhat: Coat, real: Pullover\n",
            "4847 yhat: Coat, real: Pullover\n",
            "4850 yhat: Sneaker, real: Ankle boot\n",
            "4852 yhat: Shirt, real: Dress\n",
            "4859 yhat: Sandal, real: Sneaker\n",
            "4874 yhat: Pullover, real: Shirt\n",
            "4880 yhat: Pullover, real: Coat\n",
            "4886 yhat: T-shirt/top, real: Shirt\n",
            "4893 yhat: T-shirt/top, real: Shirt\n",
            "4896 yhat: T-shirt/top, real: Shirt\n",
            "4897 yhat: Shirt, real: T-shirt/top\n",
            "4907 yhat: Dress, real: Coat\n",
            "4917 yhat: Shirt, real: T-shirt/top\n",
            "4922 yhat: Pullover, real: Coat\n",
            "4924 yhat: Shirt, real: T-shirt/top\n",
            "4934 yhat: Pullover, real: Dress\n",
            "4941 yhat: Pullover, real: Shirt\n",
            "4965 yhat: Shirt, real: T-shirt/top\n",
            "4995 yhat: Pullover, real: Coat\n",
            "5006 yhat: Dress, real: Shirt\n",
            "5009 yhat: Sneaker, real: Ankle boot\n",
            "5015 yhat: Coat, real: Pullover\n",
            "5025 yhat: Trouser, real: Dress\n",
            "5028 yhat: Shirt, real: T-shirt/top\n",
            "5030 yhat: Shirt, real: T-shirt/top\n",
            "5032 yhat: Shirt, real: T-shirt/top\n",
            "5036 yhat: Dress, real: Coat\n",
            "5037 yhat: Pullover, real: Dress\n",
            "5040 yhat: Coat, real: Shirt\n",
            "5046 yhat: Pullover, real: Coat\n",
            "5052 yhat: Coat, real: Shirt\n",
            "5056 yhat: Sneaker, real: Sandal\n",
            "5065 yhat: Bag, real: Shirt\n",
            "5066 yhat: Pullover, real: Coat\n",
            "5070 yhat: Dress, real: Coat\n",
            "5077 yhat: Sneaker, real: Ankle boot\n",
            "5082 yhat: Ankle boot, real: Sandal\n",
            "5086 yhat: Shirt, real: T-shirt/top\n",
            "5090 yhat: Ankle boot, real: Sandal\n",
            "5096 yhat: Coat, real: Shirt\n",
            "5119 yhat: Shirt, real: T-shirt/top\n",
            "5123 yhat: Bag, real: Shirt\n",
            "5128 yhat: Pullover, real: Coat\n",
            "5144 yhat: Shirt, real: T-shirt/top\n",
            "5148 yhat: Shirt, real: Bag\n",
            "5155 yhat: Pullover, real: Shirt\n",
            "5161 yhat: Coat, real: Shirt\n",
            "5167 yhat: Pullover, real: Coat\n",
            "5168 yhat: Coat, real: Shirt\n",
            "5172 yhat: Dress, real: T-shirt/top\n",
            "5177 yhat: Pullover, real: Coat\n",
            "5184 yhat: Pullover, real: Shirt\n",
            "5186 yhat: T-shirt/top, real: Shirt\n",
            "5197 yhat: Coat, real: Shirt\n",
            "5204 yhat: Shirt, real: Dress\n",
            "5210 yhat: Sandal, real: Sneaker\n",
            "5228 yhat: Pullover, real: Shirt\n",
            "5235 yhat: Bag, real: Sandal\n",
            "5248 yhat: Dress, real: Shirt\n",
            "5249 yhat: Dress, real: Shirt\n",
            "5251 yhat: Trouser, real: Dress\n",
            "5255 yhat: Pullover, real: Coat\n",
            "5257 yhat: Coat, real: Dress\n",
            "5266 yhat: T-shirt/top, real: Shirt\n",
            "5270 yhat: Shirt, real: Dress\n",
            "5282 yhat: Pullover, real: Shirt\n",
            "5284 yhat: Shirt, real: Pullover\n",
            "5297 yhat: Shirt, real: T-shirt/top\n",
            "5307 yhat: Shirt, real: T-shirt/top\n",
            "5310 yhat: Shirt, real: Coat\n",
            "5316 yhat: Ankle boot, real: Sneaker\n",
            "5317 yhat: Shirt, real: T-shirt/top\n",
            "5327 yhat: Dress, real: Trouser\n",
            "5334 yhat: Dress, real: T-shirt/top\n",
            "5336 yhat: Pullover, real: Coat\n",
            "5338 yhat: Bag, real: T-shirt/top\n",
            "5349 yhat: Shirt, real: T-shirt/top\n",
            "5378 yhat: Pullover, real: Shirt\n",
            "5381 yhat: Pullover, real: Coat\n",
            "5382 yhat: Shirt, real: Coat\n",
            "5395 yhat: Shirt, real: Bag\n",
            "5397 yhat: Pullover, real: Coat\n",
            "5415 yhat: Pullover, real: Coat\n",
            "5424 yhat: Dress, real: Shirt\n",
            "5429 yhat: Pullover, real: Coat\n",
            "5435 yhat: Shirt, real: T-shirt/top\n",
            "5441 yhat: Pullover, real: Coat\n",
            "5442 yhat: T-shirt/top, real: Shirt\n",
            "5464 yhat: Pullover, real: Coat\n",
            "5468 yhat: Shirt, real: Pullover\n",
            "5469 yhat: T-shirt/top, real: Shirt\n",
            "5470 yhat: Coat, real: Bag\n",
            "5471 yhat: Coat, real: Pullover\n",
            "5474 yhat: Coat, real: Pullover\n",
            "5488 yhat: T-shirt/top, real: Dress\n",
            "5497 yhat: Pullover, real: Shirt\n",
            "5504 yhat: T-shirt/top, real: Shirt\n",
            "5510 yhat: Bag, real: Shirt\n",
            "5511 yhat: Pullover, real: Coat\n",
            "5512 yhat: Shirt, real: Ankle boot\n",
            "5520 yhat: Ankle boot, real: Sneaker\n",
            "5521 yhat: Pullover, real: Shirt\n",
            "5522 yhat: T-shirt/top, real: Shirt\n",
            "5525 yhat: Sneaker, real: Ankle boot\n",
            "5530 yhat: Pullover, real: Shirt\n",
            "5533 yhat: Dress, real: Trouser\n",
            "5546 yhat: Pullover, real: Coat\n",
            "5561 yhat: Dress, real: Sandal\n",
            "5566 yhat: Dress, real: Shirt\n",
            "5568 yhat: Coat, real: Pullover\n",
            "5569 yhat: Dress, real: Shirt\n",
            "5575 yhat: Coat, real: Dress\n",
            "5576 yhat: Coat, real: Dress\n",
            "5592 yhat: Pullover, real: Dress\n",
            "5594 yhat: Pullover, real: Shirt\n",
            "5596 yhat: Coat, real: Shirt\n",
            "5597 yhat: Coat, real: Trouser\n",
            "5601 yhat: Shirt, real: T-shirt/top\n",
            "5605 yhat: Pullover, real: Coat\n",
            "5623 yhat: Pullover, real: Shirt\n",
            "5634 yhat: T-shirt/top, real: Shirt\n",
            "5648 yhat: Pullover, real: Shirt\n",
            "5654 yhat: T-shirt/top, real: Shirt\n",
            "5659 yhat: Shirt, real: T-shirt/top\n",
            "5661 yhat: Bag, real: Coat\n",
            "5679 yhat: Pullover, real: Shirt\n",
            "5683 yhat: T-shirt/top, real: Shirt\n",
            "5689 yhat: Sneaker, real: Sandal\n",
            "5695 yhat: T-shirt/top, real: Shirt\n",
            "5701 yhat: T-shirt/top, real: Pullover\n",
            "5703 yhat: Ankle boot, real: Sandal\n",
            "5713 yhat: Shirt, real: Pullover\n",
            "5718 yhat: Dress, real: T-shirt/top\n",
            "5721 yhat: Shirt, real: Coat\n",
            "5739 yhat: Dress, real: T-shirt/top\n",
            "5745 yhat: Dress, real: T-shirt/top\n",
            "5746 yhat: Dress, real: Trouser\n",
            "5749 yhat: Coat, real: Shirt\n",
            "5752 yhat: Coat, real: Pullover\n",
            "5760 yhat: Dress, real: Trouser\n",
            "5761 yhat: Dress, real: Trouser\n",
            "5762 yhat: Pullover, real: Coat\n",
            "5763 yhat: Trouser, real: Dress\n",
            "5777 yhat: Pullover, real: Shirt\n",
            "5795 yhat: Coat, real: Shirt\n",
            "5806 yhat: T-shirt/top, real: Shirt\n",
            "5816 yhat: Pullover, real: Shirt\n",
            "5820 yhat: Shirt, real: Pullover\n",
            "5826 yhat: Coat, real: Shirt\n",
            "5853 yhat: Shirt, real: Pullover\n",
            "5881 yhat: Pullover, real: Coat\n",
            "5885 yhat: Coat, real: Shirt\n",
            "5899 yhat: Ankle boot, real: Sandal\n",
            "5917 yhat: Coat, real: Shirt\n",
            "5919 yhat: Pullover, real: Coat\n",
            "5938 yhat: Sneaker, real: Ankle boot\n",
            "5943 yhat: Shirt, real: T-shirt/top\n",
            "5946 yhat: Sandal, real: Ankle boot\n",
            "5966 yhat: Shirt, real: T-shirt/top\n",
            "5971 yhat: Coat, real: Dress\n",
            "5977 yhat: T-shirt/top, real: Shirt\n",
            "5983 yhat: Coat, real: Shirt\n",
            "5987 yhat: Dress, real: Shirt\n",
            "5993 yhat: Bag, real: Coat\n",
            "6002 yhat: Pullover, real: Shirt\n",
            "6008 yhat: T-shirt/top, real: Shirt\n",
            "6012 yhat: Shirt, real: Dress\n",
            "6020 yhat: T-shirt/top, real: Shirt\n",
            "6023 yhat: Pullover, real: Shirt\n",
            "6024 yhat: T-shirt/top, real: Shirt\n",
            "6032 yhat: Coat, real: Pullover\n",
            "6037 yhat: Pullover, real: Shirt\n",
            "6065 yhat: Pullover, real: T-shirt/top\n",
            "6085 yhat: Ankle boot, real: Sneaker\n",
            "6094 yhat: Pullover, real: T-shirt/top\n",
            "6096 yhat: Pullover, real: Shirt\n",
            "6103 yhat: Shirt, real: Coat\n",
            "6117 yhat: Dress, real: Trouser\n",
            "6127 yhat: Pullover, real: Shirt\n",
            "6129 yhat: Ankle boot, real: Sneaker\n",
            "6132 yhat: Pullover, real: Dress\n",
            "6147 yhat: Sneaker, real: Sandal\n",
            "6148 yhat: Shirt, real: Coat\n",
            "6149 yhat: Shirt, real: Coat\n",
            "6156 yhat: Coat, real: Shirt\n",
            "6160 yhat: Coat, real: Shirt\n",
            "6175 yhat: Pullover, real: Coat\n",
            "6184 yhat: Coat, real: Pullover\n",
            "6207 yhat: Coat, real: Dress\n",
            "6233 yhat: Shirt, real: Bag\n",
            "6234 yhat: Dress, real: Coat\n",
            "6240 yhat: Pullover, real: T-shirt/top\n",
            "6241 yhat: Pullover, real: Coat\n",
            "6242 yhat: Dress, real: Coat\n",
            "6248 yhat: Dress, real: Shirt\n",
            "6254 yhat: Coat, real: Shirt\n",
            "6258 yhat: T-shirt/top, real: Shirt\n",
            "6270 yhat: Pullover, real: Coat\n",
            "6285 yhat: Coat, real: Pullover\n",
            "6293 yhat: Shirt, real: T-shirt/top\n",
            "6297 yhat: Pullover, real: Coat\n",
            "6300 yhat: Ankle boot, real: Sneaker\n",
            "6314 yhat: Shirt, real: Bag\n",
            "6329 yhat: Pullover, real: Shirt\n",
            "6331 yhat: Bag, real: Trouser\n",
            "6344 yhat: T-shirt/top, real: Shirt\n",
            "6358 yhat: Ankle boot, real: Sandal\n",
            "6363 yhat: Pullover, real: Shirt\n",
            "6365 yhat: Pullover, real: T-shirt/top\n",
            "6368 yhat: Pullover, real: Shirt\n",
            "6400 yhat: Pullover, real: Coat\n",
            "6402 yhat: Pullover, real: Coat\n",
            "6405 yhat: Pullover, real: Coat\n",
            "6407 yhat: Coat, real: Shirt\n",
            "6420 yhat: Dress, real: Coat\n",
            "6433 yhat: Shirt, real: Dress\n",
            "6437 yhat: Pullover, real: Shirt\n",
            "6441 yhat: Dress, real: Bag\n",
            "6452 yhat: Bag, real: Shirt\n",
            "6453 yhat: Trouser, real: Dress\n",
            "6464 yhat: Dress, real: Coat\n",
            "6472 yhat: Sandal, real: Sneaker\n",
            "6474 yhat: Dress, real: Pullover\n",
            "6475 yhat: Sandal, real: Sneaker\n",
            "6478 yhat: Shirt, real: Coat\n",
            "6485 yhat: Shirt, real: T-shirt/top\n",
            "6488 yhat: Sneaker, real: Ankle boot\n",
            "6491 yhat: Shirt, real: Dress\n",
            "6500 yhat: Pullover, real: Coat\n",
            "6504 yhat: Sneaker, real: Sandal\n",
            "6511 yhat: Coat, real: Pullover\n",
            "6513 yhat: Pullover, real: Coat\n",
            "6514 yhat: Pullover, real: Shirt\n",
            "6524 yhat: Coat, real: Pullover\n",
            "6531 yhat: Coat, real: Shirt\n",
            "6539 yhat: Coat, real: Shirt\n",
            "6542 yhat: Shirt, real: T-shirt/top\n",
            "6548 yhat: Coat, real: Shirt\n",
            "6558 yhat: T-shirt/top, real: Shirt\n",
            "6559 yhat: Pullover, real: Coat\n",
            "6561 yhat: Dress, real: Coat\n",
            "6564 yhat: Coat, real: Pullover\n",
            "6565 yhat: Sneaker, real: Bag\n",
            "6575 yhat: Pullover, real: Shirt\n",
            "6584 yhat: Coat, real: Dress\n",
            "6591 yhat: Pullover, real: Shirt\n",
            "6596 yhat: Bag, real: Shirt\n",
            "6608 yhat: Pullover, real: Coat\n",
            "6614 yhat: Shirt, real: Dress\n",
            "6626 yhat: Coat, real: Shirt\n",
            "6634 yhat: Sneaker, real: Sandal\n",
            "6649 yhat: Dress, real: T-shirt/top\n",
            "6655 yhat: T-shirt/top, real: Shirt\n",
            "6656 yhat: Dress, real: Trouser\n",
            "6658 yhat: Pullover, real: Shirt\n",
            "6664 yhat: T-shirt/top, real: Shirt\n",
            "6667 yhat: Pullover, real: Shirt\n",
            "6676 yhat: Coat, real: Dress\n",
            "6679 yhat: Shirt, real: T-shirt/top\n",
            "6686 yhat: Ankle boot, real: Sneaker\n",
            "6688 yhat: Shirt, real: T-shirt/top\n",
            "6689 yhat: Pullover, real: Dress\n",
            "6701 yhat: Ankle boot, real: Sneaker\n",
            "6709 yhat: Pullover, real: Coat\n",
            "6715 yhat: Pullover, real: Coat\n",
            "6718 yhat: Sneaker, real: Sandal\n",
            "6727 yhat: Sneaker, real: Sandal\n",
            "6733 yhat: Sneaker, real: Ankle boot\n",
            "6742 yhat: Shirt, real: T-shirt/top\n",
            "6758 yhat: Shirt, real: T-shirt/top\n",
            "6760 yhat: Shirt, real: T-shirt/top\n",
            "6770 yhat: Dress, real: Shirt\n",
            "6797 yhat: Dress, real: Shirt\n",
            "6801 yhat: Dress, real: Coat\n",
            "6816 yhat: Coat, real: Pullover\n",
            "6826 yhat: T-shirt/top, real: Pullover\n",
            "6829 yhat: Pullover, real: Coat\n",
            "6844 yhat: Pullover, real: Shirt\n",
            "6855 yhat: Pullover, real: Coat\n",
            "6859 yhat: Pullover, real: Coat\n",
            "6861 yhat: Pullover, real: Shirt\n",
            "6868 yhat: Ankle boot, real: Sneaker\n",
            "6874 yhat: Dress, real: Pullover\n",
            "6897 yhat: Ankle boot, real: Sandal\n",
            "6899 yhat: Pullover, real: Coat\n",
            "6908 yhat: Shirt, real: Coat\n",
            "6921 yhat: Coat, real: Pullover\n",
            "6926 yhat: Shirt, real: T-shirt/top\n",
            "6927 yhat: T-shirt/top, real: Dress\n",
            "6958 yhat: T-shirt/top, real: Shirt\n",
            "6970 yhat: Pullover, real: Coat\n",
            "6984 yhat: Sneaker, real: Ankle boot\n",
            "6993 yhat: Pullover, real: Coat\n",
            "6994 yhat: Pullover, real: Coat\n",
            "6997 yhat: T-shirt/top, real: Dress\n",
            "7002 yhat: Coat, real: Dress\n",
            "7004 yhat: Coat, real: Shirt\n",
            "7025 yhat: T-shirt/top, real: Shirt\n",
            "7026 yhat: Coat, real: Shirt\n",
            "7028 yhat: Sneaker, real: Ankle boot\n",
            "7030 yhat: Pullover, real: Shirt\n",
            "7042 yhat: Pullover, real: Shirt\n",
            "7049 yhat: Coat, real: Pullover\n",
            "7062 yhat: Sandal, real: Ankle boot\n",
            "7068 yhat: Pullover, real: Coat\n",
            "7069 yhat: Dress, real: Coat\n",
            "7078 yhat: Sneaker, real: Ankle boot\n",
            "7094 yhat: Pullover, real: Shirt\n",
            "7095 yhat: Pullover, real: Shirt\n",
            "7100 yhat: Sandal, real: Sneaker\n",
            "7103 yhat: Pullover, real: T-shirt/top\n",
            "7109 yhat: T-shirt/top, real: Dress\n",
            "7112 yhat: T-shirt/top, real: Shirt\n",
            "7114 yhat: Pullover, real: Shirt\n",
            "7125 yhat: Sneaker, real: Ankle boot\n",
            "7130 yhat: Pullover, real: Shirt\n",
            "7137 yhat: Shirt, real: T-shirt/top\n",
            "7138 yhat: Pullover, real: Coat\n",
            "7165 yhat: Coat, real: Pullover\n",
            "7167 yhat: Pullover, real: Shirt\n",
            "7177 yhat: Dress, real: Pullover\n",
            "7188 yhat: Coat, real: Shirt\n",
            "7189 yhat: T-shirt/top, real: Shirt\n",
            "7195 yhat: T-shirt/top, real: Shirt\n",
            "7210 yhat: Pullover, real: Coat\n",
            "7211 yhat: Pullover, real: Coat\n",
            "7221 yhat: Pullover, real: Shirt\n",
            "7228 yhat: Shirt, real: Coat\n",
            "7244 yhat: T-shirt/top, real: Shirt\n",
            "7258 yhat: Coat, real: Shirt\n",
            "7262 yhat: Pullover, real: Shirt\n",
            "7267 yhat: Pullover, real: Dress\n",
            "7278 yhat: Pullover, real: Coat\n",
            "7282 yhat: Pullover, real: Coat\n",
            "7288 yhat: Coat, real: Pullover\n",
            "7303 yhat: Pullover, real: Shirt\n",
            "7314 yhat: Pullover, real: Coat\n",
            "7317 yhat: Pullover, real: Coat\n",
            "7332 yhat: Trouser, real: Dress\n",
            "7334 yhat: T-shirt/top, real: Shirt\n",
            "7342 yhat: Pullover, real: Dress\n",
            "7345 yhat: Pullover, real: Shirt\n",
            "7346 yhat: Dress, real: T-shirt/top\n",
            "7349 yhat: Bag, real: Coat\n",
            "7369 yhat: T-shirt/top, real: Pullover\n",
            "7382 yhat: Trouser, real: Dress\n",
            "7393 yhat: Shirt, real: T-shirt/top\n",
            "7416 yhat: T-shirt/top, real: Shirt\n",
            "7425 yhat: Dress, real: T-shirt/top\n",
            "7442 yhat: Coat, real: Pullover\n",
            "7450 yhat: Pullover, real: Coat\n",
            "7500 yhat: Sneaker, real: Sandal\n",
            "7509 yhat: Ankle boot, real: Sandal\n",
            "7525 yhat: Bag, real: Sneaker\n",
            "7527 yhat: Coat, real: Shirt\n",
            "7551 yhat: Pullover, real: Dress\n",
            "7555 yhat: Dress, real: Trouser\n",
            "7557 yhat: Shirt, real: Dress\n",
            "7581 yhat: T-shirt/top, real: Shirt\n",
            "7583 yhat: Pullover, real: Dress\n",
            "7587 yhat: Shirt, real: Dress\n",
            "7591 yhat: T-shirt/top, real: Shirt\n",
            "7596 yhat: Shirt, real: Coat\n",
            "7599 yhat: Shirt, real: T-shirt/top\n",
            "7635 yhat: Shirt, real: Dress\n",
            "7638 yhat: Pullover, real: Dress\n",
            "7646 yhat: Coat, real: Dress\n",
            "7660 yhat: T-shirt/top, real: Shirt\n",
            "7664 yhat: Sandal, real: Sneaker\n",
            "7665 yhat: Pullover, real: Coat\n",
            "7673 yhat: Ankle boot, real: Sneaker\n",
            "7679 yhat: Coat, real: Dress\n",
            "7680 yhat: Trouser, real: T-shirt/top\n",
            "7682 yhat: Sandal, real: Sneaker\n",
            "7683 yhat: Pullover, real: Coat\n",
            "7709 yhat: Pullover, real: Coat\n",
            "7719 yhat: T-shirt/top, real: Shirt\n",
            "7736 yhat: Pullover, real: Coat\n",
            "7755 yhat: Ankle boot, real: Sneaker\n",
            "7761 yhat: Ankle boot, real: Sneaker\n",
            "7778 yhat: T-shirt/top, real: Shirt\n",
            "7779 yhat: Sneaker, real: Sandal\n",
            "7800 yhat: Dress, real: Shirt\n",
            "7803 yhat: Shirt, real: T-shirt/top\n",
            "7809 yhat: Pullover, real: Dress\n",
            "7813 yhat: Sandal, real: Sneaker\n",
            "7815 yhat: Sandal, real: Sneaker\n",
            "7818 yhat: Pullover, real: T-shirt/top\n",
            "7821 yhat: Pullover, real: Coat\n",
            "7822 yhat: Shirt, real: T-shirt/top\n",
            "7829 yhat: T-shirt/top, real: Shirt\n",
            "7831 yhat: Shirt, real: T-shirt/top\n",
            "7863 yhat: T-shirt/top, real: Shirt\n",
            "7876 yhat: Coat, real: Trouser\n",
            "7884 yhat: Coat, real: Pullover\n",
            "7899 yhat: Bag, real: T-shirt/top\n",
            "7906 yhat: Coat, real: Shirt\n",
            "7914 yhat: Dress, real: Coat\n",
            "7915 yhat: Dress, real: Coat\n",
            "7924 yhat: T-shirt/top, real: Shirt\n",
            "7936 yhat: Sneaker, real: Ankle boot\n",
            "7937 yhat: Ankle boot, real: Sandal\n",
            "7948 yhat: Coat, real: Dress\n",
            "7952 yhat: Pullover, real: Coat\n",
            "7959 yhat: T-shirt/top, real: Shirt\n",
            "7962 yhat: Coat, real: Shirt\n",
            "7971 yhat: Pullover, real: Shirt\n",
            "7981 yhat: Dress, real: T-shirt/top\n",
            "7992 yhat: Coat, real: Shirt\n",
            "7995 yhat: Shirt, real: T-shirt/top\n",
            "8001 yhat: Coat, real: Pullover\n",
            "8005 yhat: Coat, real: Shirt\n",
            "8007 yhat: Shirt, real: T-shirt/top\n",
            "8009 yhat: Shirt, real: Pullover\n",
            "8017 yhat: Ankle boot, real: Sneaker\n",
            "8031 yhat: Shirt, real: T-shirt/top\n",
            "8034 yhat: Shirt, real: T-shirt/top\n",
            "8035 yhat: Pullover, real: Shirt\n",
            "8038 yhat: Shirt, real: Pullover\n",
            "8039 yhat: Dress, real: Coat\n",
            "8054 yhat: Pullover, real: Dress\n",
            "8059 yhat: Shirt, real: T-shirt/top\n",
            "8065 yhat: Coat, real: Pullover\n",
            "8074 yhat: Dress, real: Trouser\n",
            "8080 yhat: Shirt, real: Coat\n",
            "8085 yhat: Pullover, real: Coat\n",
            "8086 yhat: Ankle boot, real: Sandal\n",
            "8090 yhat: Pullover, real: Coat\n",
            "8091 yhat: Shirt, real: T-shirt/top\n",
            "8116 yhat: Pullover, real: Coat\n",
            "8121 yhat: Shirt, real: Coat\n",
            "8128 yhat: Shirt, real: T-shirt/top\n",
            "8130 yhat: Sandal, real: Sneaker\n",
            "8132 yhat: Pullover, real: Shirt\n",
            "8140 yhat: Pullover, real: Coat\n",
            "8148 yhat: Pullover, real: Shirt\n",
            "8154 yhat: Pullover, real: Coat\n",
            "8156 yhat: Shirt, real: Trouser\n",
            "8161 yhat: Pullover, real: Coat\n",
            "8162 yhat: T-shirt/top, real: Shirt\n",
            "8178 yhat: Pullover, real: Coat\n",
            "8191 yhat: Coat, real: Pullover\n",
            "8197 yhat: Shirt, real: T-shirt/top\n",
            "8202 yhat: Coat, real: Shirt\n",
            "8205 yhat: Sneaker, real: Ankle boot\n",
            "8217 yhat: Coat, real: Shirt\n",
            "8237 yhat: T-shirt/top, real: Shirt\n",
            "8239 yhat: Pullover, real: Coat\n",
            "8259 yhat: T-shirt/top, real: Dress\n",
            "8260 yhat: Coat, real: Shirt\n",
            "8275 yhat: Pullover, real: Shirt\n",
            "8288 yhat: Coat, real: Shirt\n",
            "8292 yhat: Sneaker, real: Sandal\n",
            "8317 yhat: Dress, real: T-shirt/top\n",
            "8324 yhat: Dress, real: T-shirt/top\n",
            "8348 yhat: Shirt, real: T-shirt/top\n",
            "8373 yhat: Pullover, real: Shirt\n",
            "8374 yhat: Coat, real: Shirt\n",
            "8375 yhat: Dress, real: T-shirt/top\n",
            "8406 yhat: Shirt, real: Coat\n",
            "8429 yhat: T-shirt/top, real: Shirt\n",
            "8436 yhat: Coat, real: Pullover\n",
            "8454 yhat: Shirt, real: T-shirt/top\n",
            "8457 yhat: Shirt, real: Coat\n",
            "8463 yhat: Sneaker, real: Sandal\n",
            "8471 yhat: Dress, real: T-shirt/top\n",
            "8476 yhat: Pullover, real: Coat\n",
            "8485 yhat: Shirt, real: Coat\n",
            "8505 yhat: Ankle boot, real: Sneaker\n",
            "8512 yhat: Shirt, real: Coat\n",
            "8515 yhat: Pullover, real: Coat\n",
            "8519 yhat: Pullover, real: Shirt\n",
            "8525 yhat: Sneaker, real: Ankle boot\n",
            "8532 yhat: Sneaker, real: Sandal\n",
            "8536 yhat: Pullover, real: Coat\n",
            "8538 yhat: T-shirt/top, real: Shirt\n",
            "8548 yhat: Pullover, real: Coat\n",
            "8556 yhat: Dress, real: Coat\n",
            "8557 yhat: Sandal, real: Ankle boot\n",
            "8567 yhat: Bag, real: Shirt\n",
            "8580 yhat: Pullover, real: Coat\n",
            "8591 yhat: T-shirt/top, real: Dress\n",
            "8598 yhat: Shirt, real: Pullover\n",
            "8607 yhat: Sneaker, real: Ankle boot\n",
            "8617 yhat: T-shirt/top, real: Shirt\n",
            "8618 yhat: Shirt, real: Pullover\n",
            "8621 yhat: Trouser, real: Coat\n",
            "8658 yhat: Pullover, real: Shirt\n",
            "8664 yhat: T-shirt/top, real: Shirt\n",
            "8669 yhat: T-shirt/top, real: Pullover\n",
            "8678 yhat: Pullover, real: Coat\n",
            "8688 yhat: Sandal, real: Ankle boot\n",
            "8695 yhat: Shirt, real: T-shirt/top\n",
            "8705 yhat: T-shirt/top, real: Shirt\n",
            "8706 yhat: Pullover, real: Shirt\n",
            "8708 yhat: Coat, real: Dress\n",
            "8709 yhat: Sandal, real: Bag\n",
            "8710 yhat: Coat, real: Pullover\n",
            "8714 yhat: Sandal, real: Sneaker\n",
            "8715 yhat: Dress, real: T-shirt/top\n",
            "8717 yhat: Shirt, real: T-shirt/top\n",
            "8718 yhat: Coat, real: Pullover\n",
            "8725 yhat: Shirt, real: T-shirt/top\n",
            "8737 yhat: Pullover, real: Coat\n",
            "8745 yhat: T-shirt/top, real: Shirt\n",
            "8754 yhat: Ankle boot, real: Sneaker\n",
            "8757 yhat: T-shirt/top, real: Trouser\n",
            "8758 yhat: Coat, real: Pullover\n",
            "8762 yhat: Dress, real: Shirt\n",
            "8763 yhat: Bag, real: T-shirt/top\n",
            "8764 yhat: Shirt, real: Dress\n",
            "8768 yhat: Shirt, real: Trouser\n",
            "8772 yhat: Ankle boot, real: Sandal\n",
            "8782 yhat: Shirt, real: T-shirt/top\n",
            "8784 yhat: Coat, real: Shirt\n",
            "8785 yhat: Sandal, real: Ankle boot\n",
            "8799 yhat: Shirt, real: Coat\n",
            "8804 yhat: Pullover, real: Coat\n",
            "8814 yhat: Shirt, real: Coat\n",
            "8818 yhat: Sandal, real: Ankle boot\n",
            "8827 yhat: Dress, real: Coat\n",
            "8832 yhat: Shirt, real: T-shirt/top\n",
            "8834 yhat: Pullover, real: T-shirt/top\n",
            "8858 yhat: Shirt, real: Coat\n",
            "8865 yhat: Ankle boot, real: Sneaker\n",
            "8869 yhat: Pullover, real: Shirt\n",
            "8877 yhat: T-shirt/top, real: Pullover\n",
            "8879 yhat: Coat, real: Pullover\n",
            "8891 yhat: Pullover, real: Coat\n",
            "8914 yhat: T-shirt/top, real: Pullover\n",
            "8919 yhat: Pullover, real: T-shirt/top\n",
            "8929 yhat: Pullover, real: Coat\n",
            "8933 yhat: Pullover, real: Coat\n",
            "8939 yhat: T-shirt/top, real: Shirt\n",
            "8946 yhat: Coat, real: Shirt\n",
            "8949 yhat: Pullover, real: T-shirt/top\n",
            "8950 yhat: Coat, real: Pullover\n",
            "8952 yhat: Sneaker, real: Ankle boot\n",
            "8958 yhat: Pullover, real: Coat\n",
            "8962 yhat: Pullover, real: Coat\n",
            "8969 yhat: Pullover, real: Coat\n",
            "8972 yhat: Ankle boot, real: Sneaker\n",
            "8985 yhat: Ankle boot, real: Sneaker\n",
            "8997 yhat: T-shirt/top, real: Shirt\n",
            "8999 yhat: Shirt, real: T-shirt/top\n",
            "9004 yhat: Pullover, real: Shirt\n",
            "9017 yhat: Dress, real: T-shirt/top\n",
            "9025 yhat: Coat, real: Shirt\n",
            "9032 yhat: Pullover, real: Shirt\n",
            "9033 yhat: Pullover, real: Shirt\n",
            "9051 yhat: Shirt, real: Coat\n",
            "9057 yhat: Pullover, real: Shirt\n",
            "9059 yhat: Trouser, real: Dress\n",
            "9062 yhat: Pullover, real: Coat\n",
            "9064 yhat: Dress, real: T-shirt/top\n",
            "9071 yhat: Dress, real: Trouser\n",
            "9073 yhat: Sneaker, real: Sandal\n",
            "9074 yhat: Shirt, real: T-shirt/top\n",
            "9091 yhat: T-shirt/top, real: Shirt\n",
            "9094 yhat: Pullover, real: Shirt\n",
            "9095 yhat: Dress, real: Trouser\n",
            "9096 yhat: Pullover, real: Bag\n",
            "9114 yhat: Shirt, real: T-shirt/top\n",
            "9122 yhat: T-shirt/top, real: Shirt\n",
            "9126 yhat: Sneaker, real: Sandal\n",
            "9131 yhat: Pullover, real: Shirt\n",
            "9133 yhat: T-shirt/top, real: Shirt\n",
            "9148 yhat: Pullover, real: Shirt\n",
            "9160 yhat: Pullover, real: Coat\n",
            "9165 yhat: T-shirt/top, real: Dress\n",
            "9180 yhat: T-shirt/top, real: Shirt\n",
            "9198 yhat: Shirt, real: T-shirt/top\n",
            "9204 yhat: Dress, real: Shirt\n",
            "9211 yhat: Dress, real: Shirt\n",
            "9218 yhat: Pullover, real: Shirt\n",
            "9225 yhat: Trouser, real: Dress\n",
            "9227 yhat: Bag, real: Shirt\n",
            "9237 yhat: Pullover, real: T-shirt/top\n",
            "9247 yhat: Pullover, real: Shirt\n",
            "9251 yhat: Shirt, real: T-shirt/top\n",
            "9256 yhat: Coat, real: Pullover\n",
            "9276 yhat: Coat, real: Pullover\n",
            "9280 yhat: Coat, real: Shirt\n",
            "9291 yhat: Shirt, real: T-shirt/top\n",
            "9292 yhat: Pullover, real: Coat\n",
            "9297 yhat: T-shirt/top, real: Shirt\n",
            "9306 yhat: Coat, real: Shirt\n",
            "9307 yhat: Pullover, real: Coat\n",
            "9308 yhat: Shirt, real: Pullover\n",
            "9320 yhat: Pullover, real: Coat\n",
            "9325 yhat: Pullover, real: Dress\n",
            "9344 yhat: Pullover, real: Coat\n",
            "9347 yhat: Sandal, real: Sneaker\n",
            "9348 yhat: Pullover, real: Coat\n",
            "9349 yhat: Shirt, real: T-shirt/top\n",
            "9351 yhat: T-shirt/top, real: Shirt\n",
            "9364 yhat: Pullover, real: Shirt\n",
            "9366 yhat: Dress, real: Coat\n",
            "9379 yhat: Coat, real: Dress\n",
            "9398 yhat: Shirt, real: T-shirt/top\n",
            "9402 yhat: Pullover, real: Shirt\n",
            "9416 yhat: T-shirt/top, real: Shirt\n",
            "9445 yhat: Bag, real: Shirt\n",
            "9446 yhat: Shirt, real: T-shirt/top\n",
            "9484 yhat: Pullover, real: Shirt\n",
            "9485 yhat: Coat, real: Trouser\n",
            "9487 yhat: Coat, real: Shirt\n",
            "9495 yhat: Coat, real: Shirt\n",
            "9499 yhat: Dress, real: Shirt\n",
            "9512 yhat: T-shirt/top, real: Shirt\n",
            "9513 yhat: Coat, real: Shirt\n",
            "9524 yhat: Sandal, real: Bag\n",
            "9537 yhat: Coat, real: Pullover\n",
            "9567 yhat: Pullover, real: Coat\n",
            "9573 yhat: Dress, real: Shirt\n",
            "9574 yhat: Shirt, real: Pullover\n",
            "9577 yhat: Pullover, real: T-shirt/top\n",
            "9582 yhat: Coat, real: Pullover\n",
            "9590 yhat: T-shirt/top, real: Bag\n",
            "9599 yhat: Shirt, real: T-shirt/top\n",
            "9601 yhat: Dress, real: Shirt\n",
            "9602 yhat: T-shirt/top, real: Shirt\n",
            "9619 yhat: Ankle boot, real: Sneaker\n",
            "9632 yhat: Pullover, real: Coat\n",
            "9644 yhat: T-shirt/top, real: Shirt\n",
            "9662 yhat: Shirt, real: T-shirt/top\n",
            "9663 yhat: T-shirt/top, real: Shirt\n",
            "9666 yhat: Dress, real: Trouser\n",
            "9668 yhat: Shirt, real: T-shirt/top\n",
            "9684 yhat: Coat, real: Shirt\n",
            "9687 yhat: Pullover, real: Shirt\n",
            "9690 yhat: Pullover, real: Shirt\n",
            "9692 yhat: T-shirt/top, real: Shirt\n",
            "9719 yhat: Dress, real: T-shirt/top\n",
            "9724 yhat: Dress, real: Coat\n",
            "9748 yhat: Shirt, real: T-shirt/top\n",
            "9791 yhat: Bag, real: T-shirt/top\n",
            "9804 yhat: Sandal, real: Sneaker\n",
            "9809 yhat: Dress, real: T-shirt/top\n",
            "9835 yhat: Sneaker, real: Ankle boot\n",
            "9852 yhat: Shirt, real: Pullover\n",
            "9859 yhat: Pullover, real: Shirt\n",
            "9863 yhat: Pullover, real: Coat\n",
            "9867 yhat: Dress, real: T-shirt/top\n",
            "9868 yhat: Pullover, real: Shirt\n",
            "9880 yhat: Dress, real: T-shirt/top\n",
            "9902 yhat: Shirt, real: T-shirt/top\n",
            "9904 yhat: Coat, real: Shirt\n",
            "9916 yhat: Coat, real: Trouser\n",
            "9917 yhat: Ankle boot, real: Sneaker\n",
            "9945 yhat: Shirt, real: T-shirt/top\n",
            "9946 yhat: Bag, real: Pullover\n",
            "9947 yhat: Pullover, real: Shirt\n",
            "9949 yhat: Sneaker, real: Sandal\n",
            "9953 yhat: Pullover, real: Shirt\n",
            "9955 yhat: T-shirt/top, real: Shirt\n",
            "9961 yhat: Pullover, real: Shirt\n",
            "9963 yhat: Pullover, real: Coat\n",
            "9972 yhat: T-shirt/top, real: Pullover\n",
            "9977 yhat: T-shirt/top, real: Shirt\n",
            "9979 yhat: T-shirt/top, real: Shirt\n",
            "9989 yhat: Pullover, real: Coat\n",
            "\n",
            "정확도 : 87.03%\n"
          ]
        }
      ]
    },
    {
      "cell_type": "code",
      "source": [
        "probability_model = tf.keras.Sequential([model, tf.keras.layers.Softmax()])\n",
        "predictions = probability_model.predict(test_images)\n",
        "\n",
        "yhat = np.argmax(predictions, axis=1)\n",
        "um_correct = np.sum(yhat==test_labels)\n",
        "um_correct/len(test_labels)"
      ],
      "metadata": {
        "colab": {
          "base_uri": "https://localhost:8080/"
        },
        "id": "tJvef5RhpYNH",
        "outputId": "25f442fd-dbfd-41e4-b388-12c7c436decc"
      },
      "execution_count": 115,
      "outputs": [
        {
          "output_type": "stream",
          "name": "stdout",
          "text": [
            "313/313 [==============================] - 1s 2ms/step\n"
          ]
        },
        {
          "output_type": "execute_result",
          "data": {
            "text/plain": [
              "0.8703"
            ]
          },
          "metadata": {},
          "execution_count": 115
        }
      ]
    },
    {
      "cell_type": "code",
      "source": [
        "test_loss, test_acc = model.evaluate(test_images,  test_labels, verbose=2)\n",
        "\n",
        "print('Test accuracy:', test_acc)"
      ],
      "metadata": {
        "colab": {
          "base_uri": "https://localhost:8080/"
        },
        "id": "jvpMtWlqpJJy",
        "outputId": "ab731daa-bdaa-44c4-9e28-6e37ba9fafdd"
      },
      "execution_count": 114,
      "outputs": [
        {
          "output_type": "stream",
          "name": "stdout",
          "text": [
            "313/313 - 0s - loss: 0.3561 - accuracy: 0.8703 - 436ms/epoch - 1ms/step\n",
            "Test accuracy: 0.8702999949455261\n"
          ]
        }
      ]
    },
    {
      "cell_type": "code",
      "source": [
        "#####################33\n",
        "## 이 예측은 10개의 숫자 배열로 나타납니다.\n",
        "### 이 값은 10개의 옷 품목에 상응하는 모델의 신뢰도(confidence)를 나타냅니다.\n",
        "## 가장 높은 신뢰도를 가진 레이블을 찾아보죠:\n",
        "\n",
        "np.argmax(predictions[0])"
      ],
      "metadata": {
        "colab": {
          "base_uri": "https://localhost:8080/"
        },
        "id": "Yip-LCTvCIXS",
        "outputId": "fd4afb6a-308f-4835-87fe-3b3e6e3a1284"
      },
      "execution_count": 20,
      "outputs": [
        {
          "output_type": "execute_result",
          "data": {
            "text/plain": [
              "9"
            ]
          },
          "metadata": {},
          "execution_count": 20
        }
      ]
    },
    {
      "cell_type": "code",
      "source": [
        "indices_of_9 = [i for i, label in enumerate(train_labels) if label==9]\n",
        "sample = indices_of_9[:20]\n",
        "\n",
        "img=np.hstack(train_images[sample])\n",
        "plt.imshow(img, cmap='gray')"
      ],
      "metadata": {
        "colab": {
          "base_uri": "https://localhost:8080/",
          "height": 108
        },
        "id": "hQtwLfvEOSQj",
        "outputId": "b3c4aa36-a45c-4b67-fb38-a3be309d7184"
      },
      "execution_count": 40,
      "outputs": [
        {
          "output_type": "execute_result",
          "data": {
            "text/plain": [
              "<matplotlib.image.AxesImage at 0x78b124054dc0>"
            ]
          },
          "metadata": {},
          "execution_count": 40
        },
        {
          "output_type": "display_data",
          "data": {
            "text/plain": [
              "<Figure size 640x480 with 1 Axes>"
            ],
            "image/png": "[encoded data removed]"
          },
          "metadata": {}
        }
      ]
    },
    {
      "cell_type": "code",
      "source": [
        "from PIL import Image\n",
        "img = Image.open('img.jpg').resize((28,28)).convert('L')\n",
        "# img = img.transpose(Image.FLIP_LEFT_RIGHT)\n",
        "img = (255-np.array(img))/255.0\n",
        "newimg = np.reshape(img, (1, 28, 28))\n",
        "plt.imshow(img, cmap='gray')\n"
      ],
      "metadata": {
        "colab": {
          "base_uri": "https://localhost:8080/",
          "height": 448
        },
        "id": "e4Icd27OP_Ld",
        "outputId": "761d0db4-e655-4b7f-b7b8-94cc9ad0a172"
      },
      "execution_count": 76,
      "outputs": [
        {
          "output_type": "execute_result",
          "data": {
            "text/plain": [
              "<matplotlib.image.AxesImage at 0x78b11559caf0>"
            ]
          },
          "metadata": {},
          "execution_count": 76
        },
        {
          "output_type": "display_data",
          "data": {
            "text/plain": [
              "<Figure size 640x480 with 1 Axes>"
            ],
            "image/png": "[encoded data removed]"
          },
          "metadata": {}
        }
      ]
    },
    {
      "cell_type": "code",
      "source": [
        "probability_model = tf.keras.Sequential([model,\n",
        "                                         tf.keras.layers.Softmax()])\n",
        "predictions = probability_model.predict(newimg)\n",
        "class_names[np.argmax(predictions[0])]"
      ],
      "metadata": {
        "colab": {
          "base_uri": "https://localhost:8080/",
          "height": 54
        },
        "id": "5dV0rJqkSx5U",
        "outputId": "7ab3b75d-8ef6-4609-d555-8549188cf29e"
      },
      "execution_count": 77,
      "outputs": [
        {
          "output_type": "stream",
          "name": "stdout",
          "text": [
            "1/1 [==============================] - 0s 73ms/step\n"
          ]
        },
        {
          "output_type": "execute_result",
          "data": {
            "text/plain": [
              "'Ankle boot'"
            ],
            "application/vnd.google.colaboratory.intrinsic+json": {
              "type": "string"
            }
          },
          "metadata": {},
          "execution_count": 77
        }
      ]
    },
    {
      "cell_type": "code",
      "source": [
        "indices_of_9 = [i for i, label in enumerate(train_labels) if label==class_names.index('Bag')]\n",
        "sample = indices_of_9[:20]\n",
        "plt.figure(figsize=(20,20))\n",
        "img=np.hstack(train_images[sample])\n",
        "plt.imshow(img, cmap='gray')"
      ],
      "metadata": {
        "colab": {
          "base_uri": "https://localhost:8080/",
          "height": 146
        },
        "id": "vzRihosuTUDR",
        "outputId": "818a958c-331d-4a2b-a3a5-efcba2a028dc"
      },
      "execution_count": 80,
      "outputs": [
        {
          "output_type": "execute_result",
          "data": {
            "text/plain": [
              "<matplotlib.image.AxesImage at 0x78b115609660>"
            ]
          },
          "metadata": {},
          "execution_count": 80
        },
        {
          "output_type": "display_data",
          "data": {
            "text/plain": [
              "<Figure size 2000x2000 with 1 Axes>"
            ],
            "image/png": "[encoded data removed]"
          },
          "metadata": {}
        }
      ]
    },
    {
      "cell_type": "code",
      "source": [
        "hist.history"
      ],
      "metadata": {
        "colab": {
          "base_uri": "https://localhost:8080/"
        },
        "id": "xthYvUBxcFYb",
        "outputId": "ecc31547-f3c3-480a-996b-da74323605da"
      },
      "execution_count": 82,
      "outputs": [
        {
          "output_type": "execute_result",
          "data": {
            "text/plain": [
              "{'loss': [0.49996694922447205, 0.37391582131385803, 0.3382863998413086],\n",
              " 'accuracy': [0.8240166902542114, 0.8664833307266235, 0.8776666522026062],\n",
              " 'val_loss': [0.43979591131210327, 0.39563965797424316, 0.3560546934604645],\n",
              " 'val_accuracy': [0.8414999842643738, 0.8547000288963318, 0.8702999949455261]}"
            ]
          },
          "metadata": {},
          "execution_count": 82
        }
      ]
    },
    {
      "cell_type": "code",
      "source": [
        "plt.plot(hist.history['loss'], label='train_loss')\n",
        "plt.plot(hist.history['val_loss'], label='val_loss')\n",
        "plt.title('Training and Validation Loss')\n",
        "plt.xlabel('Epochs')\n",
        "plt.legend()\n",
        "plt.show()\n",
        "\n",
        "plt.plot(hist.history['accuracy'], label='Training Accuracy')\n",
        "plt.plot(hist.history['val_accuracy'], label='Validation Accuracy')\n",
        "plt.title('Training and Validation Accuracy')\n",
        "plt.xlabel('Epochs')\n",
        "plt.legend()\n",
        "plt.show()"
      ],
      "metadata": {
        "colab": {
          "base_uri": "https://localhost:8080/",
          "height": 927
        },
        "id": "t6eC3ICncSNX",
        "outputId": "8a8ac22d-af48-4508-b2c3-643565bc72ef"
      },
      "execution_count": 87,
      "outputs": [
        {
          "output_type": "display_data",
          "data": {
            "text/plain": [
              "<Figure size 640x480 with 1 Axes>"
            ],
            "image/png": "[encoded data removed]"
          },
          "metadata": {}
        },
        {
          "output_type": "display_data",
          "data": {
            "text/plain": [
              "<Figure size 640x480 with 1 Axes>"
            ],
            "image/png": "[encoded data removed]"
          },
          "metadata": {}
        }
      ]
    }
  ]
}