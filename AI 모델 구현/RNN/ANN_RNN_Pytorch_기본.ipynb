{
  "nbformat": 4,
  "nbformat_minor": 0,
  "metadata": {
    "colab": {
      "provenance": []
    },
    "kernelspec": {
      "name": "python3",
      "display_name": "Python 3"
    },
    "language_info": {
      "name": "python"
    }
  },
  "cells": [
    {
      "cell_type": "markdown",
      "source": [
        "# 1. ANN Pytorch"
      ],
      "metadata": {
        "id": "hUuFUKt_srhK"
      }
    },
    {
      "cell_type": "code",
      "execution_count": null,
      "metadata": {
        "colab": {
          "base_uri": "https://localhost:8080/"
        },
        "id": "zHcnEpU235M3",
        "outputId": "c8ccbd8d-6cf1-414e-bf72-4fd6c0d0b568"
      },
      "outputs": [
        {
          "output_type": "stream",
          "name": "stdout",
          "text": [
            "Predicted output: [[0.86593683]]\n"
          ]
        }
      ],
      "source": [
        "import numpy as np\n",
        "\n",
        "# 시그모이드 함수 정의\n",
        "def sigmoid(x):\n",
        "    return 1 / (1 + np.exp(-x))\n",
        "\n",
        "# 시그모이드 함수의 미분 정의\n",
        "def sigmoid_derivative(x):\n",
        "    return x * (1 - x)\n",
        "\n",
        "# 학습용 입력값과 레이블 정의\n",
        "training_inputs = np.array([[0], [1]])\n",
        "training_labels = np.array([[0], [1]])\n",
        "\n",
        "# 가중치 초기화 (입력 데이터의 특성 수에 맞게 설정)\n",
        "input_dim = training_inputs.shape[1]\n",
        "weights = np.random.rand(input_dim, 1)\n",
        "\n",
        "# 학습 실행\n",
        "epochs = 10000\n",
        "learning_rate = 0.1\n",
        "for epoch in range(epochs):\n",
        "    # 입력값에 대한 예측\n",
        "    predicted_output = sigmoid(np.dot(training_inputs, weights))\n",
        "\n",
        "    # 예측 오차 계산\n",
        "    error = training_labels - predicted_output\n",
        "\n",
        "    # 오차를 이용하여 가중치 업데이트\n",
        "    adjustment = np.dot(training_inputs.T, error * sigmoid_derivative(predicted_output))\n",
        "    weights += learning_rate * adjustment\n",
        "\n",
        "# 새로운 데이터에 대한 예측\n",
        "new_input = np.array([[0.5]])\n",
        "predicted_output = sigmoid(np.dot(new_input, weights))\n",
        "print(\"Predicted output:\", predicted_output)\n"
      ]
    },
    {
      "cell_type": "markdown",
      "source": [
        "## 2. RNN Pytorch"
      ],
      "metadata": {
        "id": "stAuVNr6mA6r"
      }
    },
    {
      "cell_type": "code",
      "source": [
        "import torch\n",
        "import torch.nn as nn\n",
        "\n",
        "# 시퀀스 길이, 배치 크기, 입력 크기 정의\n",
        "seq_length = 3\n",
        "batch_size = 1\n",
        "input_size = 1\n",
        "hidden_size = 5\n",
        "\n",
        "# 간단한 RNN 모델 정의\n",
        "class SimpleRNN(nn.Module):\n",
        "    def __init__(self, input_size, hidden_size, output_size):\n",
        "        super(SimpleRNN, self).__init__()\n",
        "        self.hidden_size = hidden_size\n",
        "        self.rnn = nn.RNN(input_size, hidden_size, batch_first=True)\n",
        "        self.fc = nn.Linear(hidden_size, output_size)\n",
        "\n",
        "    def forward(self, x, hidden):\n",
        "        out, hidden = self.rnn(x, hidden)\n",
        "        out = self.fc(out[:, -1, :])  # 시퀀스의 마지막 출력만 사용\n",
        "        return out, hidden\n",
        "\n",
        "# 입력 데이터 및 초기 은닉 상태 생성\n",
        "input_data = torch.tensor([[[1.0], [2.0], [3.0]]], dtype=torch.float32)\n",
        "hidden_state = torch.zeros(1, batch_size, hidden_size)\n",
        "\n",
        "# 모델 및 손실 함수 정의\n",
        "\n",
        "output_size = 1\n",
        "model = SimpleRNN(input_size, hidden_size, output_size)\n",
        "criterion = nn.MSELoss()\n",
        "\n",
        "# 옵티마이저 정의\n",
        "optimizer = torch.optim.SGD(model.parameters(), lr=0.1)\n",
        "\n",
        "# 학습\n",
        "num_epochs = 1000\n",
        "for epoch in range(num_epochs):\n",
        "    optimizer.zero_grad()\n",
        "    output, _ = model(input_data, hidden_state)\n",
        "    target = torch.tensor([[[4.0]]], dtype=torch.float32)  # 예측하려는 값은 4\n",
        "    loss = criterion(output, target)\n",
        "    loss.backward()\n",
        "    optimizer.step()\n",
        "\n",
        "    if (epoch+1) % 100 == 0:\n",
        "        print(f'Epoch [{epoch+1}/{num_epochs}], Loss: {loss.item():.4f}')\n",
        "\n",
        "# 테스트\n",
        "with torch.no_grad():\n",
        "    output, _ = model(input_data, hidden_state)\n",
        "    print(f'Prediction: {output.item():.4f}')\n"
      ],
      "metadata": {
        "colab": {
          "base_uri": "https://localhost:8080/"
        },
        "id": "epTI1kL9t24c",
        "outputId": "56d2ef0d-7b2a-400d-cb21-6792aa26ffc1"
      },
      "execution_count": 2,
      "outputs": [
        {
          "output_type": "stream",
          "name": "stderr",
          "text": [
            "/usr/local/lib/python3.10/dist-packages/torch/nn/modules/loss.py:535: UserWarning: Using a target size (torch.Size([1, 1, 1])) that is different to the input size (torch.Size([1, 1])). This will likely lead to incorrect results due to broadcasting. Please ensure they have the same size.\n",
            "  return F.mse_loss(input, target, reduction=self.reduction)\n"
          ]
        },
        {
          "output_type": "stream",
          "name": "stdout",
          "text": [
            "Epoch [100/1000], Loss: 0.0000\n",
            "Epoch [200/1000], Loss: 0.0000\n",
            "Epoch [300/1000], Loss: 0.0000\n",
            "Epoch [400/1000], Loss: 0.0000\n",
            "Epoch [500/1000], Loss: 0.0000\n",
            "Epoch [600/1000], Loss: 0.0000\n",
            "Epoch [700/1000], Loss: 0.0000\n",
            "Epoch [800/1000], Loss: 0.0000\n",
            "Epoch [900/1000], Loss: 0.0000\n",
            "Epoch [1000/1000], Loss: 0.0000\n",
            "Prediction: 4.0000\n"
          ]
        }
      ]
    }
  ]
}