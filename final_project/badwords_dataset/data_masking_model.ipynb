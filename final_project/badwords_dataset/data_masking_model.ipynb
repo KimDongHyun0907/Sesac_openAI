{
 "cells": [
  {
   "cell_type": "code",
   "execution_count": null,
   "metadata": {},
   "outputs": [],
   "source": [
    "# pickle 파일 읽기\n",
    "import pickle\n",
    "import gzip\n",
    "\n",
    "with gzip.open('hs.pickle', 'rb') as f:\n",
    "    data_hs = pickle.load(f)\n",
    "\n",
    "data_hs"
   ]
  },
  {
   "cell_type": "code",
   "execution_count": null,
   "metadata": {},
   "outputs": [],
   "source": [
    "# pickle 파일 읽기\n",
    "import pickle\n",
    "import gzip\n",
    "\n",
    "with gzip.open('khs.pickle', 'rb') as f:\n",
    "    data_khs = pickle.load(f)\n",
    "\n",
    "data_khs"
   ]
  },
  {
   "cell_type": "code",
   "execution_count": null,
   "metadata": {},
   "outputs": [],
   "source": [
    "# pickle 파일 읽기\n",
    "import pickle\n",
    "import gzip\n",
    "\n",
    "with gzip.open('hs_val.pickle', 'rb') as f:\n",
    "    data_hs_val = pickle.load(f)\n",
    "\n",
    "data_hs_val"
   ]
  },
  {
   "cell_type": "code",
   "execution_count": null,
   "metadata": {},
   "outputs": [],
   "source": [
    "# pickle 파일 읽기\n",
    "import pickle\n",
    "import gzip\n",
    "\n",
    "with gzip.open('kold.pickle', 'rb') as f:\n",
    "    data_kold = pickle.load(f)\n",
    "\n",
    "data_kold"
   ]
  },
  {
   "cell_type": "code",
   "execution_count": 6,
   "metadata": {},
   "outputs": [
    {
     "data": {
      "text/plain": [
       "0        [[0, 0, 0, 0, 0, 0, 0, 0, 0, 0, 0, 1, 0, 0, 0,...\n",
       "1        [[0, 0, 0, 0, 0, 0, 0, 0, 0, 0, 0, 1, 0, 0, 0,...\n",
       "2        [[0, 0, 0, 0, 0, 1, 0, 0, 0, 0, 0, 0, 0, 0, 0,...\n",
       "3        [[0, 0, 0, 0, 0, 0, 0, 0, 0, 0, 0, 0, 0, 0, 0,...\n",
       "4        [[0, 0, 0, 0, 0, 0, 0, 0, 0, 0, 0, 1, 0, 0, 0,...\n",
       "                               ...                        \n",
       "57862    [[0, 0, 0, 0, 0, 0, 0, 0, 0, 0, 0, 0, 0, 0, 0,...\n",
       "57863    [[0, 0, 0, 0, 0, 0, 0, 0, 0, 0, 0, 1, 0, 0, 0,...\n",
       "57864    [[0, 0, 0, 0, 0, 0, 0, 0, 0, 0, 0, 0, 0, 0, 1,...\n",
       "57865    [[0, 0, 0, 0, 0, 0, 0, 0, 0, 0, 0, 0, 1, 0, 0,...\n",
       "57866    [[0, 0, 0, 0, 0, 0, 0, 0, 0, 0, 0, 0, 1, 0, 0,...\n",
       "Name: onehot_vector, Length: 57867, dtype: object"
      ]
     },
     "execution_count": 6,
     "metadata": {},
     "output_type": "execute_result"
    }
   ],
   "source": [
    "import pandas as pd\n",
    "\n",
    "X_data = pd.concat([data_hs['onehot_vector'], data_khs['onehot_vector'], data_hs_val['onehot_vector'], data_kold['onehot_vector']],ignore_index=True)\n",
    "X_data"
   ]
  },
  {
   "cell_type": "code",
   "execution_count": 24,
   "metadata": {},
   "outputs": [],
   "source": [
    "import torch\n",
    "import torch.nn as nn\n",
    "import torch.optim as optim"
   ]
  },
  {
   "cell_type": "code",
   "execution_count": 7,
   "metadata": {},
   "outputs": [
    {
     "data": {
      "text/plain": [
       "torch.Size([57867, 1, 200, 127])"
      ]
     },
     "execution_count": 7,
     "metadata": {},
     "output_type": "execute_result"
    }
   ],
   "source": [
    "tensor_list = [torch.tensor(array) for array in X_data.values]\n",
    "X_data = torch.stack([torch.unsqueeze(tensor, dim=0) for tensor in tensor_list], dim=0)\n",
    "X_data.shape"
   ]
  },
  {
   "cell_type": "code",
   "execution_count": 9,
   "metadata": {},
   "outputs": [
    {
     "data": {
      "text/plain": [
       "0        1\n",
       "1        0\n",
       "2        1\n",
       "3        1\n",
       "4        0\n",
       "        ..\n",
       "57862    0\n",
       "57863    0\n",
       "57864    0\n",
       "57865    1\n",
       "57866    1\n",
       "Name: clean, Length: 57867, dtype: object"
      ]
     },
     "execution_count": 9,
     "metadata": {},
     "output_type": "execute_result"
    }
   ],
   "source": [
    "import pandas as pd\n",
    "\n",
    "y_data = pd.concat([data_hs['clean'], data_khs['clean'], data_hs_val['clean'], data_kold['clean']],ignore_index=True)\n",
    "y_data"
   ]
  },
  {
   "cell_type": "code",
   "execution_count": 10,
   "metadata": {},
   "outputs": [
    {
     "data": {
      "text/plain": [
       "torch.Size([57867, 1])"
      ]
     },
     "execution_count": 10,
     "metadata": {},
     "output_type": "execute_result"
    }
   ],
   "source": [
    "y_data = torch.tensor(y_data)\n",
    "y_data = torch.unsqueeze(y_data, dim=1)\n",
    "y_data.shape"
   ]
  },
  {
   "cell_type": "code",
   "execution_count": 3,
   "metadata": {},
   "outputs": [],
   "source": [
    "from torch.utils.data import Dataset\n",
    "\n",
    "class YourDataset(Dataset):\n",
    "    def __init__(self, X_data, y_data):\n",
    "        self.X_data = X_data\n",
    "        self.y_data = y_data\n",
    "        \n",
    "    def __len__(self):\n",
    "        return len(self.X_data)\n",
    "    \n",
    "    def __getitem__(self, index):\n",
    "        X = self.X_data[index]\n",
    "        y = self.y_data[index]\n",
    "        \n",
    "        return X, y\n"
   ]
  },
  {
   "cell_type": "code",
   "execution_count": 4,
   "metadata": {},
   "outputs": [
    {
     "ename": "NameError",
     "evalue": "name 'X_data' is not defined",
     "output_type": "error",
     "traceback": [
      "\u001b[1;31m---------------------------------------------------------------------------\u001b[0m",
      "\u001b[1;31mNameError\u001b[0m                                 Traceback (most recent call last)",
      "Cell \u001b[1;32mIn[4], line 4\u001b[0m\n\u001b[0;32m      1\u001b[0m \u001b[38;5;28;01mfrom\u001b[39;00m \u001b[38;5;21;01msklearn\u001b[39;00m\u001b[38;5;21;01m.\u001b[39;00m\u001b[38;5;21;01mmodel_selection\u001b[39;00m \u001b[38;5;28;01mimport\u001b[39;00m train_test_split\n\u001b[0;32m      3\u001b[0m \u001b[38;5;66;03m# 데이터를 훈련 세트와 검증 세트로 나눔\u001b[39;00m\n\u001b[1;32m----> 4\u001b[0m X_train, X_val, y_train, y_val \u001b[38;5;241m=\u001b[39m train_test_split(\u001b[43mX_data\u001b[49m, y_data, test_size\u001b[38;5;241m=\u001b[39m\u001b[38;5;241m0.2\u001b[39m, random_state\u001b[38;5;241m=\u001b[39m\u001b[38;5;241m42\u001b[39m)\n",
      "\u001b[1;31mNameError\u001b[0m: name 'X_data' is not defined"
     ]
    }
   ],
   "source": [
    "from sklearn.model_selection import train_test_split\n",
    "\n",
    "# 데이터를 훈련 세트와 검증 세트로 나눔\n",
    "X_train, X_val, y_train, y_val = train_test_split(X_data, y_data, test_size=0.2, random_state=42)"
   ]
  },
  {
   "cell_type": "code",
   "execution_count": 104,
   "metadata": {},
   "outputs": [],
   "source": [
    "batch_size = 16\n",
    "class CNN(nn.Module):\n",
    "    def __init__(self):\n",
    "        super(CNN, self).__init__()\n",
    "        self.conv1 = nn.Conv2d(in_channels=1, out_channels=1, kernel_size=6, padding=(193, 708))\n",
    "        self.pool = nn.MaxPool2d(kernel_size=3)\n",
    "        self.conv2 = nn.Conv2d(in_channels=1, out_channels=1, kernel_size=9, padding=(182,517))\n",
    "        self.conv3 = nn.Conv2d(in_channels=1, out_channels=1, kernel_size=12, padding=(170,518))\n",
    "        self.fc1 = nn.Linear(batch_size*170*512, 1024)\n",
    "        self.fc2 = nn.Linear(1024, 1024)\n",
    "        self.fc3 = nn.Linear(1024, 1)\n",
    "        self.dropout = nn.Dropout(p=0.5)  # Dropout 추가\n",
    "\n",
    "    def forward(self, x):\n",
    "        print(x.size())\n",
    "        x = self.pool(torch.relu(self.conv1(x)))\n",
    "        print(1, x.size())\n",
    "        x = self.pool(torch.relu(self.conv2(x)))\n",
    "        print(2, x.size())\n",
    "        x = self.pool(torch.relu(self.conv3(x)))\n",
    "        print(3, x.size())\n",
    "        x = torch.flatten(x)  # Flatten\n",
    "        print(4, x.size())\n",
    "        x = torch.relu(self.fc1(x))\n",
    "        print(5, x.size())\n",
    "        x = self.dropout(x)  # Dropout\n",
    "        print(6, x.size())\n",
    "        x = torch.relu(self.fc2(x))\n",
    "        print(7, x.size())\n",
    "        x = self.dropout(x)  # Dropout\n",
    "        print(8, x.size())\n",
    "        x = torch.sigmoid(self.fc3(x))  # 이진 분류를 위한 sigmoid 함수 사용\n",
    "        print(9, x.size())\n",
    "        return x\n",
    "\n",
    "# 모델 인스턴스 생성\n",
    "model = CNN()\n",
    "\n",
    "# Loss function 및 Optimizer 정의\n",
    "criterion = nn.BCELoss()  # Binary Cross Entropy Loss\n",
    "optimizer = optim.Adam(model.parameters(), lr=0.0001)\n",
    "\n",
    "# Learning rate scheduler 정의\n",
    "scheduler = optim.lr_scheduler.StepLR(optimizer, step_size=20, gamma=0.1)\n"
   ]
  },
  {
   "cell_type": "code",
   "execution_count": 2,
   "metadata": {},
   "outputs": [
    {
     "ename": "NameError",
     "evalue": "name 'YourDataset' is not defined",
     "output_type": "error",
     "traceback": [
      "\u001b[1;31m---------------------------------------------------------------------------\u001b[0m",
      "\u001b[1;31mNameError\u001b[0m                                 Traceback (most recent call last)",
      "Cell \u001b[1;32mIn[2], line 3\u001b[0m\n\u001b[0;32m      1\u001b[0m \u001b[38;5;28;01mfrom\u001b[39;00m \u001b[38;5;21;01mtorch\u001b[39;00m\u001b[38;5;21;01m.\u001b[39;00m\u001b[38;5;21;01mutils\u001b[39;00m\u001b[38;5;21;01m.\u001b[39;00m\u001b[38;5;21;01mdata\u001b[39;00m \u001b[38;5;28;01mimport\u001b[39;00m DataLoader\n\u001b[1;32m----> 3\u001b[0m dataset \u001b[38;5;241m=\u001b[39m \u001b[43mYourDataset\u001b[49m(X_train, y_train)  \u001b[38;5;66;03m# YourDataset은 실제 데이터셋을 로드하고 전처리하는 클래스입니다.\u001b[39;00m\n\u001b[0;32m      4\u001b[0m \u001b[38;5;66;03m# batch_size = 32\u001b[39;00m\n\u001b[0;32m      5\u001b[0m train_loader \u001b[38;5;241m=\u001b[39m DataLoader(dataset, batch_size\u001b[38;5;241m=\u001b[39mbatch_size, shuffle\u001b[38;5;241m=\u001b[39m\u001b[38;5;28;01mTrue\u001b[39;00m)  \u001b[38;5;66;03m# batch_size는 한 번에 모델에 전달되는 데이터의 수입니다.\u001b[39;00m\n",
      "\u001b[1;31mNameError\u001b[0m: name 'YourDataset' is not defined"
     ]
    }
   ],
   "source": [
    "from torch.utils.data import DataLoader\n",
    "\n",
    "dataset = YourDataset(X_train, y_train)  # YourDataset은 실제 데이터셋을 로드하고 전처리하는 클래스입니다.\n",
    "# batch_size = 32\n",
    "train_loader = DataLoader(dataset, batch_size=batch_size, shuffle=True)  # batch_size는 한 번에 모델에 전달되는 데이터의 수입니다.\n",
    "\n",
    "# 데이터셋 객체를 생성\n",
    "val_dataset = YourDataset(X_val, y_val)  # X_val은 검증 데이터의 입력, y_val은 검증 데이터의 타겟\n",
    "# DataLoader로 데이터셋을 배치 단위로 로드\n",
    "val_loader = DataLoader(val_dataset, batch_size=batch_size, shuffle=False)  # batch_size는 한 번에 모델에 전달되는 데이터의 수입니다.\n",
    "\n",
    "# 모델 학습\n",
    "num_epochs = 100\n",
    "for epoch in range(num_epochs):\n",
    "    model.train()  # 모델을 학습 모드로 설정\n",
    "    running_loss = 0.0\n",
    "    for inputs, labels in train_loader:  # DataLoader에서 배치 단위로 데이터 로드\n",
    "        print(inputs.size(), labels.size())\n",
    "        optimizer.zero_grad()  # gradient 초기화\n",
    "        inputs = inputs.float()\n",
    "        outputs = model(inputs).float()  # 모델 예측\n",
    "        print(outputs)\n",
    "        outputs = outputs.expand(*(batch_size, 1))\n",
    "        loss = criterion(outputs, labels)  # 손실 계산\n",
    "        loss.backward()  # 역전파\n",
    "        optimizer.step()  # 옵티마이저 업데이트\n",
    "        running_loss += loss.item() * inputs.size(0)\n",
    "    scheduler.step()  # Learning rate 스케줄링\n",
    "\n",
    "    # 현재 epoch의 평균 손실 출력\n",
    "    epoch_loss = running_loss / len(train_loader.dataset)\n",
    "    print(f\"Epoch [{epoch+1}/{num_epochs}], Loss: {epoch_loss:.4f}\")\n",
    "\n",
    "# 검증 데이터를 사용하여 모델 검증\n",
    "model.eval()  # 모델을 평가 모드로 설정\n",
    "correct = 0\n",
    "total = 0\n",
    "with torch.no_grad():  # 평가 과정에서는 gradient를 계산하지 않음\n",
    "    for inputs, labels in val_loader:  # 검증 데이터 로드\n",
    "        outputs = model(inputs)  # 모델 예측\n",
    "        predicted = (outputs >= 0.5).float()  # 확률을 이진 분류로 변환\n",
    "        total += labels.size(0)\n",
    "        correct += (predicted == labels).sum().item()\n",
    "\n",
    "# 정확도 출력\n",
    "accuracy = correct / total\n",
    "print(f\"Validation Accuracy: {accuracy:.2%}\")\n"
   ]
  },
  {
   "cell_type": "code",
   "execution_count": 118,
   "metadata": {},
   "outputs": [
    {
     "name": "stdout",
     "output_type": "stream",
     "text": [
      "Output after convolution: torch.Size([1, 1, 581, 1538])\n",
      "Output after MaxPooling: torch.Size([1, 1, 193, 512])\n",
      "Output after convolution: torch.Size([1, 1, 549, 1538])\n",
      "Output after MaxPooling: torch.Size([1, 1, 183, 512])\n",
      "Output after convolution: torch.Size([1, 1, 512, 1537])\n",
      "Output after MaxPooling: torch.Size([1, 1, 170, 512])\n",
      "torch.Size([1, 1024])\n",
      "torch.Size([1, 1024])\n",
      "torch.Size([1, 1])\n",
      "torch.Size([16, 1])\n"
     ]
    }
   ],
   "source": [
    "import torch\n",
    "import torch.nn as nn\n",
    "\n",
    "# 입력 데이터\n",
    "inputs = torch.randn(1, 1, 200, 127)  # batch_size x channels x height x width\n",
    "\n",
    "# Convolutional layer 정의\n",
    "conv1 = nn.Conv2d(in_channels=1, out_channels=1, kernel_size=6, padding=(193,708))  # padding=(height_pad, width_pad)\n",
    "\n",
    "# Convolution 연산\n",
    "output_conv1 = conv1(inputs)\n",
    "print(\"Output after convolution:\", output_conv1.size())\n",
    "\n",
    "# MaxPooling 연산\n",
    "pool = nn.MaxPool2d(kernel_size=3)\n",
    "output_pool = pool(output_conv1)\n",
    "print(\"Output after MaxPooling:\", output_pool.size())\n",
    "\n",
    "# Convolutiona2 layer 정의\n",
    "conv2 = nn.Conv2d(in_channels=1, out_channels=1, kernel_size=9, padding=(182,517))  # padding=(height_pad, width_pad)\n",
    "\n",
    "# Convolution 연산\n",
    "output_conv2 = conv2(output_pool)\n",
    "print(\"Output after convolution:\", output_conv2.size())\n",
    "\n",
    "# MaxPooling 연산\n",
    "pool = nn.MaxPool2d(kernel_size=3)\n",
    "output_pool = pool(output_conv2)\n",
    "print(\"Output after MaxPooling:\", output_pool.size())\n",
    "\n",
    "# Convolutiona3 layer 정의\n",
    "conv3 = nn.Conv2d(in_channels=1, out_channels=1, kernel_size=12, padding=(170,518))  # padding=(height_pad, width_pad)\n",
    "\n",
    "# Convolution 연산\n",
    "output_conv3 = conv3(output_pool)\n",
    "print(\"Output after convolution:\", output_conv3.size())\n",
    "\n",
    "# MaxPooling 연산\n",
    "pool = nn.MaxPool2d(kernel_size=3)\n",
    "output_pool = pool(output_conv3)\n",
    "print(\"Output after MaxPooling:\", output_pool.size())\n",
    "\n",
    "output_pool = torch.flatten(output_pool,1)\n",
    "fc1 = nn.Linear(170*512, 1024)\n",
    "output = fc1(output_pool)\n",
    "print(output.size())\n",
    "\n",
    "fc2 = nn.Linear(1024, 1024)\n",
    "output = fc2(output)\n",
    "print(output.size())\n",
    "\n",
    "fc3 = nn.Linear(1024, 1)\n",
    "output = fc3(output)\n",
    "print(output.size())\n",
    "\n",
    "print(output.expand(*(16,1)).size())"
   ]
  }
 ],
 "metadata": {
  "kernelspec": {
   "display_name": "final",
   "language": "python",
   "name": "python3"
  },
  "language_info": {
   "codemirror_mode": {
    "name": "ipython",
    "version": 3
   },
   "file_extension": ".py",
   "mimetype": "text/x-python",
   "name": "python",
   "nbconvert_exporter": "python",
   "pygments_lexer": "ipython3",
   "version": "3.11.8"
  }
 },
 "nbformat": 4,
 "nbformat_minor": 2
}
