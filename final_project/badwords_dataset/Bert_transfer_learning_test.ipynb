{
 "cells": [
  {
   "cell_type": "markdown",
   "metadata": {},
   "source": [
    "label 1 : clean  \n",
    "label 0 : dirty  "
   ]
  },
  {
   "cell_type": "code",
   "execution_count": 7,
   "metadata": {},
   "outputs": [
    {
     "name": "stdout",
     "output_type": "stream",
     "text": [
      "Predicted Label: 1\n"
     ]
    }
   ],
   "source": [
    "import torch\n",
    "from transformers import BertTokenizer, BertForSequenceClassification\n",
    "import numpy as np\n",
    "\n",
    "# BERT 토크나이저를 불러옵니다.\n",
    "tokenizer = BertTokenizer.from_pretrained('sgunderscore/hatescore-korean-hate-speech')\n",
    "\n",
    "# 모델을 불러옵니다.\n",
    "model = BertForSequenceClassification.from_pretrained('sgunderscore/hatescore-korean-hate-speech')\n",
    "\n",
    "# 저장된 모델의 경로\n",
    "saved_model_path = \"best_model_transfer.pth\"\n",
    "\n",
    "# 저장된 모델의 가중치를 불러와 모델에 적용합니다.\n",
    "# model.load_state_dict(torch.load(saved_model_path))  # gpu 사용\n",
    "model.load_state_dict(torch.load(saved_model_path, map_location=torch.device('cpu')))\n",
    "model.eval()  # 모델을 평가 모드로 설정합니다.\n",
    "\n",
    "# 입력 문장\n",
    "input_sentence = \"안녕하세요\"\n",
    "\n",
    "# 입력 문장을 토큰화하고 인덱스로 변환합니다.\n",
    "input_ids = tokenizer.encode(input_sentence, add_special_tokens=True, max_length=128, padding='max_length', return_tensors='pt')\n",
    "\n",
    "# GPU를 사용할 수 있는 경우 입력 데이터를 GPU로 이동합니다.\n",
    "device = torch.device(\"cuda\" if torch.cuda.is_available() else \"cpu\")\n",
    "model.to(device)\n",
    "input_ids = input_ids.to(device)\n",
    "\n",
    "# 입력 데이터를 모델에 전달하여 출력을 얻습니다.\n",
    "with torch.no_grad():\n",
    "    outputs = model(input_ids)\n",
    "    logits = outputs.logits\n",
    "\n",
    "# 예측된 레이블\n",
    "predicted_label = np.argmax(logits.cpu().numpy())\n",
    "\n",
    "# 결과 출력\n",
    "print(\"Predicted Label:\", predicted_label)\n"
   ]
  }
 ],
 "metadata": {
  "kernelspec": {
   "display_name": "final",
   "language": "python",
   "name": "python3"
  },
  "language_info": {
   "codemirror_mode": {
    "name": "ipython",
    "version": 3
   },
   "file_extension": ".py",
   "mimetype": "text/x-python",
   "name": "python",
   "nbconvert_exporter": "python",
   "pygments_lexer": "ipython3",
   "version": "3.11.8"
  }
 },
 "nbformat": 4,
 "nbformat_minor": 2
}
