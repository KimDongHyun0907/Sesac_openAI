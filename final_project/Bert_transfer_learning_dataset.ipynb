{
 "cells": [
  {
   "cell_type": "code",
   "execution_count": 1,
   "metadata": {},
   "outputs": [],
   "source": [
    "import pandas as pd\n",
    "import pickle\n",
    "import gzip\n",
    "\n",
    "# 전이 학습에 사용할 데이터셋을 불러옵니다. 이 데이터셋은 적절한 형식으로 전처리되어야 합니다.\n",
    "# 예를 들어, 데이터를 불러오고 토큰화하는 함수를 정의할 수 있습니다.\n",
    "\n",
    "def load_dataset(dataset_path, pickle_file):\n",
    "    # 데이터를 불러와서 적절한 형식으로 전처리하는 코드 작성\n",
    "    # 반환값으로 입력 문장과 레이블을 포함하는 리스트 또는 데이터셋을 반환\n",
    "    with gzip.open(dataset_path+pickle_file, 'rb') as f:\n",
    "        pickle_data = pickle.load(f)\n",
    "    \n",
    "    pickle_data = pickle_data.drop(columns='onehot_vector')\n",
    "    return pickle_data  \n",
    "\n",
    "# 데이터셋을 로드합니다.\n",
    "dataset_path = \"badwords_dataset/\"\n",
    "hs_data = load_dataset(dataset_path, 'hs.pickle')\n",
    "hs_val_data = load_dataset(dataset_path, 'hs_val.pickle')\n",
    "khs_data = load_dataset(dataset_path, 'khs.pickle')\n",
    "kold_data = load_dataset(dataset_path, 'kold.pickle')\n",
    "\n",
    "dataset = pd.concat([hs_data, hs_val_data, khs_data, kold_data], ignore_index=True)\n"
   ]
  },
  {
   "cell_type": "code",
   "execution_count": null,
   "metadata": {},
   "outputs": [],
   "source": [
    "# pickle 파일로 저장 (용량이 커서 gzip 사용)\n",
    "import pickle\n",
    "import gzip\n",
    "\n",
    "with gzip.open('transfer.pickle', 'wb') as f:\n",
    "    pickle.dump(dataset, f)"
   ]
  }
 ],
 "metadata": {
  "kernelspec": {
   "display_name": "final",
   "language": "python",
   "name": "python3"
  },
  "language_info": {
   "codemirror_mode": {
    "name": "ipython",
    "version": 3
   },
   "file_extension": ".py",
   "mimetype": "text/x-python",
   "name": "python",
   "nbconvert_exporter": "python",
   "pygments_lexer": "ipython3",
   "version": "3.11.8"
  }
 },
 "nbformat": 4,
 "nbformat_minor": 2
}
