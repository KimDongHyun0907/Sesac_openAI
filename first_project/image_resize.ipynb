{
 "cells": [
  {
   "cell_type": "markdown",
   "metadata": {},
   "source": [
    "Teachable Machine에 학습할 이미지를 224*224로 resize"
   ]
  },
  {
   "cell_type": "code",
   "execution_count": 27,
   "metadata": {},
   "outputs": [],
   "source": [
    "from PIL import Image\n",
    "import os\n",
    "from glob import glob\n",
    "\n",
    "kick_type = '아웃프론트'\n",
    "images_path = \"C:/Users/bluecom014/Desktop/프로젝트 이미지자료/images_folder_\"+kick_type+\"_json/\"\n",
    "resized_images_path = \"C:/Users/bluecom014/Desktop/프로젝트 이미지자료/resize_\"+kick_type+\"_images/\"\n",
    "\n",
    "if not os.path.exists(resized_images_path):\n",
    "    os.makedirs(resized_images_path)\n",
    "\n",
    "destination_folder_left = resized_images_path + 'left/'\n",
    "destination_folder_right = resized_images_path + 'right/'\n",
    "\n",
    "subfolders = ['lf', 'rf']\n",
    "\n",
    "for folder in [destination_folder_left, destination_folder_right]:\n",
    "    for subfolder in subfolders:\n",
    "        path = os.path.join(folder, subfolder)\n",
    "        if not os.path.exists(path):\n",
    "            os.makedirs(path)\n",
    "\n",
    "for img_path in glob(images_path+'*/*/*'):\n",
    "    folder1, folder2 = img_path.split('\\\\')[1:3]\n",
    "    if img_path.endswith('.jpg'):\n",
    "        img = Image.open(img_path)\n",
    "        resize_img = img.resize((224, 224))\n",
    "        output_path = os.path.join(resized_images_path, folder1, folder2, os.path.basename(img_path))\n",
    "        resize_img.save(output_path)"
   ]
  }
 ],
 "metadata": {
  "kernelspec": {
   "display_name": "sesac",
   "language": "python",
   "name": "python3"
  },
  "language_info": {
   "codemirror_mode": {
    "name": "ipython",
    "version": 3
   },
   "file_extension": ".py",
   "mimetype": "text/x-python",
   "name": "python",
   "nbconvert_exporter": "python",
   "pygments_lexer": "ipython3",
   "version": "3.12.0"
  }
 },
 "nbformat": 4,
 "nbformat_minor": 2
}
