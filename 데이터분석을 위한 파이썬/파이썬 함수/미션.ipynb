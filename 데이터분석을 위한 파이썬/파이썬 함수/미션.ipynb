{
 "cells": [
  {
   "cell_type": "markdown",
   "metadata": {},
   "source": [
    "### 미션1 폴더생성"
   ]
  },
  {
   "cell_type": "markdown",
   "metadata": {},
   "source": [
    "[작업 1] 파이썬 명령어를 이용하여 'c:/data' 폴더 생성"
   ]
  },
  {
   "cell_type": "code",
   "execution_count": 1,
   "metadata": {},
   "outputs": [],
   "source": [
    "import os\n",
    "os.mkdir('c:/data')"
   ]
  },
  {
   "cell_type": "markdown",
   "metadata": {},
   "source": [
    "[작업 2] 파이썬 명령어를 이용하여 'c:/data/result' 폴더 생성\n",
    "- 이 작업은 2번 실행하면 에러 표시.\n",
    "- 이미 폴더가 있음으로 생성하지 못한다고 메시지 뜸"
   ]
  },
  {
   "cell_type": "code",
   "execution_count": null,
   "metadata": {},
   "outputs": [],
   "source": [
    "os.mkdir('c:/data/result')"
   ]
  },
  {
   "cell_type": "markdown",
   "metadata": {},
   "source": [
    "[작업 3] try: except를 이용하여 폴더가 있다면 생성하지 않음."
   ]
  },
  {
   "cell_type": "code",
   "execution_count": 11,
   "metadata": {},
   "outputs": [
    {
     "name": "stdout",
     "output_type": "stream",
     "text": [
      "파일 존재\n"
     ]
    }
   ],
   "source": [
    "try:\n",
    "    os.mkdir('c:/data/result')\n",
    "except:\n",
    "    print('파일 존재')"
   ]
  },
  {
   "cell_type": "markdown",
   "metadata": {},
   "source": [
    "[작업 4] c:/data 폴더 내의 폴더리스트 확인"
   ]
  },
  {
   "cell_type": "code",
   "execution_count": 12,
   "metadata": {},
   "outputs": [
    {
     "data": {
      "text/plain": [
       "['result']"
      ]
     },
     "execution_count": 12,
     "metadata": {},
     "output_type": "execute_result"
    }
   ],
   "source": [
    "os.listdir('c:/data')"
   ]
  },
  {
   "cell_type": "markdown",
   "metadata": {},
   "source": [
    "[작업 5] 리스트갯수 샘플보기"
   ]
  },
  {
   "cell_type": "code",
   "execution_count": 15,
   "metadata": {},
   "outputs": [
    {
     "data": {
      "text/plain": [
       "['result']"
      ]
     },
     "execution_count": 15,
     "metadata": {},
     "output_type": "execute_result"
    }
   ],
   "source": [
    "num = 3\n",
    "os.listdir('c:/data')[:num]"
   ]
  },
  {
   "cell_type": "markdown",
   "metadata": {},
   "source": [
    "[작업 6] 작업 1 ~ 5를 함수로 작성"
   ]
  },
  {
   "cell_type": "code",
   "execution_count": 10,
   "metadata": {},
   "outputs": [
    {
     "ename": "ValueError",
     "evalue": "Value must be int",
     "output_type": "error",
     "traceback": [
      "\u001b[1;31m---------------------------------------------------------------------------\u001b[0m",
      "\u001b[1;31mValueError\u001b[0m                                Traceback (most recent call last)",
      "Cell \u001b[1;32mIn[10], line 14\u001b[0m\n\u001b[0;32m     10\u001b[0m         \u001b[38;5;28;01mraise\u001b[39;00m \u001b[38;5;167;01mValueError\u001b[39;00m(\u001b[38;5;124m'\u001b[39m\u001b[38;5;124mValue must be int\u001b[39m\u001b[38;5;124m'\u001b[39m)\n\u001b[0;32m     12\u001b[0m     \u001b[38;5;28mprint\u001b[39m(os\u001b[38;5;241m.\u001b[39mlistdir(root)[:num])\n\u001b[1;32m---> 14\u001b[0m \u001b[43mmake_directory\u001b[49m\u001b[43m(\u001b[49m\u001b[38;5;124;43m'\u001b[39;49m\u001b[38;5;124;43mresult\u001b[39;49m\u001b[38;5;124;43m'\u001b[39;49m\u001b[43m,\u001b[49m\u001b[43m \u001b[49m\u001b[43mnum\u001b[49m\u001b[38;5;241;43m=\u001b[39;49m\u001b[38;5;124;43m'\u001b[39;49m\u001b[38;5;124;43m한개\u001b[39;49m\u001b[38;5;124;43m'\u001b[39;49m\u001b[43m)\u001b[49m\n",
      "Cell \u001b[1;32mIn[10], line 10\u001b[0m, in \u001b[0;36mmake_directory\u001b[1;34m(name, num, root)\u001b[0m\n\u001b[0;32m      7\u001b[0m         \u001b[38;5;28mprint\u001b[39m(name\u001b[38;5;241m+\u001b[39m\u001b[38;5;124m'\u001b[39m\u001b[38;5;124m 폴더 존재\u001b[39m\u001b[38;5;124m'\u001b[39m)\n\u001b[0;32m      9\u001b[0m \u001b[38;5;28;01melse\u001b[39;00m:\n\u001b[1;32m---> 10\u001b[0m     \u001b[38;5;28;01mraise\u001b[39;00m \u001b[38;5;167;01mValueError\u001b[39;00m(\u001b[38;5;124m'\u001b[39m\u001b[38;5;124mValue must be int\u001b[39m\u001b[38;5;124m'\u001b[39m)\n\u001b[0;32m     12\u001b[0m \u001b[38;5;28mprint\u001b[39m(os\u001b[38;5;241m.\u001b[39mlistdir(root)[:num])\n",
      "\u001b[1;31mValueError\u001b[0m: Value must be int"
     ]
    }
   ],
   "source": [
    "def make_directory(name, num: int=3, root='c:/data'):\n",
    "    if isinstance(num, int):\n",
    "        try:\n",
    "            os.mkdir('c:/data/'+name)\n",
    "            print('폴더 생성')\n",
    "        except:\n",
    "            print(name+' 폴더 존재')\n",
    "    \n",
    "    else:\n",
    "        raise ValueError('Value must be int')\n",
    "\n",
    "    print(os.listdir(root)[:num])\n",
    "\n",
    "make_directory('result', num='한개')"
   ]
  },
  {
   "cell_type": "code",
   "execution_count": 2,
   "metadata": {},
   "outputs": [
    {
     "name": "stdout",
     "output_type": "stream",
     "text": [
      "Collecting qrcode\n",
      "  Downloading qrcode-7.4.2-py3-none-any.whl (46 kB)\n",
      "     ---------------------------------------- 0.0/46.2 kB ? eta -:--:--\n",
      "     -------- ------------------------------- 10.2/46.2 kB ? eta -:--:--\n",
      "     --------------------------------- ---- 41.0/46.2 kB 393.8 kB/s eta 0:00:01\n",
      "     -------------------------------------- 46.2/46.2 kB 329.9 kB/s eta 0:00:00\n",
      "Requirement already satisfied: typing-extensions in c:\\users\\bluecom014\\miniconda3\\envs\\sesac\\lib\\site-packages (from qrcode) (4.9.0)\n",
      "Collecting pypng (from qrcode)\n",
      "  Downloading pypng-0.20220715.0-py3-none-any.whl (58 kB)\n",
      "     ---------------------------------------- 0.0/58.1 kB ? eta -:--:--\n",
      "     ---------------------------------------- 58.1/58.1 kB 3.2 MB/s eta 0:00:00\n",
      "Requirement already satisfied: colorama in c:\\users\\bluecom014\\miniconda3\\envs\\sesac\\lib\\site-packages (from qrcode) (0.4.6)\n",
      "Installing collected packages: pypng, qrcode\n",
      "Successfully installed pypng-0.20220715.0 qrcode-7.4.2\n"
     ]
    }
   ],
   "source": [
    "!pip install qrcode\n"
   ]
  },
  {
   "cell_type": "code",
   "execution_count": 3,
   "metadata": {},
   "outputs": [],
   "source": [
    "## 파이썬 QR 코드 생성\n",
    "import qrcode\n",
    "\n",
    "site = 'https://www.naver.com/'\n",
    "qr = qrcode.make(site)\n",
    "qr.save('myqr.png')"
   ]
  },
  {
   "cell_type": "code",
   "execution_count": 6,
   "metadata": {},
   "outputs": [],
   "source": [
    "## [미션] 함수를 이용해서 site 여러개, name 여러개를 받아서 네이버, 다음 qr 만들기\n",
    "## 리스트로 만들기\n",
    "\n",
    "import qrcode\n",
    "\n",
    "site = ['https://www.naver.com/', 'https://www.daum.net/']\n",
    "name = ['네이버', '다음']\n",
    "\n",
    "def make_qr():\n",
    "    for s,n in zip(site, name):\n",
    "        qr = qrcode.make(s)\n",
    "        qr.save(n+'.png')\n",
    "\n",
    "make_qr()"
   ]
  },
  {
   "cell_type": "code",
   "execution_count": 8,
   "metadata": {},
   "outputs": [],
   "source": [
    "## 딕셔너리로 만들기\n",
    "\n",
    "import qrcode\n",
    "\n",
    "site = ['https://www.naver.com/', 'https://www.daum.net/']\n",
    "name = ['네이버', '다음']\n",
    "\n",
    "def make_qr(**kwargs):\n",
    "    for a,b in zip(kwargs['s'], kwargs['n']):\n",
    "        qr = qrcode.make(a)\n",
    "        qr.save(b+'.png')\n",
    "\n",
    "make_qr(s=site, n=name)"
   ]
  }
 ],
 "metadata": {
  "kernelspec": {
   "display_name": "sesac",
   "language": "python",
   "name": "python3"
  },
  "language_info": {
   "codemirror_mode": {
    "name": "ipython",
    "version": 3
   },
   "file_extension": ".py",
   "mimetype": "text/x-python",
   "name": "python",
   "nbconvert_exporter": "python",
   "pygments_lexer": "ipython3",
   "version": "3.12.0"
  }
 },
 "nbformat": 4,
 "nbformat_minor": 2
}
