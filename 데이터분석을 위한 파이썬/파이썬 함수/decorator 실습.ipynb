{
 "cells": [
  {
   "cell_type": "code",
   "execution_count": 4,
   "metadata": {},
   "outputs": [
    {
     "name": "stdout",
     "output_type": "stream",
     "text": [
      "###\n",
      "--------------------------------------------------\n",
      "###\n",
      "\n",
      "            ver: 2.0\n",
      "            data: 2024\n",
      "            la: python\n",
      "          \n"
     ]
    }
   ],
   "source": [
    "def myPrn(fun):\n",
    "    print('###')\n",
    "    fun()\n",
    "\n",
    "@myPrn\n",
    "def prn():\n",
    "    print('-'*50)\n",
    "\n",
    "@myPrn\n",
    "def title():\n",
    "    print('''\n",
    "            ver: 2.0\n",
    "            data: 2024\n",
    "            la: python\n",
    "          ''')\n"
   ]
  },
  {
   "cell_type": "code",
   "execution_count": 5,
   "metadata": {},
   "outputs": [
    {
     "name": "stdout",
     "output_type": "stream",
     "text": [
      "--------------------------------------------------\n",
      "\n",
      "            ver: 2.0\n",
      "            data: 2024\n",
      "            la: python\n",
      "          \n",
      "--------------------------------------------------\n"
     ]
    }
   ],
   "source": [
    "def prn():\n",
    "    print('-'*50)\n",
    "\n",
    "def title():\n",
    "    print('''\n",
    "            ver: 2.0\n",
    "            data: 2024\n",
    "            la: python\n",
    "          ''')\n",
    "    \n",
    "prn()\n",
    "title()\n",
    "prn()"
   ]
  },
  {
   "cell_type": "code",
   "execution_count": 8,
   "metadata": {},
   "outputs": [
    {
     "data": {
      "text/plain": [
       "10"
      ]
     },
     "execution_count": 8,
     "metadata": {},
     "output_type": "execute_result"
    }
   ],
   "source": [
    "data = [10,2,3,4,5,6]\n",
    "next(iter(data))"
   ]
  }
 ],
 "metadata": {
  "kernelspec": {
   "display_name": "sesac",
   "language": "python",
   "name": "python3"
  },
  "language_info": {
   "codemirror_mode": {
    "name": "ipython",
    "version": 3
   },
   "file_extension": ".py",
   "mimetype": "text/x-python",
   "name": "python",
   "nbconvert_exporter": "python",
   "pygments_lexer": "ipython3",
   "version": "3.12.0"
  }
 },
 "nbformat": 4,
 "nbformat_minor": 2
}
