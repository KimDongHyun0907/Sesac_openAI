{
 "cells": [
  {
   "cell_type": "code",
   "execution_count": 6,
   "metadata": {},
   "outputs": [
    {
     "name": "stdout",
     "output_type": "stream",
     "text": [
      "Requirement already satisfied: pygame in c:\\users\\bluecom014\\miniconda3\\envs\\sesac\\lib\\site-packages (2.5.2)\n"
     ]
    }
   ],
   "source": [
    "!pip install pygame"
   ]
  },
  {
   "cell_type": "code",
   "execution_count": 13,
   "metadata": {},
   "outputs": [
    {
     "ename": "SystemExit",
     "evalue": "",
     "output_type": "error",
     "traceback": [
      "An exception has occurred, use %tb to see the full traceback.\n",
      "\u001b[1;31mSystemExit\u001b[0m\n"
     ]
    }
   ],
   "source": [
    "import pygame\n",
    "import sys\n",
    "import random\n",
    "\n",
    "# 초기화\n",
    "pygame.init()\n",
    "\n",
    "# 화면 설정\n",
    "width, height = 800, 600\n",
    "screen = pygame.display.set_mode((width, height))\n",
    "pygame.display.set_caption(\"공 맞추기 게임\")\n",
    "\n",
    "# 색상 정의\n",
    "white = (255, 255, 255)\n",
    "black = (0, 0, 0)\n",
    "red = (255, 0, 0)\n",
    "\n",
    "# 공 설정\n",
    "ball_radius = 20\n",
    "ball_color = red\n",
    "ball_speed = [5, 5]  # 공의 초기 속도\n",
    "ball_pos = [random.randint(ball_radius, width - ball_radius), ball_radius]\n",
    "\n",
    "# 패들 설정\n",
    "paddle_width, paddle_height = 100, 10\n",
    "paddle_color = white\n",
    "paddle_speed = 10\n",
    "\n",
    "# 패들 초기 위치\n",
    "paddle_x = (width - paddle_width) // 2\n",
    "paddle_y = height - 2 * paddle_height\n",
    "\n",
    "# 게임 루프\n",
    "clock = pygame.time.Clock()\n",
    "\n",
    "while True:\n",
    "    for event in pygame.event.get():\n",
    "        if event.type == pygame.QUIT:\n",
    "            pygame.quit()\n",
    "            sys.exit()\n",
    "\n",
    "    # 키 입력 처리\n",
    "    keys = pygame.key.get_pressed()\n",
    "    if keys[pygame.K_LEFT] and paddle_x > 0:\n",
    "        paddle_x -= paddle_speed\n",
    "    if keys[pygame.K_RIGHT] and paddle_x < width - paddle_width:\n",
    "        paddle_x += paddle_speed\n",
    "\n",
    "    # 공 이동\n",
    "    ball_pos[0] += ball_speed[0]\n",
    "    ball_pos[1] += ball_speed[1]\n",
    "\n",
    "    # 벽과 공 충돌 처리\n",
    "    if ball_pos[0] - ball_radius < 0 or ball_pos[0] + ball_radius > width:\n",
    "        ball_speed[0] = -ball_speed[0]\n",
    "\n",
    "    # 바닥과 공 충돌 처리\n",
    "    if ball_pos[1] + ball_radius > height:\n",
    "        ball_pos = [random.randint(ball_radius, width - ball_radius), ball_radius]\n",
    "\n",
    "    # 화면 윗부분과 공 충돌 처리\n",
    "    if ball_pos[1] - ball_radius < 0:\n",
    "        ball_speed[1] = -ball_speed[1]\n",
    "\n",
    "    # 패들과 공 충돌 처리\n",
    "    if (\n",
    "        paddle_x - ball_radius < ball_pos[0] < paddle_x + paddle_width + ball_radius\n",
    "        and paddle_y - ball_radius < ball_pos[1] < paddle_y + paddle_height\n",
    "    ):\n",
    "        ball_speed[1] = -ball_speed[1]\n",
    "\n",
    "    # 화면 업데이트\n",
    "    screen.fill(black)\n",
    "    pygame.draw.circle(screen, ball_color, (int(ball_pos[0]), int(ball_pos[1])), ball_radius)\n",
    "    pygame.draw.rect(screen, paddle_color, (paddle_x, paddle_y, paddle_width, paddle_height))\n",
    "\n",
    "    pygame.display.flip()\n",
    "\n",
    "    # FPS 설정\n",
    "    clock.tick(60)\n"
   ]
  }
 ],
 "metadata": {
  "kernelspec": {
   "display_name": "sesac",
   "language": "python",
   "name": "python3"
  },
  "language_info": {
   "codemirror_mode": {
    "name": "ipython",
    "version": 3
   },
   "file_extension": ".py",
   "mimetype": "text/x-python",
   "name": "python",
   "nbconvert_exporter": "python",
   "pygments_lexer": "ipython3",
   "version": "3.12.0"
  }
 },
 "nbformat": 4,
 "nbformat_minor": 2
}
