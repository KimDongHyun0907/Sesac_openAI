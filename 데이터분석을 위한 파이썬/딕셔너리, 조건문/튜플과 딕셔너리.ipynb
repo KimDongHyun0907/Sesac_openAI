{
 "cells": [
  {
   "cell_type": "code",
   "execution_count": 1,
   "metadata": {},
   "outputs": [
    {
     "data": {
      "text/plain": [
       "[100, 2]"
      ]
     },
     "execution_count": 1,
     "metadata": {},
     "output_type": "execute_result"
    }
   ],
   "source": [
    "a=[1,2]\n",
    "a,[0]; a[0]=100\n",
    "a"
   ]
  },
  {
   "cell_type": "code",
   "execution_count": 8,
   "metadata": {},
   "outputs": [
    {
     "name": "stdout",
     "output_type": "stream",
     "text": [
      "<class 'tuple'>\n",
      "<class 'list'>\n",
      "1\n"
     ]
    },
    {
     "data": {
      "text/plain": [
       "[100, 2]"
      ]
     },
     "execution_count": 8,
     "metadata": {},
     "output_type": "execute_result"
    }
   ],
   "source": [
    "a=(1,2)\n",
    "\n",
    "print(type(a))\n",
    "a=list(a)\n",
    "print(type(a))\n",
    "print(a[0]) ; a[0]=100\n",
    "a"
   ]
  },
  {
   "cell_type": "code",
   "execution_count": 14,
   "metadata": {},
   "outputs": [
    {
     "name": "stdout",
     "output_type": "stream",
     "text": [
      "<class 'tuple'>\n",
      "[100, 2]\n"
     ]
    }
   ],
   "source": [
    "a=(1,2)\n",
    "# 타입 출력\n",
    "print(type(a))\n",
    "# if문으로 타입이 tuple이라면 list 구조로 type을 변경하고자함\n",
    "if type(a)==tuple:\n",
    "    a=list(a)\n",
    "# a[0]=100으로 데이터변경\n",
    "a[0]=100\n",
    "print(a)\n"
   ]
  },
  {
   "cell_type": "code",
   "execution_count": 13,
   "metadata": {},
   "outputs": [
    {
     "name": "stdout",
     "output_type": "stream",
     "text": [
      "자료형은 <class 'tuple'> 입니다\n",
      "리스트로 변경했어요.\n"
     ]
    },
    {
     "data": {
      "text/plain": [
       "list"
      ]
     },
     "execution_count": 13,
     "metadata": {},
     "output_type": "execute_result"
    }
   ],
   "source": [
    "a=(1,2)\n",
    "print('자료형은', type(a), '입니다')\n",
    "userChoice=int(input('변경은 1, 아니면 0'))\n",
    "\n",
    "if type(a)==tuple:\n",
    "    if userChoice==1:\n",
    "        a=list(a)\n",
    "        print('리스트로 변경했어요.')\n",
    "    else:\n",
    "        print('변경없음')\n",
    "elif type(a)==list:\n",
    "    print('타입변경없음')\n",
    "type(a)"
   ]
  },
  {
   "cell_type": "code",
   "execution_count": 18,
   "metadata": {},
   "outputs": [
    {
     "name": "stdout",
     "output_type": "stream",
     "text": [
      "<class 'tuple'> 입니다.\n",
      "리스트 변형\n"
     ]
    },
    {
     "data": {
      "text/plain": [
       "[100, 2]"
      ]
     },
     "execution_count": 18,
     "metadata": {},
     "output_type": "execute_result"
    }
   ],
   "source": [
    "class userType:\n",
    "    def prnType(x):\n",
    "        print(type(x), '입니다.')\n",
    "        dataType=type(x)\n",
    "        return dataType\n",
    "\n",
    "    def typeList(x):\n",
    "        print('리스트 변형')\n",
    "        return list(x)\n",
    "\n",
    "a=(1,2)\n",
    "xxx=userType\n",
    "y=xxx.prnType(a)\n",
    "if y==tuple:\n",
    "    a=xxx.typeList(a)\n",
    "a[0]=100\n",
    "\n",
    "a"
   ]
  },
  {
   "cell_type": "code",
   "execution_count": 20,
   "metadata": {},
   "outputs": [
    {
     "name": "stdout",
     "output_type": "stream",
     "text": [
      "tuple 입니다.\n",
      "리스트 변형\n"
     ]
    },
    {
     "data": {
      "text/plain": [
       "[100, 2]"
      ]
     },
     "execution_count": 20,
     "metadata": {},
     "output_type": "execute_result"
    }
   ],
   "source": [
    "def prnType(x):\n",
    "    type_text = str(type(x))\n",
    "    print(type_text[type_text.find('\\'')+1:-2], '입니다.')\n",
    "    dataType=type(x)\n",
    "    return dataType\n",
    "\n",
    "def typeList(x):\n",
    "    print('리스트 변형')\n",
    "    return list(x)\n",
    "\n",
    "a=(1,2)\n",
    "y=prnType(a)\n",
    "if y==tuple:\n",
    "    a=typeList(a)\n",
    "a[0]=100\n",
    "\n",
    "a"
   ]
  },
  {
   "cell_type": "code",
   "execution_count": 5,
   "metadata": {},
   "outputs": [
    {
     "data": {
      "text/plain": [
       "tuple"
      ]
     },
     "execution_count": 5,
     "metadata": {},
     "output_type": "execute_result"
    }
   ],
   "source": [
    "from PIL import Image\n",
    "file = r\"C:\\Users\\bluecom014\\Desktop\\데이터분석을 위한 파이썬\\딕셔너리, 조건문\\img\\flower01.jpg\"\n",
    "img = Image.open(file)\n",
    "type(img.size)\n"
   ]
  },
  {
   "cell_type": "code",
   "execution_count": 6,
   "metadata": {},
   "outputs": [
    {
     "data": {
      "text/plain": [
       "(50, 100)"
      ]
     },
     "execution_count": 6,
     "metadata": {},
     "output_type": "execute_result"
    }
   ],
   "source": [
    "img=img.resize((50,100))\n",
    "img.size"
   ]
  },
  {
   "cell_type": "code",
   "execution_count": 54,
   "metadata": {},
   "outputs": [
    {
     "name": "stdout",
     "output_type": "stream",
     "text": [
      "찾는 단어가 없습니다.\n"
     ]
    }
   ],
   "source": [
    "def indexFind(word, find):\n",
    "    for cnt, i in enumerate(word):\n",
    "        if i==find:\n",
    "            return cnt\n",
    "    return -1\n",
    "\n",
    "word=['눈','b','강아지']\n",
    "y=[['사람의 눈', '기상에서의 눈'],['날다'],['애완동물', '댕댕이','반려견']]\n",
    "\n",
    "find='강아지'\n",
    "cnt = indexFind(word, find)\n",
    "if cnt==-1: print('찾는 단어가 없습니다.')\n",
    "else: print(y[cnt])"
   ]
  },
  {
   "cell_type": "code",
   "execution_count": 32,
   "metadata": {},
   "outputs": [
    {
     "name": "stdout",
     "output_type": "stream",
     "text": [
      "찾는 단어 없음\n"
     ]
    }
   ],
   "source": [
    "def indexFind(word, find):\n",
    "    chk=0\n",
    "    for cnt, i in enumerate(word):\n",
    "        if i==find:\n",
    "            chk=1;break\n",
    "    if chk==0:\n",
    "        print('찾는 단어 없음')\n",
    "        return 999\n",
    "    return cnt\n",
    "\n",
    "word=['눈','b','강아지']\n",
    "y=[['사람의 눈', '기상에서의 눈'],['날다'],['애완동물', '댕댕이','반려견']]\n",
    "\n",
    "find='aa'\n",
    "cnt = indexFind(word, find)\n",
    "if cnt!=999:\n",
    "    print(y[cnt])    \n"
   ]
  },
  {
   "cell_type": "code",
   "execution_count": 39,
   "metadata": {},
   "outputs": [
    {
     "name": "stdout",
     "output_type": "stream",
     "text": [
      "찾는 단어 없음\n"
     ]
    }
   ],
   "source": [
    "def indexFind(find):\n",
    "    if find in words:\n",
    "        print(y[words.index(find)])\n",
    "    else:\n",
    "        print('찾는 단어 없음')\n",
    "\n",
    "words=['눈','b','강아지']\n",
    "y=[['사람의 눈', '기상에서의 눈'],['날다'],['애완동물', '댕댕이','반려견']]\n",
    "\n",
    "# find='눈'\n",
    "find='aa'\n",
    "\n",
    "indexFind(find)\n"
   ]
  },
  {
   "cell_type": "code",
   "execution_count": 24,
   "metadata": {},
   "outputs": [
    {
     "data": {
      "text/plain": [
       "dict"
      ]
     },
     "execution_count": 24,
     "metadata": {},
     "output_type": "execute_result"
    }
   ],
   "source": [
    "data = {'눈':['사람의 눈', '기상에서의 눈'],\n",
    "        'b':['날다'],\n",
    "        '강아지':['애완동물', '댕댕이','반려견']}\n",
    "\n",
    "type(data)"
   ]
  },
  {
   "cell_type": "code",
   "execution_count": 25,
   "metadata": {},
   "outputs": [
    {
     "data": {
      "text/plain": [
       "dict_keys(['눈', 'b', '강아지'])"
      ]
     },
     "execution_count": 25,
     "metadata": {},
     "output_type": "execute_result"
    }
   ],
   "source": [
    "data.keys()"
   ]
  },
  {
   "cell_type": "code",
   "execution_count": 28,
   "metadata": {},
   "outputs": [
    {
     "data": {
      "text/plain": [
       "['애완동물', '댕댕이', '반려견']"
      ]
     },
     "execution_count": 28,
     "metadata": {},
     "output_type": "execute_result"
    }
   ],
   "source": [
    "data['강아지']"
   ]
  },
  {
   "cell_type": "code",
   "execution_count": 26,
   "metadata": {},
   "outputs": [
    {
     "data": {
      "text/plain": [
       "'눈'"
      ]
     },
     "execution_count": 26,
     "metadata": {},
     "output_type": "execute_result"
    }
   ],
   "source": [
    "list(data.keys())[0]"
   ]
  },
  {
   "cell_type": "code",
   "execution_count": 27,
   "metadata": {},
   "outputs": [
    {
     "data": {
      "text/plain": [
       "dict_values([['사람의 눈', '기상에서의 눈'], ['날다'], ['애완동물', '댕댕이', '반려견']])"
      ]
     },
     "execution_count": 27,
     "metadata": {},
     "output_type": "execute_result"
    }
   ],
   "source": [
    "data.values()"
   ]
  },
  {
   "cell_type": "code",
   "execution_count": 40,
   "metadata": {},
   "outputs": [
    {
     "data": {
      "text/plain": [
       "{'역사대모험': 21000.0,\n",
       " '영단어': 9900.0,\n",
       " '파이썬': 17850.0,\n",
       " '여행에세이': 23100.0,\n",
       " '삼국지': 34650.0}"
      ]
     },
     "execution_count": 40,
     "metadata": {},
     "output_type": "execute_result"
    }
   ],
   "source": [
    "# 15000 이하 10% 인상, 15000초과 5% 인상\n",
    "book={'역사대모험':20000,\n",
    "      '영단어':9000,\n",
    "      '파이썬':17000,\n",
    "      '여행에세이':22000,\n",
    "      '삼국지':33000}\n",
    "\n",
    "for val in book:\n",
    "    if book[val]<=15000:\n",
    "        book[val]+=book[val]*0.1\n",
    "    else:\n",
    "        book[val]+=book[val]*0.05\n",
    "book"
   ]
  },
  {
   "cell_type": "code",
   "execution_count": 43,
   "metadata": {},
   "outputs": [
    {
     "name": "stdout",
     "output_type": "stream",
     "text": [
      "1위는 956412로 라이언입니다.\n",
      "2위는 861832로 니니즈입니다.\n",
      "3위는 796354로 어피치입니다.\n",
      "4위는 534840로 프로도입니다.\n",
      "5위는 387896로 네오입니다.\n"
     ]
    }
   ],
   "source": [
    "import operator\n",
    "\n",
    "ranking = {'라이언':956412,\n",
    "           '어피치':796354,\n",
    "           '니니즈':861832,\n",
    "           '네오':387896,\n",
    "           '프로도':534840}\n",
    "\n",
    "sort_ranking = sorted(ranking.items(), key=operator.itemgetter(1), reverse=True)\n",
    "cnt=1\n",
    "for name, point in sort_ranking:\n",
    "    print(f'{cnt}위는 {point}로 {name}입니다.')\n",
    "    cnt+=1\n"
   ]
  }
 ],
 "metadata": {
  "kernelspec": {
   "display_name": "sesac",
   "language": "python",
   "name": "python3"
  },
  "language_info": {
   "codemirror_mode": {
    "name": "ipython",
    "version": 3
   },
   "file_extension": ".py",
   "mimetype": "text/x-python",
   "name": "python",
   "nbconvert_exporter": "python",
   "pygments_lexer": "ipython3",
   "version": "3.12.0"
  }
 },
 "nbformat": 4,
 "nbformat_minor": 2
}
