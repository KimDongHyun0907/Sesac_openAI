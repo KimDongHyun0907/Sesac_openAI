{
 "cells": [
  {
   "cell_type": "code",
   "execution_count": 3,
   "metadata": {},
   "outputs": [
    {
     "name": "stdout",
     "output_type": "stream",
     "text": [
      "19/29/7/32/12/43/"
     ]
    }
   ],
   "source": [
    "import random\n",
    "\n",
    "# 복원 추출, 비복원 추출\n",
    "for _ in range(6):\n",
    "    num = random.randrange(1, 46)  # 복원 추출\n",
    "    print(num, end='/')\n",
    "\n"
   ]
  },
  {
   "cell_type": "markdown",
   "metadata": {},
   "source": [
    "1. 명단을 리스트로 만든다\n",
    "방법 1. name\n",
    "2. 그 명단의 길이 (리스트의 개수)를 구한다.\n",
    "3. 그 개수중에 한개의 숫자값을 무작위로 추출한다.\n",
    "4. for로 5번 실행한다.\n",
    "\n",
    "Olivia\n",
    "Ethan\n",
    "Emma\n",
    "Liam\n",
    "Ava"
   ]
  },
  {
   "cell_type": "code",
   "execution_count": 17,
   "metadata": {},
   "outputs": [
    {
     "name": "stdout",
     "output_type": "stream",
     "text": [
      "1. 월요일 당번은 Emma입니다.\n",
      "2. 화요일 당번은 Liam입니다.\n",
      "3. 수요일 당번은 Ethan입니다.\n",
      "4. 목요일 당번은 Olivia입니다.\n",
      "5. 금요일 당번은 Ava입니다.\n"
     ]
    }
   ],
   "source": [
    "import random\n",
    "name_list = 'Olivia,Ethan,Emma,Liam,Ava'.split(',')\n",
    "size = len(name_list)\n",
    "random_name_list = random.sample(name_list, size)\n",
    "weekdays_list = '월,화,수,목,금'.split(',')\n",
    "\n",
    "for number in range(size):\n",
    "    print(f'{number+1}. {weekdays_list[number]}요일 당번은 {random_name_list[number]}입니다.')\n"
   ]
  },
  {
   "cell_type": "code",
   "execution_count": null,
   "metadata": {},
   "outputs": [],
   "source": [
    "# 스칼라, 벡터, array, 텐서\n",
    "a=1  # 스칼라\n",
    "a=[1]  # 벡터 (=리스트, 방향과 크기를 갖고 있음)\n",
    "a=[ [1,2,3],\n",
    "    [2,3,4]]  # array = [리스트]\n",
    "a=[\n",
    "    [ [1,2,3],\n",
    "     [2,3,4]]\n",
    "]             # 텐서 = [array]"
   ]
  }
 ],
 "metadata": {
  "kernelspec": {
   "display_name": "sesac",
   "language": "python",
   "name": "python3"
  },
  "language_info": {
   "codemirror_mode": {
    "name": "ipython",
    "version": 3
   },
   "file_extension": ".py",
   "mimetype": "text/x-python",
   "name": "python",
   "nbconvert_exporter": "python",
   "pygments_lexer": "ipython3",
   "version": "3.12.0"
  }
 },
 "nbformat": 4,
 "nbformat_minor": 2
}
