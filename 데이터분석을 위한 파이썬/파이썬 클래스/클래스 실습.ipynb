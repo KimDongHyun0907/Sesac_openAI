{
 "cells": [
  {
   "cell_type": "code",
   "execution_count": 7,
   "metadata": {},
   "outputs": [
    {
     "data": {
      "text/plain": [
       "90"
      ]
     },
     "execution_count": 7,
     "metadata": {},
     "output_type": "execute_result"
    }
   ],
   "source": [
    "class cal:\n",
    "    def mySum(*args):\n",
    "        sum=0\n",
    "        for x in args:\n",
    "            sum += x\n",
    "        return sum\n",
    "\n",
    "    def myMat(*args):\n",
    "        sum=1\n",
    "        for x in args:\n",
    "            sum *= x\n",
    "        return sum\n",
    "\n",
    "my = cal\n",
    "my.mySum(1, 2, 3, 3, 5)\n",
    "my.myMat(1, 2, 3, 3, 5)"
   ]
  },
  {
   "cell_type": "code",
   "execution_count": 14,
   "metadata": {},
   "outputs": [
    {
     "name": "stdout",
     "output_type": "stream",
     "text": [
      "-------------\n",
      "3 4\n"
     ]
    },
    {
     "data": {
      "text/plain": [
       "90"
      ]
     },
     "execution_count": 14,
     "metadata": {},
     "output_type": "execute_result"
    }
   ],
   "source": [
    "class cal:\n",
    "    def __init__(self, a, b):\n",
    "        self.aa = a\n",
    "        self.bb = b\n",
    "        print('-------------')\n",
    "        print(self.aa, self.bb)\n",
    "\n",
    "    def mySum(self, *args):\n",
    "        sum=0\n",
    "        for x in args:\n",
    "            sum += x\n",
    "        return sum\n",
    "\n",
    "    def myMat(self, *args):\n",
    "        sum=1\n",
    "        for x in args:\n",
    "            sum *= x\n",
    "        return sum\n",
    "\n",
    "my=cal(3, 4)\n",
    "my.mySum(1, 2, 3, 3, 5)\n",
    "my.myMat(1, 2, 3, 3, 5)"
   ]
  },
  {
   "cell_type": "code",
   "execution_count": 9,
   "metadata": {},
   "outputs": [
    {
     "name": "stdout",
     "output_type": "stream",
     "text": [
      "-----------\n",
      "13\n"
     ]
    }
   ],
   "source": [
    "class cal:\n",
    "    def __init__(self):  # 클래스 인스턴스를 생성하는 순간 자동으로 맨 처음 실행되는 함수\n",
    "        print('-----------')\n",
    "    def test(x=2):\n",
    "        print(x+5)\n",
    "\n",
    "cal()\n",
    "cal.test(8)"
   ]
  },
  {
   "cell_type": "code",
   "execution_count": 10,
   "metadata": {},
   "outputs": [
    {
     "name": "stdout",
     "output_type": "stream",
     "text": [
      "-----------\n",
      "5\n",
      "-----------\n",
      "14\n",
      "13\n"
     ]
    }
   ],
   "source": [
    "class cal:\n",
    "    def __init__(self, v1=3, v2=2):  # 클래스 인스턴스를 생성하는 순간 자동으로 맨 처음 실행되는 함수\n",
    "        print('-----------')\n",
    "        self.x = v1\n",
    "        self.y = v2\n",
    "        print(self.x+self.y)\n",
    "    def test(x=2):\n",
    "        print(x+5)\n",
    "\n",
    "cal()\n",
    "cal(6, 8)\n",
    "cal.test(8)"
   ]
  },
  {
   "cell_type": "code",
   "execution_count": 21,
   "metadata": {},
   "outputs": [
    {
     "name": "stdout",
     "output_type": "stream",
     "text": [
      "-----------\n",
      "bu사용자가 작업합니다.\n",
      "사용자 bu\n",
      "-----------\n",
      "bu사용자가 작업합니다.\n",
      "사용자 bu\n"
     ]
    }
   ],
   "source": [
    "class cal:\n",
    "    def __init__(self, userName = 'bu'):  # 클래스 인스턴스를 생성하는 순간 자동으로 맨 처음 실행되는 함수\n",
    "        print('-----------')\n",
    "        self.name = userName\n",
    "        print(self.name + '사용자가 작업합니다.')\n",
    "\n",
    "    def test(self, x=2):\n",
    "        print('사용자', self.name)\n",
    "\n",
    "aa = cal()\n",
    "aa.test()\n",
    "cal().test()"
   ]
  },
  {
   "cell_type": "code",
   "execution_count": 22,
   "metadata": {},
   "outputs": [
    {
     "name": "stdout",
     "output_type": "stream",
     "text": [
      "-----------\n",
      "bu사용자가 작업합니다.\n",
      "2\n",
      "-----------\n",
      "dddd사용자가 작업합니다.\n",
      "40\n"
     ]
    }
   ],
   "source": [
    "class cal:\n",
    "    def __init__(self, userName = 'bu'):  # 클래스 인스턴스를 생성하는 순간 자동으로 맨 처음 실행되는 함수\n",
    "        print('-----------')\n",
    "        self.name = userName\n",
    "        print(self.name + '사용자가 작업합니다.')\n",
    "\n",
    "    def test(self, x=2):\n",
    "        if self.name != 'bu':\n",
    "            print(x*20)\n",
    "        else:\n",
    "            print(x)\n",
    "\n",
    "aa = cal()\n",
    "aa.test()\n",
    "\n",
    "bb = cal('dddd')\n",
    "bb.test()"
   ]
  },
  {
   "cell_type": "code",
   "execution_count": 26,
   "metadata": {},
   "outputs": [
    {
     "name": "stdout",
     "output_type": "stream",
     "text": [
      "-----------\n",
      "bu사용자가 작업합니다.\n",
      "1\n",
      "2\n",
      "-----------\n",
      "bu사용자가 작업합니다.\n",
      "2\n",
      "2\n"
     ]
    }
   ],
   "source": [
    "class cal:\n",
    "    total = 0\n",
    "    def __init__(self, userName = 'bu'):  # 클래스 인스턴스를 생성하는 순간 자동으로 맨 처음 실행되는 함수\n",
    "        print('-----------')\n",
    "        self.name = userName\n",
    "        print(self.name + '사용자가 작업합니다.')\n",
    "        cal.total += 1\n",
    "        print(cal.total)\n",
    "\n",
    "    def test(self, x=2):\n",
    "        if self.name != 'bu':\n",
    "            print(x*20)\n",
    "        else:\n",
    "            print(x)\n",
    "\n",
    "cal().test()\n",
    "cal().test()\n"
   ]
  }
 ],
 "metadata": {
  "kernelspec": {
   "display_name": "sesac",
   "language": "python",
   "name": "python3"
  },
  "language_info": {
   "codemirror_mode": {
    "name": "ipython",
    "version": 3
   },
   "file_extension": ".py",
   "mimetype": "text/x-python",
   "name": "python",
   "nbconvert_exporter": "python",
   "pygments_lexer": "ipython3",
   "version": "3.12.0"
  }
 },
 "nbformat": 4,
 "nbformat_minor": 2
}
