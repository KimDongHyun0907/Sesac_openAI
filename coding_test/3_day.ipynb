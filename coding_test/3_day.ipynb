{
 "cells": [
  {
   "cell_type": "markdown",
   "metadata": {},
   "source": [
    "중복된 문자 제거  \n",
    "https://school.programmers.co.kr/learn/courses/30/lessons/120888?language=python3\n"
   ]
  },
  {
   "cell_type": "code",
   "execution_count": 2,
   "metadata": {},
   "outputs": [],
   "source": [
    "def solution(my_string):\n",
    "    answer = ''\n",
    "    l = list(my_string)\n",
    "    for i in l:\n",
    "        if not i in answer:\n",
    "            answer += i\n",
    "    print(answer)\n",
    "    return answer"
   ]
  },
  {
   "cell_type": "code",
   "execution_count": 6,
   "metadata": {},
   "outputs": [
    {
     "data": {
      "text/plain": [
       "'We arthwold'"
      ]
     },
     "execution_count": 6,
     "metadata": {},
     "output_type": "execute_result"
    }
   ],
   "source": [
    "def solution(my_string):\n",
    "    answer = ''\n",
    "    string_set = set(my_string)\n",
    "\n",
    "    for i in my_string:\n",
    "        if i in string_set:\n",
    "            answer += i\n",
    "            string_set.discard(i)\n",
    "    \n",
    "    return answer\n"
   ]
  },
  {
   "cell_type": "markdown",
   "metadata": {},
   "source": [
    "https://school.programmers.co.kr/learn/courses/30/lessons/81301  \n",
    "숫자 문자열과 영단어  "
   ]
  },
  {
   "cell_type": "code",
   "execution_count": null,
   "metadata": {},
   "outputs": [],
   "source": [
    "def solution(s):\n",
    "    answer = 0\n",
    "    d = {'zero':0, 'one':1, 'two':2, 'three':3, 'four':4, 'five':5, 'six':6, 'seven':7, 'eight':8, 'nine':9}\n",
    "    \n",
    "    tmp=''\n",
    "    answer_str = ''\n",
    "    for i in list(s):\n",
    "        if i.isdigit():\n",
    "            answer_str += i\n",
    "        else:\n",
    "            tmp += i\n",
    "            if tmp in d:\n",
    "                answer_str += str(d[tmp])\n",
    "                tmp=''\n",
    "    answer = int(answer_str)\n",
    "    return answer"
   ]
  },
  {
   "cell_type": "code",
   "execution_count": 19,
   "metadata": {},
   "outputs": [
    {
     "name": "stdout",
     "output_type": "stream",
     "text": [
      "1478\n"
     ]
    }
   ],
   "source": [
    "def solution(s):\n",
    "    nums = {'zero':'0', 'one':'1', 'two':'2', 'three':'3', 'four':'4', 'five':'5', 'six':'6', 'seven':'7', 'eight':'8', 'nine':'9'}\n",
    "    \n",
    "    for n in nums:\n",
    "        s=s.replace(n,nums[n])\n",
    "    \n",
    "    return int(s)\n",
    "\n",
    "print(solution('one4seveneight'))"
   ]
  },
  {
   "cell_type": "markdown",
   "metadata": {},
   "source": [
    "재귀 함수"
   ]
  },
  {
   "cell_type": "code",
   "execution_count": 9,
   "metadata": {},
   "outputs": [
    {
     "name": "stdout",
     "output_type": "stream",
     "text": [
      "0 시작!!\n",
      "1 시작!!\n",
      "2 시작!!\n",
      "2 끝!!\n",
      "1 끝!!\n",
      "0 끝!!\n"
     ]
    }
   ],
   "source": [
    "def func(depth):\n",
    "    if depth == 3:\n",
    "        return\n",
    "    \n",
    "    print(f'{depth} 시작!!')\n",
    "    func(depth+1)\n",
    "    print(f'{depth} 끝!!')\n",
    "\n",
    "func(0)"
   ]
  },
  {
   "cell_type": "markdown",
   "metadata": {},
   "source": [
    "이진 탐색"
   ]
  },
  {
   "cell_type": "code",
   "execution_count": 13,
   "metadata": {},
   "outputs": [
    {
     "name": "stdout",
     "output_type": "stream",
     "text": [
      "6\n"
     ]
    }
   ],
   "source": [
    "nums = [1, 2, 3, 4, 5, 6, 7, 8, 9]\n",
    "\n",
    "def binary_search(low, high, target):\n",
    "    if low > high:\n",
    "        return '찾지 못함'\n",
    "    \n",
    "    mid = (low+high)//2\n",
    "    if target == nums[mid]:\n",
    "        return mid\n",
    "    elif target < nums[mid]:\n",
    "        return binary_search(low, mid-1, target)\n",
    "    else:\n",
    "        return binary_search(mid+1, high, target)\n",
    "    \n",
    "print(binary_search(0, len(nums)-1, 7))"
   ]
  },
  {
   "cell_type": "markdown",
   "metadata": {},
   "source": [
    "순열 조합"
   ]
  },
  {
   "cell_type": "code",
   "execution_count": 11,
   "metadata": {},
   "outputs": [
    {
     "name": "stdout",
     "output_type": "stream",
     "text": [
      "[('a', 'b'), ('a', 'c'), ('b', 'c')]\n",
      "[('a', 'b', 'c'), ('a', 'c', 'b'), ('b', 'a', 'c'), ('b', 'c', 'a'), ('c', 'a', 'b'), ('c', 'b', 'a')]\n"
     ]
    }
   ],
   "source": [
    "from itertools import combinations, permutations\n",
    "\n",
    "arr = ['a','b','c']\n",
    "combi = list(combinations(arr,2))\n",
    "permu = list(permutations(arr,3))\n",
    "print(combi)\n",
    "print(permu)"
   ]
  },
  {
   "cell_type": "markdown",
   "metadata": {},
   "source": [
    "https://swexpertacademy.com/main/learn/course/subjectDetail.do?courseId=AVuPDN86AAXw5UW6&subjectId=AWOVFCzaqeUDFAWg#  \n",
    "구간합"
   ]
  },
  {
   "cell_type": "code",
   "execution_count": 14,
   "metadata": {},
   "outputs": [
    {
     "name": "stdout",
     "output_type": "stream",
     "text": [
      "#1 21\n",
      "#2 11088\n",
      "#3 1090\n"
     ]
    }
   ],
   "source": [
    "n=int(input())\n",
    "\n",
    "for i in range(1, n+1):\n",
    "    max_val, min_val = -1, 10000000\n",
    "    a,b=map(int,input().split())\n",
    "    arr = list(map(int,input().split()))\n",
    "\n",
    "    for j in range(a-b+1):\n",
    "        sum_val = sum(arr[j:j+b])\n",
    "        max_val = max(sum_val, max_val)\n",
    "        min_val = min(sum_val, min_val)\n",
    "    # print(max_val, min_val)\n",
    "    print(f'#{i} {max_val-min_val}')"
   ]
  },
  {
   "cell_type": "markdown",
   "metadata": {},
   "source": [
    "https://www.acmicpc.net/problem/1302  \n",
    "베스트셀러"
   ]
  },
  {
   "cell_type": "code",
   "execution_count": 15,
   "metadata": {},
   "outputs": [
    {
     "name": "stdout",
     "output_type": "stream",
     "text": [
      "top\n"
     ]
    }
   ],
   "source": [
    "n=int(input())\n",
    "d={}\n",
    "\n",
    "for _ in range(n):\n",
    "    title=input()\n",
    "    d[title]=d.get(title, 0)+1\n",
    "\n",
    "d_items = d.items()\n",
    "d_items = sorted(d_items, key=lambda x:(-x[1],x[0]))\n",
    "print(d_items[0][0])"
   ]
  }
 ],
 "metadata": {
  "kernelspec": {
   "display_name": "sesac",
   "language": "python",
   "name": "python3"
  },
  "language_info": {
   "codemirror_mode": {
    "name": "ipython",
    "version": 3
   },
   "file_extension": ".py",
   "mimetype": "text/x-python",
   "name": "python",
   "nbconvert_exporter": "python",
   "pygments_lexer": "ipython3",
   "version": "3.12.0"
  }
 },
 "nbformat": 4,
 "nbformat_minor": 2
}
