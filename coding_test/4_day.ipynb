{
 "cells": [
  {
   "cell_type": "markdown",
   "metadata": {},
   "source": [
    "버블 정렬"
   ]
  },
  {
   "cell_type": "code",
   "execution_count": 1,
   "metadata": {},
   "outputs": [
    {
     "name": "stdout",
     "output_type": "stream",
     "text": [
      "[1, 2, 3, 4]\n"
     ]
    }
   ],
   "source": [
    "# 버블 정렬 코드\n",
    "arr = [2, 4, 1, 3]  # 정렬하고자 하는 리스트의 길이가 4니까?\n",
    "\n",
    "for i in range(len(arr)-1, 0, -1):  # 총 3회 시행, \n",
    "    for j in range(i): # 각 시행 횟수 안에서, 3 2 1 번씩 비교 할것 \n",
    "        if arr[j] > arr[j+1]: # 내가 오른쪽 녀석보다 크다면?\n",
    "            arr[j], arr[j+1] = arr[j+1], arr[j]  # 자리를 바꾼다!\n",
    "\n",
    "print(arr)"
   ]
  },
  {
   "cell_type": "markdown",
   "metadata": {},
   "source": [
    "2차원 리스트 버블 정렬"
   ]
  },
  {
   "cell_type": "code",
   "execution_count": 2,
   "metadata": {},
   "outputs": [
    {
     "name": "stdout",
     "output_type": "stream",
     "text": [
      "[[6, 1, 6], [4, 3, 12], [2, 3, 6], [4, 4, 16], [5, 4, 20], [3, 4, 12], [1, 12, 12]]\n"
     ]
    }
   ],
   "source": [
    "a = [[4, 4, 16], [6, 1, 6], [4, 3, 12], [1, 12, 12], [5, 4, 20], [2, 3, 6], [3, 4, 12]]\n",
    "\n",
    "def bubble_sort(idx): # 기준점을 잡고 할 수 있습니다.\n",
    "\n",
    "    for i in range(len(a)-1, 0, -1):\n",
    "        for j in range(i):\n",
    "            if a[j][idx] > a[j+1][idx]: # 기준으로 비교하되,\n",
    "                a[j], a[j+1] = a[j+1], a[j] # 그 안의 객체가 바뀌는 것!\n",
    "\n",
    "bubble_sort(1) # 두 번째 인덱스를 기준으로 정렬합니다.\n",
    "\n",
    "# key를 활용해 다음과 같이 정렬해도 됩니다.\n",
    "sorted_a = sorted(a, key=lambda x: x[1])\n",
    "print(sorted_a)"
   ]
  },
  {
   "cell_type": "markdown",
   "metadata": {},
   "source": [
    "카운팅 정렬"
   ]
  },
  {
   "cell_type": "code",
   "execution_count": 3,
   "metadata": {},
   "outputs": [
    {
     "name": "stdout",
     "output_type": "stream",
     "text": [
      "[1, 1, 2, 3, 4, 4, 5, 5, 5]\n"
     ]
    }
   ],
   "source": [
    "# 카운팅 정렬 코드\n",
    "nums = [4, 4, 2, 3, 5, 5, 1, 1, 5]\n",
    "\n",
    "count = [0] * (max(nums) + 1)  # 갯수 세는 리스트\n",
    "sorted_nums = [0] * len(nums)  # 정렬된 리스트의 원형 틀\n",
    "\n",
    "for num in nums:  # 일단 몇개씩 있는지 카운트\n",
    "    count[num] += 1\n",
    "\n",
    "for i in range(1, len(count)):  # 누적합\n",
    "    count[i] = count[i] + count[i-1]\n",
    "\n",
    "for j in range(len(nums)-1, -1, -1):  # 뒤의 자리부터 뽑아서,\n",
    "    sorted_nums[count[nums[j]]-1] = nums[j] # 5가 튀어나오면 5의 위치에 뒤부터 삽입.\n",
    "    count[nums[j]] -= 1  # 위치 인덱스 하나 깎음\n",
    "\n",
    "print(sorted_nums)"
   ]
  },
  {
   "cell_type": "markdown",
   "metadata": {},
   "source": [
    "선택 정렬"
   ]
  },
  {
   "cell_type": "code",
   "execution_count": 4,
   "metadata": {},
   "outputs": [
    {
     "name": "stdout",
     "output_type": "stream",
     "text": [
      "[2, 6, 10, 14, 15, 19]\n"
     ]
    }
   ],
   "source": [
    "nums = [10, 15, 2, 19, 6, 14]\n",
    "\n",
    "for i in range(len(nums)-1):\n",
    "    min_idx = i  # 일단 가장 작다고 초기화해두고,\n",
    "\n",
    "    for j in range(i+1, len(nums)): # 나 다음부터 보면서\n",
    "        if nums[j] < nums[min_idx]:  # 나보다 작은애가 있으면\n",
    "            min_idx = j  # 그 idx를 갱신!\n",
    "\n",
    "    nums[i], nums[min_idx] = nums[min_idx], nums[i]  # 최종적으로 한번 스왑\n",
    "\n",
    "print(nums)"
   ]
  },
  {
   "cell_type": "markdown",
   "metadata": {},
   "source": [
    "https://www.acmicpc.net/problem/11650  \n",
    "좌표 정렬하기"
   ]
  },
  {
   "cell_type": "code",
   "execution_count": 8,
   "metadata": {},
   "outputs": [
    {
     "name": "stdout",
     "output_type": "stream",
     "text": [
      "1 -1\n",
      "1 1\n",
      "2 2\n",
      "3 3\n",
      "3 4\n"
     ]
    }
   ],
   "source": [
    "n=int(input())\n",
    "arr = []\n",
    "for _ in range(n):\n",
    "    x,y=map(int,input().split())\n",
    "    arr.append((x,y))\n",
    "\n",
    "arr=sorted(arr, key=lambda x:(x[0],x[1]))\n",
    "\n",
    "for x,y in arr:\n",
    "    print(x,y)"
   ]
  },
  {
   "cell_type": "markdown",
   "metadata": {},
   "source": [
    "https://www.acmicpc.net/problem/1181  \n",
    "단어 정렬"
   ]
  },
  {
   "cell_type": "code",
   "execution_count": 9,
   "metadata": {},
   "outputs": [
    {
     "name": "stdout",
     "output_type": "stream",
     "text": [
      "i\n",
      "im\n",
      "it\n",
      "no\n",
      "but\n",
      "more\n",
      "wait\n",
      "wont\n",
      "yours\n",
      "cannot\n",
      "hesitate\n"
     ]
    }
   ],
   "source": [
    "n=int(input())\n",
    "words = list(set([input() for _ in range(n)]))\n",
    "\n",
    "words.sort(key=lambda x:(len(x), x))\n",
    "\n",
    "for word in words:\n",
    "    print(word)"
   ]
  },
  {
   "cell_type": "markdown",
   "metadata": {},
   "source": [
    "https://www.acmicpc.net/problem/2947  \n",
    "나무 조각"
   ]
  },
  {
   "cell_type": "code",
   "execution_count": 1,
   "metadata": {},
   "outputs": [
    {
     "name": "stdout",
     "output_type": "stream",
     "text": [
      "2 3 4 1 5\n",
      "2 3 1 4 5\n",
      "2 1 3 4 5\n",
      "1 2 3 4 5\n"
     ]
    }
   ],
   "source": [
    "arr = list(map(int,input().split()))\n",
    "\n",
    "for i in range(len(arr)-1, 0, -1):\n",
    "    for j in range(i):\n",
    "        if arr[j] > arr[j+1]:\n",
    "            arr[j], arr[j+1] = arr[j+1], arr[j]\n",
    "            print(*arr)"
   ]
  },
  {
   "cell_type": "markdown",
   "metadata": {},
   "source": [
    "https://swexpertacademy.com/main/learn/course/lectureProblemViewer.do  \n",
    "구간합"
   ]
  },
  {
   "cell_type": "code",
   "execution_count": 2,
   "metadata": {},
   "outputs": [
    {
     "name": "stdout",
     "output_type": "stream",
     "text": [
      "#1 21\n",
      "#2 11088\n",
      "#3 1090\n"
     ]
    }
   ],
   "source": [
    "T=int(input())\n",
    "for j in range(T):\n",
    "    n,m = map(int, input().split())\n",
    "    arr = list(map(int,input().split()))\n",
    "\n",
    "    arr_sum = [0]\n",
    "    num = 0\n",
    "    for i in arr:\n",
    "        num += i\n",
    "        arr_sum.append(num)\n",
    "    \n",
    "    max_val, min_val = -1, 987654321\n",
    "    for i in range(m, len(arr_sum)):\n",
    "        max_val = max(arr_sum[i]-arr_sum[i-m], max_val)\n",
    "        min_val = min(arr_sum[i]-arr_sum[i-m], min_val)\n",
    "    \n",
    "    print(f'#{j+1} {max_val-min_val}')"
   ]
  },
  {
   "cell_type": "markdown",
   "metadata": {},
   "source": [
    "https://www.acmicpc.net/problem/2559  \n",
    "수열"
   ]
  },
  {
   "cell_type": "code",
   "execution_count": 3,
   "metadata": {},
   "outputs": [
    {
     "name": "stdout",
     "output_type": "stream",
     "text": [
      "21\n"
     ]
    }
   ],
   "source": [
    "import sys\n",
    "\n",
    "n, k = map(int, input().split())\n",
    "arr = list(map(int,input().split()))\n",
    "\n",
    "arr_sum = [0]\n",
    "num=0\n",
    "for i in arr:\n",
    "    num += i\n",
    "    arr_sum.append(num)\n",
    "\n",
    "max_val = -sys.maxsize\n",
    "for i in range(k, len(arr_sum)):\n",
    "    max_val = max(max_val, arr_sum[i]-arr_sum[i-k])\n",
    "\n",
    "print(max_val)"
   ]
  },
  {
   "cell_type": "markdown",
   "metadata": {},
   "source": [
    "https://www.acmicpc.net/problem/2309  \n",
    "일곱 난쟁이"
   ]
  },
  {
   "cell_type": "code",
   "execution_count": 4,
   "metadata": {},
   "outputs": [
    {
     "name": "stdout",
     "output_type": "stream",
     "text": [
      "7\n",
      "8\n",
      "10\n",
      "13\n",
      "19\n",
      "20\n",
      "23\n"
     ]
    }
   ],
   "source": [
    "heights = [int(input()) for _ in range(9)]\n",
    "heights.sort()\n",
    "\n",
    "num = sum(heights) - 100\n",
    "for i in range(len(heights)):\n",
    "    for j in range(i+1, len(heights)):\n",
    "        if heights[i]+heights[j] == num:\n",
    "            x, y = heights[i], heights[j]\n",
    "            break\n",
    "\n",
    "for i in heights:\n",
    "    if i!=x and i!=y:\n",
    "        print(i)"
   ]
  }
 ],
 "metadata": {
  "kernelspec": {
   "display_name": "sesac",
   "language": "python",
   "name": "python3"
  },
  "language_info": {
   "codemirror_mode": {
    "name": "ipython",
    "version": 3
   },
   "file_extension": ".py",
   "mimetype": "text/x-python",
   "name": "python",
   "nbconvert_exporter": "python",
   "pygments_lexer": "ipython3",
   "version": "3.12.0"
  }
 },
 "nbformat": 4,
 "nbformat_minor": 2
}
