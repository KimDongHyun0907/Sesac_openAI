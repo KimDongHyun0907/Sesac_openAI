{
 "cells": [
  {
   "cell_type": "markdown",
   "metadata": {},
   "source": [
    "회문 검사하기  "
   ]
  },
  {
   "cell_type": "code",
   "execution_count": 1,
   "metadata": {},
   "outputs": [
    {
     "name": "stdout",
     "output_type": "stream",
     "text": [
      "회문입니다\n"
     ]
    }
   ],
   "source": [
    "word = input('단어를 입력하세요: ')  # 스위스, level\n",
    "\n",
    "if word == word[::-1]:\n",
    "    print('회문입니다')\n",
    "else:\n",
    "    print('회문이 아닙니다')"
   ]
  },
  {
   "cell_type": "markdown",
   "metadata": {},
   "source": [
    "반복문 사용하기  "
   ]
  },
  {
   "cell_type": "code",
   "execution_count": 2,
   "metadata": {},
   "outputs": [
    {
     "name": "stdout",
     "output_type": "stream",
     "text": [
      "회문입니다\n"
     ]
    }
   ],
   "source": [
    "word = input('단어를 입력하세요: ')\n",
    "\n",
    "reversed_word = ''\n",
    "for i in word:\n",
    "    reversed_word = i + reversed_word\n",
    "\n",
    "if word == reversed_word:\n",
    "    print('회문입니다')\n",
    "else:\n",
    "    print('회문이 아닙니다')"
   ]
  },
  {
   "cell_type": "markdown",
   "metadata": {},
   "source": [
    "two pointer 사용  "
   ]
  },
  {
   "cell_type": "code",
   "execution_count": 3,
   "metadata": {},
   "outputs": [
    {
     "name": "stdout",
     "output_type": "stream",
     "text": [
      "True\n"
     ]
    }
   ],
   "source": [
    "word = input('단어를 입력하세요: ')\n",
    "\n",
    "left = 0 # 시작 인덱스\n",
    "right = len(word)-1 # 마지막 인덱스\n",
    "\n",
    "is_palindrome = True\n",
    "while left < right:  # 왼쪽과 오른쪽이 유지될때까지 돌아라!\n",
    "    if word[left] == word[right]:  # 같은 경우라면 아직은 회문 조건을 만족함\n",
    "        left += 1  # 왼쪽 포인터를 한칸 오른쪽으로 증가시키고\n",
    "        right -= 1  # 오른쪽 포인터를 한 칸 왼쪽으로 감소\n",
    "        continue\n",
    "    else:  # 다른 경우라면 그 즉시 안된다고 표시하고 break\n",
    "        is_palindrome = False\n",
    "        break\n",
    "\n",
    "print(is_palindrome)"
   ]
  },
  {
   "cell_type": "markdown",
   "metadata": {},
   "source": [
    "https://www.acmicpc.net/problem/2003  \n",
    "수들의 합2  "
   ]
  },
  {
   "cell_type": "code",
   "execution_count": 3,
   "metadata": {},
   "outputs": [
    {
     "name": "stdout",
     "output_type": "stream",
     "text": [
      "3\n"
     ]
    }
   ],
   "source": [
    "n,m=map(int,input().split())\n",
    "arr=list(map(int, input().split()))\n",
    "\n",
    "arr_sum = [0]\n",
    "for num in arr:\n",
    "    arr_sum.append(arr_sum[-1]+num)\n",
    "\n",
    "left, right = 0,0\n",
    "cnt=0\n",
    "while right < len(arr_sum):\n",
    "    if arr_sum[right]-arr_sum[left] < m:\n",
    "        right += 1\n",
    "    elif arr_sum[right]-arr_sum[left] == m :\n",
    "        cnt+=1\n",
    "        left+=1\n",
    "    else:\n",
    "        left+=1\n",
    "\n",
    "    if left > right:\n",
    "        left = right\n",
    "    \n",
    "print(cnt)"
   ]
  },
  {
   "cell_type": "markdown",
   "metadata": {},
   "source": [
    "https://www.acmicpc.net/problem/3052  \n",
    "나머지  "
   ]
  },
  {
   "cell_type": "code",
   "execution_count": 2,
   "metadata": {},
   "outputs": [
    {
     "name": "stdout",
     "output_type": "stream",
     "text": [
      "6\n"
     ]
    }
   ],
   "source": [
    "print(len(set([int(input())%42 for _ in range(10)])))"
   ]
  },
  {
   "cell_type": "markdown",
   "metadata": {},
   "source": [
    "https://www.acmicpc.net/problem/1931  \n",
    "회의실 배정"
   ]
  },
  {
   "cell_type": "code",
   "execution_count": 6,
   "metadata": {},
   "outputs": [
    {
     "name": "stdout",
     "output_type": "stream",
     "text": [
      "4\n"
     ]
    }
   ],
   "source": [
    "n=int(input())\n",
    "arr=[list(map(int,input().split())) for _ in range(n)]\n",
    "\n",
    "arr=sorted(arr, key=lambda x:(x[1], x[0]))\n",
    "\n",
    "cnt=1\n",
    "start_num, end_num = arr[0][0], arr[0][1]\n",
    "for start,end in arr[1:]:\n",
    "    if end_num <= start:\n",
    "        cnt+=1\n",
    "        end_num = end\n",
    "\n",
    "print(cnt)"
   ]
  },
  {
   "cell_type": "markdown",
   "metadata": {},
   "source": [
    "https://swexpertacademy.com/main/learn/course/subjectDetail.do?courseId=AVuPDN86AAXw5UW6&subjectId=AWOVGOEKqeoDFAWg#  \n",
    "회문"
   ]
  },
  {
   "cell_type": "code",
   "execution_count": null,
   "metadata": {},
   "outputs": [],
   "source": [
    "def palindrom(n,m,word,cnt):\n",
    "    for i in range(n-m+1):\n",
    "        new_word = word[i:i+m]\n",
    "        if new_word==new_word[::-1]:\n",
    "            print(f'#{cnt} {new_word}')\n",
    "            cnt+=1\n",
    "    return cnt\n",
    "            \n",
    "T=int(input())\n",
    "cnt = 1\n",
    "for _ in range(T):\n",
    "    n,m=map(int,input().split())\n",
    "    arr=[]\n",
    "    for _ in range(n):\n",
    "        word=input()\n",
    "        arr.append(word)\n",
    "        cnt = palindrom(n,m,word,cnt)\n",
    "\n",
    "    for x in range(n):\n",
    "        row_word=''\n",
    "        for y in range(n):\n",
    "            row_word+=arr[y][x]\n",
    "        cnt = palindrom(n,m,row_word,cnt)"
   ]
  },
  {
   "cell_type": "markdown",
   "metadata": {},
   "source": [
    "zip 활용"
   ]
  },
  {
   "cell_type": "code",
   "execution_count": 7,
   "metadata": {},
   "outputs": [
    {
     "data": {
      "text/plain": [
       "{0: 1, 1: 2, 2: 3}"
      ]
     },
     "execution_count": 7,
     "metadata": {},
     "output_type": "execute_result"
    }
   ],
   "source": [
    "dict(zip(range(0,3),[1,2,3]))"
   ]
  },
  {
   "cell_type": "code",
   "execution_count": 8,
   "metadata": {},
   "outputs": [],
   "source": [
    "matrix = [[3, 7, 9],[4, 2, 6],[8, 1, 5]]"
   ]
  },
  {
   "cell_type": "markdown",
   "metadata": {},
   "source": [
    "전치 (transpose)"
   ]
  },
  {
   "cell_type": "code",
   "execution_count": 9,
   "metadata": {},
   "outputs": [
    {
     "name": "stdout",
     "output_type": "stream",
     "text": [
      "[(3, 4, 8), (7, 2, 1), (9, 6, 5)]\n",
      "[[3, 4, 8], [7, 2, 1], [9, 6, 5]]\n"
     ]
    }
   ],
   "source": [
    "# zip을 활용한 전치하기 => 원소가 튜플이 됩니다.\n",
    "zipped_matrix = list(zip(*matrix))\n",
    "print(zipped_matrix) # [(3, 4, 8), (7, 2, 1), (9, 6, 5)]\n",
    "\n",
    "# 전치 완료 후, 원소를 리스트로 활용하고 싶을 때\n",
    "transposed_matrix = list(map(list, zip(*matrix)))\n",
    "print(transposed_matrix)\n",
    "# [[3, 4, 8], [7, 2, 1], [9, 6, 5]]"
   ]
  },
  {
   "cell_type": "markdown",
   "metadata": {},
   "source": [
    "오른쪽으로 90도 회전"
   ]
  },
  {
   "cell_type": "code",
   "execution_count": 11,
   "metadata": {},
   "outputs": [
    {
     "data": {
      "text/plain": [
       "[(8, 4, 3), (1, 2, 7), (5, 6, 9)]"
      ]
     },
     "execution_count": 11,
     "metadata": {},
     "output_type": "execute_result"
    }
   ],
   "source": [
    "rotated_matrix = list(zip(*matrix[::-1]))\n",
    "rotated_matrix"
   ]
  },
  {
   "cell_type": "markdown",
   "metadata": {},
   "source": [
    "왼쪽으로 90도 회전"
   ]
  },
  {
   "cell_type": "code",
   "execution_count": 12,
   "metadata": {},
   "outputs": [
    {
     "data": {
      "text/plain": [
       "[(9, 6, 5), (7, 2, 1), (3, 4, 8)]"
      ]
     },
     "execution_count": 12,
     "metadata": {},
     "output_type": "execute_result"
    }
   ],
   "source": [
    "rotated_matrix = list(zip(*matrix))[::-1]\n",
    "rotated_matrix"
   ]
  }
 ],
 "metadata": {
  "kernelspec": {
   "display_name": "sesac",
   "language": "python",
   "name": "python3"
  },
  "language_info": {
   "codemirror_mode": {
    "name": "ipython",
    "version": 3
   },
   "file_extension": ".py",
   "mimetype": "text/x-python",
   "name": "python",
   "nbconvert_exporter": "python",
   "pygments_lexer": "ipython3",
   "version": "3.12.0"
  }
 },
 "nbformat": 4,
 "nbformat_minor": 2
}
