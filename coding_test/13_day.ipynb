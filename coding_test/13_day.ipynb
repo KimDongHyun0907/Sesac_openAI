{
 "cells": [
  {
   "cell_type": "markdown",
   "metadata": {},
   "source": [
    "subtree  \n",
    "https://swexpertacademy.com/main/learn/course/subjectDetail.do?subjectId=AWOVJ-_6qfsDFAWg&#"
   ]
  },
  {
   "cell_type": "code",
   "execution_count": null,
   "metadata": {},
   "outputs": [],
   "source": [
    "def dfs(n):\n",
    "    global ans\n",
    "\n",
    "    if L[n]!=0:\n",
    "        ans+=1\n",
    "        dfs(L[n])\n",
    "    if R[n]!=0:\n",
    "        ans+=1\n",
    "        dfs(R[n])\n",
    "    \n",
    "\n",
    "t=int(input())\n",
    "for i in range(1, t+1):\n",
    "    e,n = map(int,input().split())\n",
    "    edges = list(map(int,input().split()))\n",
    "    ans = 1\n",
    "\n",
    "    L, R = [0]*(e+2), [0]*(e+2)\n",
    "\n",
    "    for j in range(e):\n",
    "        parent, child = edges[2*j], edges[2*j+1]\n",
    "        if L[parent]==0:\n",
    "            L[parent] = child\n",
    "        else:\n",
    "            R[parent]=child\n",
    "\n",
    "    dfs(n)\n",
    "    print(f'#{i} {ans}')"
   ]
  },
  {
   "cell_type": "markdown",
   "metadata": {},
   "source": [
    "힙 자료구조"
   ]
  },
  {
   "cell_type": "code",
   "execution_count": 2,
   "metadata": {},
   "outputs": [
    {
     "name": "stdout",
     "output_type": "stream",
     "text": [
      "[1, 4, 5, 6, 8, 10, 7]\n"
     ]
    }
   ],
   "source": [
    "import heapq\n",
    "\n",
    "heap = [10, 8,7,6,4,5,1]\n",
    "\n",
    "heapq.heapify(heap)\n",
    "print(heap)"
   ]
  },
  {
   "cell_type": "markdown",
   "metadata": {},
   "source": [
    "카드 정렬하기  \n",
    "https://www.acmicpc.net/problem/1715"
   ]
  },
  {
   "cell_type": "code",
   "execution_count": 3,
   "metadata": {},
   "outputs": [
    {
     "name": "stdout",
     "output_type": "stream",
     "text": [
      "100\n"
     ]
    }
   ],
   "source": [
    "import heapq\n",
    "import sys\n",
    "input = sys.stdin.readline\n",
    "\n",
    "n=int(input())\n",
    "arr = []\n",
    "for _ in range(n):\n",
    "    num = int(input())\n",
    "    heapq.heappush(arr, num)\n",
    "\n",
    "ans=0\n",
    "while len(arr)!=1:\n",
    "    a=heapq.heappop(arr)\n",
    "    b=heapq.heappop(arr)\n",
    "    ans += a+b\n",
    "    heapq.heappush(arr, a+b)\n",
    "    \n",
    "\n",
    "print(ans)"
   ]
  }
 ],
 "metadata": {
  "kernelspec": {
   "display_name": "workspace",
   "language": "python",
   "name": "python3"
  },
  "language_info": {
   "codemirror_mode": {
    "name": "ipython",
    "version": 3
   },
   "file_extension": ".py",
   "mimetype": "text/x-python",
   "name": "python",
   "nbconvert_exporter": "python",
   "pygments_lexer": "ipython3",
   "version": "3.12.3"
  }
 },
 "nbformat": 4,
 "nbformat_minor": 2
}
