{
 "cells": [
  {
   "cell_type": "markdown",
   "metadata": {},
   "source": [
    "https://www.acmicpc.net/problem/2846  \n",
    "오르막길"
   ]
  },
  {
   "cell_type": "code",
   "execution_count": null,
   "metadata": {},
   "outputs": [],
   "source": [
    "import sys\n",
    "input = sys.stdin.readline\n",
    "\n",
    "n=int(input())\n",
    "arr=list(map(int,input().split()))\n",
    "tmp=[arr[0]]\n",
    "ans=[]\n",
    "\n",
    "for i in range(n):\n",
    "    if arr[i]>tmp[-1]:\n",
    "        tmp.append(arr[i])\n",
    "    else:\n",
    "        ans.append(tmp[-1]-tmp[0])\n",
    "        tmp.clear()\n",
    "        tmp.append(arr[i])\n",
    "    \n",
    "    if i==n-1:\n",
    "        ans.append(tmp[-1]-tmp[0])\n",
    "\n",
    "print(max(ans))"
   ]
  },
  {
   "cell_type": "markdown",
   "metadata": {},
   "source": [
    "https://www.acmicpc.net/problem/7785  \n",
    "회사에 있는 사람 "
   ]
  },
  {
   "cell_type": "code",
   "execution_count": null,
   "metadata": {},
   "outputs": [],
   "source": [
    "import sys\n",
    "input = sys.stdin.readline\n",
    "\n",
    "n=int(input())\n",
    "names={}\n",
    "\n",
    "for _ in range(n):\n",
    "    name, status = input().split()\n",
    "    if status=='enter':\n",
    "        names[name] = 'enter'\n",
    "    else:\n",
    "        del names[name]\n",
    "\n",
    "for name in sorted(names)[::-1]:\n",
    "    print(name)"
   ]
  },
  {
   "cell_type": "markdown",
   "metadata": {},
   "source": [
    "https://www.acmicpc.net/problem/8958  \n",
    "OX퀴즈  "
   ]
  },
  {
   "cell_type": "code",
   "execution_count": null,
   "metadata": {},
   "outputs": [],
   "source": [
    "import sys\n",
    "input = sys.stdin.readline\n",
    "\n",
    "n=int(input())\n",
    "tmp = 1\n",
    "for _ in range(n):\n",
    "    ans = 0\n",
    "    result = input()\n",
    "    for i in result:\n",
    "        if i=='O':\n",
    "            ans+=tmp\n",
    "            tmp+=1\n",
    "        else:\n",
    "            tmp=1\n",
    "    \n",
    "    print(ans)"
   ]
  },
  {
   "cell_type": "markdown",
   "metadata": {},
   "source": [
    "https://www.acmicpc.net/problem/11659  \n",
    "구간 합 구하기 4  "
   ]
  },
  {
   "cell_type": "code",
   "execution_count": null,
   "metadata": {},
   "outputs": [],
   "source": [
    "import sys\n",
    "input = sys.stdin.readline\n",
    "\n",
    "n,m = map(int,input().split())\n",
    "arr=list(map(int,input().split()))\n",
    "\n",
    "arr_sum=[0]\n",
    "for num in arr:\n",
    "    arr_sum.append(arr_sum[-1]+num)\n",
    "\n",
    "for _ in range(m):\n",
    "    i,j = map(int,input().split())\n",
    "    print(arr_sum[j]-arr_sum[i-1])"
   ]
  }
 ],
 "metadata": {
  "language_info": {
   "name": "python"
  }
 },
 "nbformat": 4,
 "nbformat_minor": 2
}
