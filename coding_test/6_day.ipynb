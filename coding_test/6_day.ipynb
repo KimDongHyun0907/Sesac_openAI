{
 "cells": [
  {
   "cell_type": "markdown",
   "metadata": {},
   "source": [
    "https://swexpertacademy.com/main/code/problem/problemDetail.do?contestProbId=AV5PobmqAPoDFAUq&&&  \n",
    "달팽이 숫자"
   ]
  },
  {
   "cell_type": "code",
   "execution_count": 1,
   "metadata": {},
   "outputs": [
    {
     "name": "stdout",
     "output_type": "stream",
     "text": [
      "#1\n",
      "1 2 3\n",
      "8 9 4\n",
      "7 6 5\n",
      "#2\n",
      "1 2 3 4\n",
      "12 13 14 5\n",
      "11 16 15 6\n",
      "10 9 8 7\n"
     ]
    }
   ],
   "source": [
    "def in_range(x,y):\n",
    "    return x>=0 and x<n and y>=0 and y<n\n",
    "\n",
    "def can_go(x,y):\n",
    "    return in_range(x,y) and arr[x][y]==0\n",
    "\n",
    "T=int(input())\n",
    "\n",
    "for i in range(1, T+1):\n",
    "    n=int(input())\n",
    "    arr=[[0 for _ in range(n)] for _ in range(n)]\n",
    "\n",
    "    dx, dy = [0, 1, 0, -1], [1, 0, -1, 0] # 우 하 좌 상\n",
    "    x,y = 0,0\n",
    "    arr[x][y]=1\n",
    "    idx=0\n",
    "\n",
    "    for j in range(2, n*n+1):\n",
    "        if not can_go(x+dx[idx], y+dy[idx]):\n",
    "            idx = (idx+1)%4\n",
    "        arr[x+dx[idx]][y+dy[idx]] = arr[x][y]+1\n",
    "        x,y=x+dx[idx], y+dy[idx]\n",
    "\n",
    "    print(f'#{i}')\n",
    "    \n",
    "    for row in arr:\n",
    "        print(*row)\n"
   ]
  },
  {
   "cell_type": "markdown",
   "metadata": {},
   "source": [
    "https://school.programmers.co.kr/learn/courses/15009/lessons/121687  \n",
    "[PCCP 모의고사 #2] 1번 - 실습용 로봇 "
   ]
  },
  {
   "cell_type": "code",
   "execution_count": null,
   "metadata": {},
   "outputs": [],
   "source": [
    "def solution(command):\n",
    "    answer = []\n",
    "    dx, dy = [0,1,0,-1], [1,0,-1,0]\n",
    "    idx=0\n",
    "    x,y=0,0\n",
    "    for i in command:\n",
    "        if i=='R':\n",
    "            idx = (idx+1)%4\n",
    "        elif i=='L':\n",
    "            idx=(idx-1+4)%4\n",
    "        elif i=='G':\n",
    "            x,y=x+dx[idx], y+dy[idx]\n",
    "        else:\n",
    "            x,y=x-dx[idx], y-dy[idx]\n",
    "    \n",
    "    answer.append(x)\n",
    "    answer.append(y)\n",
    "    return answer"
   ]
  },
  {
   "cell_type": "markdown",
   "metadata": {},
   "source": [
    "https://swexpertacademy.com/main/code/userProblem/userProblemDetail.do?contestProbId=AYYlGU56XOkDFARc&  \n",
    "16268. 풍선팡2  "
   ]
  },
  {
   "cell_type": "code",
   "execution_count": null,
   "metadata": {},
   "outputs": [],
   "source": [
    "def in_range(x,y):\n",
    "    return x>=0 and x<n and y>=0 and y<m\n",
    "\n",
    "T=int(input())\n",
    "dxs, dys = [0,1,0,-1], [1,0,-1,0] # 우 하 좌 상\n",
    "\n",
    "for i in range(1, T+1):\n",
    "    n,m=map(int,input().split())\n",
    "\n",
    "    arr=[list(map(int,input().split())) for _ in range(n)]\n",
    "    max_val = -1\n",
    "    \n",
    "    for j in range(n):\n",
    "        for k in range(m):\n",
    "            ans=arr[j][k]\n",
    "            for dx, dy in zip(dxs, dys):\n",
    "                if in_range(j+dx, k+dy):\n",
    "                    ans+=arr[j+dx][k+dy]\n",
    "            max_val = max(max_val, ans)\n",
    "    \n",
    "    print(f'#{i} {max_val}')"
   ]
  },
  {
   "cell_type": "markdown",
   "metadata": {},
   "source": [
    "https://swexpertacademy.com/main/code/problem/problemDetail.do?contestProbId=AV5PzOCKAigDFAUq  \n",
    "2001. 파리 퇴치 "
   ]
  },
  {
   "cell_type": "code",
   "execution_count": null,
   "metadata": {},
   "outputs": [],
   "source": [
    "T=int(input())\n",
    "\n",
    "for i in range(1, T+1):\n",
    "    n,m=map(int,input().split())\n",
    "    arr=[list(map(int,input().split())) for _ in range(n)]\n",
    "    arr2 = list(map(list, zip(*[[sum(arr[j][k:k+m]) for k in range(n-m+1)] for j in range(n)])))\n",
    "    \n",
    "    max_val = -1\n",
    "    for data in arr2:\n",
    "        for j in range(len(data)-m+1):\n",
    "            max_val = max(sum(data[j:j+m]), max_val)\n",
    "\n",
    "    print(f'#{i} {max_val}')\n"
   ]
  }
 ],
 "metadata": {
  "kernelspec": {
   "display_name": "sesac",
   "language": "python",
   "name": "python3"
  },
  "language_info": {
   "codemirror_mode": {
    "name": "ipython",
    "version": 3
   },
   "file_extension": ".py",
   "mimetype": "text/x-python",
   "name": "python",
   "nbconvert_exporter": "python",
   "pygments_lexer": "ipython3",
   "version": "3.12.0"
  }
 },
 "nbformat": 4,
 "nbformat_minor": 2
}
