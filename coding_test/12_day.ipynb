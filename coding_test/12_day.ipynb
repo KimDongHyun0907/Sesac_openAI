{
 "cells": [
  {
   "cell_type": "markdown",
   "metadata": {},
   "source": [
    "외판원순회2  \n",
    "https://www.acmicpc.net/problem/10971"
   ]
  },
  {
   "cell_type": "code",
   "execution_count": null,
   "metadata": {},
   "outputs": [],
   "source": [
    "import sys\n",
    "input = sys.stdin.readline\n",
    "\n",
    "n=int(input())\n",
    "arr = [list(map(int,input().split())) for _ in range(n)]\n",
    "min_ans = 987654321\n",
    "visited = [0]*n\n",
    "\n",
    "def dfs(depth, cost, cur):\n",
    "    global min_ans\n",
    "    if depth==n:\n",
    "        if arr[cur][0]:\n",
    "            cost += arr[cur][0]\n",
    "            min_ans = min(min_ans, cost)\n",
    "            return\n",
    "        else:\n",
    "            return\n",
    "    \n",
    "    if cost>=min_ans:\n",
    "        return\n",
    "    \n",
    "    for i in range(n):\n",
    "        if visited[i] or arr[cur][i]==0:\n",
    "            continue\n",
    "\n",
    "        visited[i]=1\n",
    "        dfs(depth+1, cost+arr[cur][i],i)\n",
    "        visited[i]=0\n",
    "\n",
    "visited[0] = 1\n",
    "dfs(1,0,0)\n",
    "print(min_ans)"
   ]
  },
  {
   "cell_type": "markdown",
   "metadata": {},
   "source": [
    "피로도  \n",
    "https://school.programmers.co.kr/learn/courses/30/lessons/87946?language=python3"
   ]
  },
  {
   "cell_type": "code",
   "execution_count": null,
   "metadata": {},
   "outputs": [],
   "source": [
    "from itertools import permutations\n",
    "\n",
    "def solution(k, dungeons):\n",
    "    n=len(dungeons)\n",
    "    ans=-1\n",
    "    for each_case in permutations(dungeons, n):\n",
    "        energy = k\n",
    "        cnt = 0\n",
    "        \n",
    "        for target in each_case:\n",
    "            if energy >= target[0]:\n",
    "                cnt += 1\n",
    "                energy -= target[1]\n",
    "        ans = max(ans, cnt)\n",
    "        \n",
    "    return ans"
   ]
  }
 ],
 "metadata": {
  "language_info": {
   "name": "python"
  }
 },
 "nbformat": 4,
 "nbformat_minor": 2
}
