{
 "cells": [
  {
   "cell_type": "markdown",
   "metadata": {},
   "source": [
    "외판원순회2  \n",
    "https://www.acmicpc.net/problem/10971"
   ]
  },
  {
   "cell_type": "code",
   "execution_count": null,
   "metadata": {},
   "outputs": [],
   "source": [
    "import sys\n",
    "input = sys.stdin.readline\n",
    "\n",
    "n=int(input())\n",
    "arr = [list(map(int,input().split())) for _ in range(n)]\n",
    "min_ans = 987654321\n",
    "visited = [0]*n\n",
    "\n",
    "def dfs(depth, cost, cur):\n",
    "    global min_ans\n",
    "    if depth==n:\n",
    "        if arr[cur][0]:\n",
    "            cost += arr[cur][0]\n",
    "            min_ans = min(min_ans, cost)\n",
    "            return\n",
    "        else:\n",
    "            return\n",
    "    \n",
    "    if cost>=min_ans:\n",
    "        return\n",
    "    \n",
    "    for i in range(n):\n",
    "        if visited[i] or arr[cur][i]==0:\n",
    "            continue\n",
    "\n",
    "        visited[i]=1\n",
    "        dfs(depth+1, cost+arr[cur][i],i)\n",
    "        visited[i]=0\n",
    "\n",
    "visited[0] = 1\n",
    "dfs(1,0,0)\n",
    "print(min_ans)"
   ]
  }
 ],
 "metadata": {
  "language_info": {
   "name": "python"
  }
 },
 "nbformat": 4,
 "nbformat_minor": 2
}
