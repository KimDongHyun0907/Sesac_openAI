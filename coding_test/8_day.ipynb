{
 "cells": [
  {
   "cell_type": "markdown",
   "metadata": {},
   "source": [
    "BFS 인접행렬"
   ]
  },
  {
   "cell_type": "code",
   "execution_count": null,
   "metadata": {},
   "outputs": [],
   "source": [
    "from collections import deque\n",
    "\n",
    "v=int(input())\n",
    "e=int(input())\n",
    "\n",
    "adj_matrix = [[0 for _ in range(v+1)] for _ in range(v+1)]\n",
    "for _ in range(e):\n",
    "    x,y=map(int,input().split())\n",
    "    adj_matrix[x][y], adj_matrix[y][x]=1, 1\n",
    "\n",
    "queue = deque([1])\n",
    "visited = set()\n",
    "\n",
    "while queue:\n",
    "    curr = queue.popleft()\n",
    "    visited.add(curr)\n",
    "\n",
    "    for dest in range(v+1):\n",
    "        if adj_matrix[curr][dest] and dest not in visited:\n",
    "            queue.append(dest)\n",
    "\n",
    "print(*visited)"
   ]
  },
  {
   "cell_type": "markdown",
   "metadata": {},
   "source": [
    "DFS - 인접행렬, 인접리스트"
   ]
  },
  {
   "cell_type": "code",
   "execution_count": null,
   "metadata": {},
   "outputs": [],
   "source": [
    "v=int(input())\n",
    "e=int(input())\n",
    "\n",
    "adj_matrix = [[0 for _ in range(v+1)] for _ in range(v+1)]\n",
    "adj_list = [[] for _ in range(v+1)]\n",
    "\n",
    "for _ in range(e):\n",
    "    x,y = map(int, input().split())\n",
    "    adj_matrix[x][y], adj_matrix[y][x] = 1, 1\n",
    "\n",
    "    adj_list[x].append(y)\n",
    "    adj_list[y].append(x)\n",
    "\n",
    "stack = [1]\n",
    "visited=set()\n",
    "\n",
    "# 인접행렬\n",
    "while stack:\n",
    "    curr = stack.pop()\n",
    "    visited.add(curr)\n",
    "\n",
    "    for dest in range(v+1):\n",
    "        if adj_matrix[curr][dest] and dest not in visited:\n",
    "            stack.append(dest)\n",
    "\n",
    "# 인접리스트\n",
    "while stack:\n",
    "    curr=stack.pop()\n",
    "    visited.add(curr)\n",
    "\n",
    "    for dest in adj_list[curr]:\n",
    "        if dest not in visited:\n",
    "            stack.append(dest)"
   ]
  },
  {
   "cell_type": "markdown",
   "metadata": {},
   "source": [
    "DFS 재귀함수"
   ]
  },
  {
   "cell_type": "code",
   "execution_count": null,
   "metadata": {},
   "outputs": [],
   "source": [
    "import sys\n",
    "input=sys.stdin.readline\n",
    "\n",
    "def dfs(x):\n",
    "    visited.add(x)\n",
    "    for dest in adj_list[x]:\n",
    "        if dest not in visited:\n",
    "            dfs(dest)\n",
    "\n",
    "v=int(input())\n",
    "e=int(input())\n",
    "\n",
    "adj_list = [[] for _ in range(v+1)]\n",
    "\n",
    "for _ in range(e):\n",
    "    x,y=map(int,input().split())\n",
    "    adj_list[y].append(x)\n",
    "    adj_list[x].append(y)\n",
    "\n",
    "visited = set()\n",
    "\n",
    "dfs(1)\n",
    "print(*visited)"
   ]
  },
  {
   "cell_type": "markdown",
   "metadata": {},
   "source": [
    "https://swexpertacademy.com/main/learn/course/lectureProblemViewer.do  \n",
    "미로"
   ]
  },
  {
   "cell_type": "code",
   "execution_count": null,
   "metadata": {},
   "outputs": [],
   "source": [
    "def in_range(x,y):\n",
    "    return x>=0 and x<n and y>=0 and y<n\n",
    "\n",
    "T=int(input())\n",
    "\n",
    "for i in range(1, T+1):\n",
    "    n=int(input())\n",
    "    arr = [list(map(int, list(input()))) for _ in range(n)]\n",
    "\n",
    "    for j in range(n):\n",
    "        for k in range(n):\n",
    "            if arr[j][k]==2:\n",
    "                start=(j,k)\n",
    "            elif arr[j][k]==3:\n",
    "                end=(j,k)\n",
    "\n",
    "    stack = [start]\n",
    "    visited = set()\n",
    "\n",
    "    dxs, dys = [0, 1, 0, -1], [1, 0, -1, 0]\n",
    "\n",
    "    while stack:\n",
    "        curr_x, curr_y = stack.pop()\n",
    "        visited.add((curr_x, curr_y))\n",
    "\n",
    "        for dx, dy in zip(dxs, dys):\n",
    "            if in_range(curr_x+dx, curr_y+dy) and arr[curr_x+dx][curr_y+dy]==0 and (curr_x+dx, curr_y+dy) not in visited:\n",
    "                stack.append((curr_x+dx, curr_y+dy))\n",
    "            \n",
    "            elif end == (curr_x+dx, curr_y+dy):\n",
    "                print(f'#{i} 1')\n",
    "                visited.add((curr_x+dx, curr_y+dy))\n",
    "                break\n",
    "            \n",
    "    if end not in visited:\n",
    "        print(f'#{i} 0')"
   ]
  },
  {
   "cell_type": "markdown",
   "metadata": {},
   "source": [
    "https://swexpertacademy.com/main/learn/course/lectureProblemViewer.do  \n",
    "미로의 거리  "
   ]
  },
  {
   "cell_type": "code",
   "execution_count": null,
   "metadata": {},
   "outputs": [],
   "source": [
    "from collections import deque\n",
    "\n",
    "def in_range(x,y):\n",
    "    return x>=0 and x<n and y>=0 and y<n\n",
    "\n",
    "T=int(input())\n",
    "\n",
    "for i in range(1, T+1):\n",
    "    n=int(input())\n",
    "    arr = [list(map(int, list(input()))) for _ in range(n)]\n",
    "\n",
    "    for j in range(n):\n",
    "        for k in range(n):\n",
    "            if arr[j][k]==2:\n",
    "                start=(j,k)\n",
    "            elif arr[j][k]==3:\n",
    "                end=(j,k)\n",
    "\n",
    "    queue = deque([(start, 0)])\n",
    "    visited = set()\n",
    "\n",
    "    dxs, dys = [0, 1, 0, -1], [1, 0, -1, 0]\n",
    "    \n",
    "\n",
    "    while queue:\n",
    "        (curr_x, curr_y), cnt = queue.popleft()\n",
    "        visited.add((curr_x, curr_y))\n",
    "\n",
    "        for dx, dy in zip(dxs, dys):\n",
    "            if in_range(curr_x+dx, curr_y+dy) and arr[curr_x+dx][curr_y+dy]==0 and (curr_x+dx, curr_y+dy) not in visited:\n",
    "                queue.append(((curr_x+dx, curr_y+dy), cnt+1))\n",
    "                visited.add((curr_x+dx, curr_y+dy))\n",
    "            \n",
    "            elif (curr_x+dx, curr_y+dy) == end:\n",
    "                print(f'#{i} {cnt}')\n",
    "                visited.add((curr_x+dx, curr_y+dy))\n",
    "\n",
    "\n",
    "      \n",
    "    if end not in visited:\n",
    "        print(f'#{i} 0')"
   ]
  }
 ],
 "metadata": {
  "language_info": {
   "name": "python"
  }
 },
 "nbformat": 4,
 "nbformat_minor": 2
}
