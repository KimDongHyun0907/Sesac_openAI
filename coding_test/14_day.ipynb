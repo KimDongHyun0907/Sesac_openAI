{
 "cells": [
  {
   "cell_type": "markdown",
   "metadata": {},
   "source": [
    "최대힙  \n",
    "https://www.acmicpc.net/problem/11279"
   ]
  },
  {
   "cell_type": "code",
   "execution_count": null,
   "metadata": {},
   "outputs": [],
   "source": [
    "import sys\n",
    "import heapq\n",
    "input = sys.stdin.readline\n",
    "\n",
    "n=int(input())\n",
    "heap = []\n",
    "for _ in range(n):\n",
    "    m=int(input())\n",
    "    if m==0:\n",
    "        if len(heap)==0:\n",
    "            print(0)\n",
    "        else:\n",
    "            _, ans = heapq.heappop(heap)\n",
    "            print(ans)\n",
    "    else:\n",
    "        heapq.heappush(heap, (-m,m))\n"
   ]
  },
  {
   "cell_type": "markdown",
   "metadata": {},
   "source": [
    "n과 m  \n",
    "https://www.acmicpc.net/problem/15654"
   ]
  },
  {
   "cell_type": "code",
   "execution_count": null,
   "metadata": {},
   "outputs": [],
   "source": [
    "import sys\n",
    "from itertools import permutations\n",
    "input = sys.stdin.readline\n",
    "\n",
    "n,m=map(int,input().split())\n",
    "arr=list(map(int,input().split()))\n",
    "\n",
    "for nums in sorted(list(permutations(arr, m))):\n",
    "    print(*nums)"
   ]
  },
  {
   "cell_type": "markdown",
   "metadata": {},
   "source": [
    "집합의 표현  \n",
    "https://www.acmicpc.net/problem/1717"
   ]
  },
  {
   "cell_type": "code",
   "execution_count": null,
   "metadata": {},
   "outputs": [],
   "source": [
    "import sys\n",
    "sys.setrecursionlimit(10**7)\n",
    "input=sys.stdin.readline\n",
    "\n",
    "def find(x):\n",
    "    if p[x]!=x:\n",
    "        p[x] = find(p[x])\n",
    "    \n",
    "    return p[x]\n",
    "    \n",
    "def union(x,y):\n",
    "    p[find(x)]=find(y)\n",
    "\n",
    "n,m = map(int,input().split())\n",
    "p=[i for i in range(n+1)]\n",
    "\n",
    "for _ in range(m):\n",
    "    a,b,c = map(int,input().split())\n",
    "\n",
    "    if a:\n",
    "        if find(b)==find(c):\n",
    "            print('YES')\n",
    "        else:\n",
    "            print('NO')\n",
    "    else:\n",
    "        union(b,c)"
   ]
  },
  {
   "cell_type": "markdown",
   "metadata": {},
   "source": [
    "최소 스패닝 트리 (크루스칼)  \n",
    "https://www.acmicpc.net/problem/1197"
   ]
  },
  {
   "cell_type": "code",
   "execution_count": null,
   "metadata": {},
   "outputs": [],
   "source": [
    "import sys\n",
    "input = sys.stdin.readline\n",
    "\n",
    "def find(x):\n",
    "    if p[x]!=x:\n",
    "        p[x] = find(p[x])\n",
    "    return p[x]\n",
    "\n",
    "def union(x,y):\n",
    "    p[find(x)] = find(y)\n",
    "\n",
    "v,e = map(int,input().split())\n",
    "edges = [list(map(int,input().split())) for _ in range(e)]\n",
    "edges.sort(key=lambda x:x[2])\n",
    "\n",
    "p=[i for i in range(v+1)]\n",
    "\n",
    "ans=0\n",
    "cnt=0\n",
    "\n",
    "for x,y,w in edges:\n",
    "    if find(x)!=find(y):\n",
    "        union(find(x), find(y))\n",
    "        ans += w\n",
    "        cnt += 1\n",
    "\n",
    "        if cnt == v-1:\n",
    "            break\n",
    "\n",
    "print(ans)"
   ]
  },
  {
   "cell_type": "markdown",
   "metadata": {},
   "source": [
    "최소 스패닝 트리 (프림)"
   ]
  },
  {
   "cell_type": "code",
   "execution_count": null,
   "metadata": {},
   "outputs": [],
   "source": [
    "import sys\n",
    "from heapq import heappush, heappop\n",
    "input = sys.stdin.readline\n",
    "\n",
    "def prim():\n",
    "    dist[0], dist[1] = 0, 0\n",
    "    heappush(heap, (0,1))\n",
    "\n",
    "    while heap:\n",
    "        weight, curr = heappop(heap)\n",
    "\n",
    "        if visited[curr]:\n",
    "            continue\n",
    "\n",
    "        dist[curr] = weight\n",
    "        visited[curr] = 1\n",
    "\n",
    "        for next_weight, next in arr[curr]:\n",
    "            if not visited[next]:\n",
    "                heappush(heap, (next_weight, next))\n",
    "\n",
    "v,e = map(int,input().split())\n",
    "arr = [[] for _ in range(v+1)]\n",
    "for _ in range(e):\n",
    "    a,b,c = map(int,input().split())\n",
    "    arr[a].append((c,b))\n",
    "    arr[b].append((c,a))\n",
    "\n",
    "dist = [float('inf') for _ in range(v+1)]\n",
    "visited = [0 for _ in range(v+1)]\n",
    "heap=[]\n",
    "\n",
    "prim()\n",
    "print(sum(dist))"
   ]
  }
 ],
 "metadata": {
  "language_info": {
   "name": "python"
  }
 },
 "nbformat": 4,
 "nbformat_minor": 2
}
