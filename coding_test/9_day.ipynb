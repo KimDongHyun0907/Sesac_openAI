{
 "cells": [
  {
   "cell_type": "markdown",
   "metadata": {},
   "source": [
    "https://swexpertacademy.com/main/learn/course/subjectDetail.do?courseId=AVuPDN86AAXw5UW6&subjectId=AWOVF-WqqecDFAWg#  \n",
    "이진탐색  "
   ]
  },
  {
   "cell_type": "code",
   "execution_count": null,
   "metadata": {},
   "outputs": [],
   "source": [
    "def binary_search(t, c):\n",
    "    start, end = 1, p\n",
    "    mid = (start+end)//2\n",
    "    while mid !=t:\n",
    "        if mid < t:\n",
    "            start = mid\n",
    "        else:\n",
    "            end = mid\n",
    "        \n",
    "        mid = (start+end)//2\n",
    "        c+=1\n",
    "\n",
    "    return c\n",
    "\n",
    "T=int(input())\n",
    "for i in range(1, T+1):\n",
    "    p, a, b = map(int,input().split())\n",
    "    ca, cb = 0,0\n",
    "    ca = binary_search(a, ca)\n",
    "    cb = binary_search(b, cb)\n",
    "        \n",
    "    if ca>cb:\n",
    "        print(f'#{i} B')\n",
    "    elif ca<cb:\n",
    "        print(f'#{i} A')\n",
    "    else:\n",
    "        print(f'#{i} 0')"
   ]
  },
  {
   "cell_type": "markdown",
   "metadata": {},
   "source": [
    "https://www.acmicpc.net/problem/8892  \n",
    "팰린드롬"
   ]
  },
  {
   "cell_type": "code",
   "execution_count": null,
   "metadata": {},
   "outputs": [],
   "source": [
    "import sys\n",
    "input = sys.stdin.readline\n",
    "\n",
    "n=int(input())\n",
    "\n",
    "for _ in range(n):\n",
    "    k=int(input())\n",
    "    arr=[input().strip() for _ in range(k)]\n",
    "    ispalindrom=False\n",
    "\n",
    "    for i in range(k):\n",
    "        for j in range(k):\n",
    "            if i!=j:\n",
    "                new_word = arr[i]+arr[j]\n",
    "                if new_word==new_word[::-1]:\n",
    "                    ispalindrom=True\n",
    "                    print(new_word)\n",
    "                    break\n",
    "    \n",
    "        if ispalindrom:\n",
    "            break\n",
    "    \n",
    "    if not ispalindrom:\n",
    "        print(0)\n"
   ]
  },
  {
   "cell_type": "markdown",
   "metadata": {},
   "source": [
    "https://school.programmers.co.kr/learn/courses/30/lessons/1844?language=python3  \n",
    "게임 맵 최단거리  "
   ]
  },
  {
   "cell_type": "code",
   "execution_count": null,
   "metadata": {},
   "outputs": [],
   "source": [
    "from collections import deque\n",
    "\n",
    "def solution(maps):\n",
    "    def in_range(x,y):\n",
    "        return x>=0 and x<len(maps) and y>=0 and y<len(maps[0])\n",
    "    answer = 0\n",
    "    queue = deque([(0,0,0)])\n",
    "    visited=set()\n",
    "    \n",
    "    dxs, dys = [0,1,0,-1], [1,0,-1,0]\n",
    "    \n",
    "    while queue:\n",
    "        curr_x, curr_y, cnt = queue.popleft()\n",
    "        visited.add((curr_x, curr_y))\n",
    "        \n",
    "        for x,y in zip(dxs, dys):\n",
    "            if in_range(curr_x+x, curr_y+y) and maps[curr_x+x][curr_y+y]==1 and (curr_x+x, curr_y+y) not in visited:\n",
    "                queue.append((curr_x+x, curr_y+y, cnt+1))\n",
    "                visited.add((curr_x+x, curr_y+y))\n",
    "\n",
    "                if curr_x+x == len(maps)-1 and curr_y+y == len(maps[0])-1:\n",
    "                    _,_,cnt = queue.pop()\n",
    "                    answer=cnt+1\n",
    "                    break\n",
    "    if answer==0:\n",
    "        return -1\n",
    "    return answer"
   ]
  },
  {
   "cell_type": "markdown",
   "metadata": {},
   "source": [
    "https://www.acmicpc.net/problem/1012  \n",
    "유기농 배추"
   ]
  },
  {
   "cell_type": "code",
   "execution_count": 4,
   "metadata": {},
   "outputs": [
    {
     "name": "stdout",
     "output_type": "stream",
     "text": [
      "immmm\n"
     ]
    }
   ],
   "source": [
    "T=\"immmm\"\n",
    "def fun():\n",
    "    T= \"dmmmm\"\n",
    "    return 0\n",
    "\n",
    "fun()\n",
    "print(T)"
   ]
  },
  {
   "cell_type": "code",
   "execution_count": null,
   "metadata": {},
   "outputs": [],
   "source": [
    "import sys\n",
    "input = sys.stdin.readline\n",
    "\n",
    "def in_range(x,y):\n",
    "    return x>=0 and x<n and y>=0 and y<m\n",
    "\n",
    "T=int(input())\n",
    "\n",
    "for _ in range(T):\n",
    "    n,m,k = map(int,input().split())\n",
    "    cnt=0\n",
    "\n",
    "    arr = [[0 for _ in range(m)] for _ in range(n)]\n",
    "    for _ in range(k):\n",
    "        x,y = map(int,input().split())\n",
    "        arr[x][y] = 1\n",
    "\n",
    "    visited2 = set()\n",
    "    for i in range(n):\n",
    "        for j in range(m):\n",
    "            if arr[i][j] == 1 and (i,j) not in visited2:\n",
    "                stack = [(i,j)]\n",
    "                visited = set()\n",
    "\n",
    "                dxs, dys = [0, 1, 0, -1], [1,0,-1,0]\n",
    "\n",
    "                while stack:\n",
    "                    curr_x, curr_y = stack.pop()\n",
    "                    visited.add((curr_x, curr_y))\n",
    "\n",
    "                    for x,y in zip(dxs, dys):\n",
    "                        next_x, next_y = curr_x+x, curr_y+y\n",
    "                        if in_range(next_x, next_y) and arr[next_x][next_y]==1 and (next_x, next_y) not in visited:\n",
    "                            stack.append((next_x, next_y))\n",
    "                            visited.add((next_x, next_y))\n",
    "\n",
    "                for data in list(visited):\n",
    "                    visited2.add(data)\n",
    "                cnt+=1\n",
    "    print(cnt)"
   ]
  },
  {
   "cell_type": "markdown",
   "metadata": {},
   "source": [
    "https://swexpertacademy.com/main/code/problem/problemDetail.do?contestProbId=AV5Psz16AYEDFAUq&&  \n",
    "스도쿠 검증"
   ]
  },
  {
   "cell_type": "code",
   "execution_count": null,
   "metadata": {},
   "outputs": [],
   "source": [
    "T=int(input())\n",
    "for i in range(1, T+1):\n",
    "    arr=[list(map(int,input().split())) for _ in range(9)]\n",
    "    isbool = True\n",
    "\n",
    "    # 세로\n",
    "    for data in arr:\n",
    "        tmp=[0 for _ in range(10)]\n",
    "        for j in data:\n",
    "            tmp[j]=1\n",
    "        if tmp[1:].count(0)!=0:\n",
    "            isbool = False\n",
    "            break\n",
    "    \n",
    "    # 가로\n",
    "    arr2 = list(map(list, zip(*arr)))\n",
    "    for data in arr2:\n",
    "        tmp=[0 for _ in range(10)]\n",
    "        for j in data:\n",
    "            tmp[j]=1\n",
    "        if tmp[1:].count(0)!=0:\n",
    "            isbool = False\n",
    "            break\n",
    "\n",
    "    # 3*3\n",
    "    arr3=[[] for _ in range(9)]\n",
    "    for j in range(9):\n",
    "        for k in range(9):\n",
    "            arr3[(j//3)*3+(k//3)].append(arr[j][k])\n",
    "    \n",
    "    for data in arr3:\n",
    "        tmp=[0 for _ in range(10)]\n",
    "        for j in data:\n",
    "            tmp[j]=1\n",
    "        if tmp[1:].count(0)!=0:\n",
    "            isbool = False\n",
    "            break\n",
    "    \n",
    "    if isbool:\n",
    "        print(f'#{i} 1')\n",
    "    else:\n",
    "        print(f'#{i} 0')"
   ]
  }
 ],
 "metadata": {
  "kernelspec": {
   "display_name": "sesac",
   "language": "python",
   "name": "python3"
  },
  "language_info": {
   "codemirror_mode": {
    "name": "ipython",
    "version": 3
   },
   "file_extension": ".py",
   "mimetype": "text/x-python",
   "name": "python",
   "nbconvert_exporter": "python",
   "pygments_lexer": "ipython3",
   "version": "3.12.0"
  }
 },
 "nbformat": 4,
 "nbformat_minor": 2
}
