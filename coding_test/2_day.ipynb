{
 "cells": [
  {
   "cell_type": "code",
   "execution_count": 23,
   "metadata": {},
   "outputs": [
    {
     "name": "stdout",
     "output_type": "stream",
     "text": [
      "{3: 5, 1: 2, 2: 3, 77: 1}\n"
     ]
    }
   ],
   "source": [
    "gems = [3,3,1,2,3,2,2,3,3,1,77]\n",
    "grades = {}\n",
    "\n",
    "for i in gems:\n",
    "    grades[i] = grades.get(i,0)+1\n",
    "\n",
    "print(grades)"
   ]
  },
  {
   "cell_type": "markdown",
   "metadata": {},
   "source": [
    "https://www.acmicpc.net/problem/1271  \n",
    "엄청난 부자"
   ]
  },
  {
   "cell_type": "code",
   "execution_count": 24,
   "metadata": {},
   "outputs": [
    {
     "name": "stdout",
     "output_type": "stream",
     "text": [
      "10\n",
      "0\n"
     ]
    }
   ],
   "source": [
    "a,b = map(int, input().split())\n",
    "print(a//b)\n",
    "print(a%b)"
   ]
  },
  {
   "cell_type": "code",
   "execution_count": 31,
   "metadata": {},
   "outputs": [
    {
     "name": "stdout",
     "output_type": "stream",
     "text": [
      "8 1\n"
     ]
    }
   ],
   "source": [
    "nums = [7,1,2,4,6,8,3]\n",
    "\n",
    "# 최댓값\n",
    "max_num = -1\n",
    "min_num = 10\n",
    "for num in nums:\n",
    "    max_num = max(max_num, num)\n",
    "    min_num = min(min_num, num)\n",
    "\n",
    "print(max_num, min_num)"
   ]
  },
  {
   "cell_type": "markdown",
   "metadata": {},
   "source": [
    "https://swexpertacademy.com/main/learn/course/lectureProblemViewer.do  \n",
    "min max  "
   ]
  },
  {
   "cell_type": "code",
   "execution_count": 33,
   "metadata": {},
   "outputs": [
    {
     "name": "stdout",
     "output_type": "stream",
     "text": [
      "#1 630739\n",
      "#2 740510\n",
      "#3 838110\n"
     ]
    }
   ],
   "source": [
    "n=int(input())\n",
    "for i in range(1, n+1):\n",
    "    m = int(input())\n",
    "    arr = list(map(int, input().split()))\n",
    "    print(f'#{i} {max(arr)-min(arr)}')"
   ]
  },
  {
   "cell_type": "markdown",
   "metadata": {},
   "source": [
    "https://www.acmicpc.net/problem/2711  \n",
    "오타맨 고창영"
   ]
  },
  {
   "cell_type": "code",
   "execution_count": 34,
   "metadata": {},
   "outputs": [
    {
     "name": "stdout",
     "output_type": "stream",
     "text": [
      "MISPELL\n",
      "ROGRAMMING\n",
      "CONTES\n",
      "BALOON\n"
     ]
    }
   ],
   "source": [
    "n=int(input())\n",
    "for _ in range(n):\n",
    "    a,b = input().split()\n",
    "    a=int(a)\n",
    "    b = b[:a-1]+b[a:]\n",
    "    print(b)"
   ]
  }
 ],
 "metadata": {
  "kernelspec": {
   "display_name": "sesac",
   "language": "python",
   "name": "python3"
  },
  "language_info": {
   "codemirror_mode": {
    "name": "ipython",
    "version": 3
   },
   "file_extension": ".py",
   "mimetype": "text/x-python",
   "name": "python",
   "nbconvert_exporter": "python",
   "pygments_lexer": "ipython3",
   "version": "3.12.0"
  }
 },
 "nbformat": 4,
 "nbformat_minor": 2
}
