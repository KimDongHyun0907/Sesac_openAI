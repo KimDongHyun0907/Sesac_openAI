{
 "cells": [
  {
   "cell_type": "markdown",
   "metadata": {},
   "source": [
    "최소비용 구하기  \n",
    "https://www.acmicpc.net/problem/1916"
   ]
  },
  {
   "cell_type": "code",
   "execution_count": null,
   "metadata": {},
   "outputs": [],
   "source": [
    "import sys\n",
    "from heapq import heappush, heappop\n",
    "input = sys.stdin.readline\n",
    "\n",
    "def djkstra(start):\n",
    "    visited = set()\n",
    "    heap = []\n",
    "    heappush(heap, (0, start))\n",
    "    dist[start] = 0\n",
    "\n",
    "    while heap:\n",
    "        d, cur = heappop(heap)\n",
    "\n",
    "        if cur in visited:\n",
    "            continue\n",
    "        \n",
    "        dist[cur] = d\n",
    "        visited.add(cur)\n",
    "\n",
    "        for next, tmp_d in arr[cur]:\n",
    "            if next not in visited:\n",
    "                heappush(heap, (tmp_d+d, next))\n",
    "\n",
    "\n",
    "n=int(input())\n",
    "m=int(input())\n",
    "\n",
    "arr = [[] for _ in range(n+1)]\n",
    "for _ in range(m):\n",
    "    s, e, w = map(int,input().split())\n",
    "    arr[s].append((e, w))\n",
    "\n",
    "start_ans, end_ans = map(int,input().split())\n",
    "dist = [float('inf') for _ in range(n+1)]\n",
    "\n",
    "djkstra(start_ans)\n",
    "print(dist[end_ans])"
   ]
  },
  {
   "cell_type": "markdown",
   "metadata": {},
   "source": [
    "녹색 옷 입은 애가 젤다지?  \n",
    "https://www.acmicpc.net/problem/4485"
   ]
  },
  {
   "cell_type": "code",
   "execution_count": null,
   "metadata": {},
   "outputs": [],
   "source": [
    "import sys\n",
    "from heapq import heappush, heappop\n",
    "input = sys.stdin.readline\n",
    "\n",
    "def djkstra(x, y):\n",
    "    heap = []\n",
    "    visited=set()\n",
    "    heappush(heap, (arr[x][y], (x,y)))\n",
    "    dist[x][y] = arr[x][y]\n",
    "\n",
    "    while heap:\n",
    "        d, (cur_x, cur_y) = heappop(heap)\n",
    "\n",
    "        if (cur_x, cur_y) in visited:\n",
    "            continue\n",
    "\n",
    "        dist[cur_x][cur_y] = d\n",
    "        visited.add((cur_x, cur_y))\n",
    "\n",
    "        dxs, dys = [0, 1, 0, -1], [1, 0, -1, 0]\n",
    "\n",
    "        for dx, dy in zip(dxs, dys):\n",
    "            nx, ny = cur_x+dx, cur_y+dy\n",
    "            \n",
    "            if 0<=nx<n and 0<=ny<n:\n",
    "                if (nx, ny) not in visited:\n",
    "                    heappush(heap, (arr[nx][ny]+dist[cur_x][cur_y], (nx, ny)))\n",
    "\n",
    "\n",
    "idx = 1\n",
    "while True:\n",
    "    n=int(input())\n",
    "    if n==0: break\n",
    "\n",
    "    arr = [list(map(int,input().split())) for _ in range(n)]\n",
    "    dist = [[float('inf') for _ in range(n)] for _ in range(n)]\n",
    "\n",
    "    djkstra(0,0)\n",
    "\n",
    "    print(f'Problem {idx}: {dist[n-1][n-1]}')\n",
    "    idx+=1"
   ]
  },
  {
   "cell_type": "markdown",
   "metadata": {},
   "source": [
    "트리의 부모 찾기  \n",
    "https://www.acmicpc.net/problem/11725  "
   ]
  },
  {
   "cell_type": "code",
   "execution_count": null,
   "metadata": {},
   "outputs": [],
   "source": [
    "import sys\n",
    "from collections import deque\n",
    "input = sys.stdin.readline\n",
    "\n",
    "n=int(input())\n",
    "arr = [[] for _ in range(n+1)]\n",
    "\n",
    "for _ in range(n-1):\n",
    "    a,b=map(int,input().split())\n",
    "    arr[a].append(b)\n",
    "    arr[b].append(a)\n",
    "\n",
    "parents=[0 for _ in range(n+1)]\n",
    "\n",
    "queue = deque([(0,1)])\n",
    "visited=set()\n",
    "\n",
    "while queue:\n",
    "    p,c = queue.popleft()\n",
    "    parents[c]=p\n",
    "    visited.add(c)\n",
    "\n",
    "    for next in arr[c]:\n",
    "        if next not in visited:\n",
    "            queue.append((c,next))\n",
    "    \n",
    "for num in parents[2:]:\n",
    "    print(num)"
   ]
  }
 ],
 "metadata": {
  "language_info": {
   "name": "python"
  }
 },
 "nbformat": 4,
 "nbformat_minor": 2
}
