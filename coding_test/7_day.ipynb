{
 "cells": [
  {
   "cell_type": "markdown",
   "metadata": {},
   "source": [
    "deque"
   ]
  },
  {
   "cell_type": "code",
   "execution_count": null,
   "metadata": {},
   "outputs": [],
   "source": [
    "from collections import deque\n",
    "\n",
    "queue = deque()\n",
    "queue.append(5)\n",
    "queue.append(6)\n",
    "queue.append(3)\n",
    "\n",
    "print(queue)\n",
    "\n",
    "a=queue.popleft()\n",
    "print(a)\n",
    "\n",
    "queue = deque([5,6,3])\n",
    "print(queue)"
   ]
  },
  {
   "cell_type": "markdown",
   "metadata": {},
   "source": [
    "https://www.acmicpc.net/problem/2606  \n",
    "바이러스"
   ]
  },
  {
   "cell_type": "code",
   "execution_count": null,
   "metadata": {},
   "outputs": [],
   "source": [
    "import sys\n",
    "input=sys.stdin.readline\n",
    "\n",
    "v=int(input())\n",
    "e=int(input())\n",
    "\n",
    "graph = [[0 for _ in range(v+1)]for _ in range(v+1)]\n",
    "adj_list = [[] for _ in range(v+1)]\n",
    "\n",
    "for _ in range(e):\n",
    "    start, end = map(int,input().split())\n",
    "    adj_list[start].append(end)\n",
    "    adj_list[end].append(start)\n",
    "\n",
    "# print(adj_list)\n",
    "stack=[1]\n",
    "visited=[]\n",
    "\n",
    "while stack:\n",
    "    curr=stack.pop()\n",
    "    if curr not in visited:\n",
    "        visited.append(curr)\n",
    "    \n",
    "    for dest in adj_list[curr]:\n",
    "        if dest not in visited:\n",
    "            stack.append(dest)\n",
    "\n",
    "print(len(visited)-1)"
   ]
  },
  {
   "cell_type": "markdown",
   "metadata": {},
   "source": [
    "https://www.acmicpc.net/problem/10870  \n",
    "피보나치 수 5"
   ]
  },
  {
   "cell_type": "code",
   "execution_count": null,
   "metadata": {},
   "outputs": [],
   "source": [
    "import sys\n",
    "input=sys.stdin.readline\n",
    "\n",
    "def fibo(n):\n",
    "    if n==0:\n",
    "        return 0\n",
    "    elif n==1:\n",
    "        return 1\n",
    "    return fibo(n-2)+fibo(n-1)\n",
    "\n",
    "n=int(input())\n",
    "print(fibo(n))"
   ]
  },
  {
   "cell_type": "markdown",
   "metadata": {},
   "source": [
    "BFS"
   ]
  },
  {
   "cell_type": "code",
   "execution_count": null,
   "metadata": {},
   "outputs": [],
   "source": [
    "from collections import deque\n",
    "\n",
    "v=int(input())\n",
    "e=int(input())\n",
    "\n",
    "graph = [[0 for _ in range(v+1)]for _ in range(v+1)]\n",
    "adj_list = [[] for _ in range(v+1)]\n",
    "\n",
    "for _ in range(e):\n",
    "    start, end = map(int,input().split())\n",
    "    adj_list[start].append(end)\n",
    "    adj_list[end].append(start)\n",
    "\n",
    "queue=deque(1)\n",
    "visited = set()\n",
    "\n",
    "while queue:\n",
    "    # 방문\n",
    "    curr = queue.popleft()\n",
    "    visited.add(curr)\n",
    "    \n",
    "    # 탐색\n",
    "    for dest in adj_list[curr]:\n",
    "        if dest not in visited:\n",
    "            queue.append(dest)"
   ]
  },
  {
   "cell_type": "markdown",
   "metadata": {},
   "source": [
    "1. BFS 인접행렬  \n",
    "2. DFS - 인접행렬, 인접리스트"
   ]
  }
 ],
 "metadata": {
  "language_info": {
   "name": "python"
  }
 },
 "nbformat": 4,
 "nbformat_minor": 2
}
