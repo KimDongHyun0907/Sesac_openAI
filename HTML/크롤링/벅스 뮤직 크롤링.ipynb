{
 "cells": [
  {
   "cell_type": "code",
   "execution_count": 2,
   "metadata": {},
   "outputs": [],
   "source": [
    "from bs4 import BeautifulSoup as bs\n",
    "import requests\n",
    "\n",
    "url = 'https://music.bugs.co.kr/chart'\n",
    "\n",
    "response = requests.get(url)"
   ]
  },
  {
   "cell_type": "code",
   "execution_count": 3,
   "metadata": {},
   "outputs": [],
   "source": [
    "soup = bs(response.text, 'html.parser')"
   ]
  },
  {
   "cell_type": "code",
   "execution_count": 4,
   "metadata": {},
   "outputs": [
    {
     "name": "stdout",
     "output_type": "stream",
     "text": [
      "Love 119\n",
      "To. X\n",
      "Perfect Night\n",
      "에피소드\n",
      "Drama\n",
      "비의 랩소디\n",
      "Get A Guitar\n",
      "MANIAC\n",
      "I AM\n",
      "그대만 있다면 (여름날 우리 X 너드커넥션 (Nerd Connection))\n",
      "You & Me\n",
      "Baddie\n",
      "Ditto\n",
      "ETA\n",
      "헤어지자 말해요\n",
      "인사\n",
      "Love Lee\n",
      "첫 눈\n",
      "한 페이지가 될 수 있게\n",
      "후라이의 꿈\n",
      "Super Shy\n",
      "Seven (feat. Latto) - Clean Ver.\n",
      "Discord\n",
      "Talk Saxy\n",
      "Hype Boy\n",
      "Standing Next to You\n",
      "Spicy\n",
      "Chill Kill\n",
      "Off The Record\n",
      "Kitsch\n",
      "Steal The Show (From “엘리멘탈”)\n",
      "Either Way\n",
      "잠시라도 우리\n",
      "너의 모든 순간\n",
      "화이트 (White)\n",
      "Attention\n",
      "OMG\n",
      "GODS\n",
      "별 떨어진다 (I Do)\n",
      "퀸카 (Queencard)\n",
      "After LIKE\n",
      "사랑할 수밖에\n",
      "Stuck In A Maze\n",
      "주저하는 연인들을 위해\n",
      "DASH\n",
      "잘 지내자, 우리 (여름날 우리 X 로이킴)\n",
      "LOVE DIVE\n",
      "사건의 지평선\n",
      "I Don’t Think That I Like Her\n",
      "숲\n",
      "이브, 프시케 그리고 푸른 수염의 아내\n",
      "달빛에 그려지는\n",
      "넌 쉽게 말했지만\n",
      "Off My Face\n",
      "어떻게 이별까지 사랑하겠어, 널 사랑하는 거지\n",
      "New Jeans\n",
      "Fast Forward\n",
      "Dangerously\n",
      "사막에서 꽃을 피우듯\n",
      "머물러주오 (Prod. 안신애 & Philtre)\n",
      "Smoke (Prod. Dynamicduo, Padi)\n",
      "파이팅 해야지 (Feat. 이영지)\n",
      "예뻤어\n",
      "손오공\n",
      "Underwater\n",
      "DIE 4 YOU\n",
      "사랑은 늘 도망가\n",
      "UNFORGIVEN (feat. Nile Rodgers)\n",
      "그대가 내 안에 박혔다\n",
      "취중고백\n",
      "음악의 신\n",
      "STAY\n",
      "Yes or No (Feat. 허윤진 of LE SSERAFIM, Crush)\n",
      "밤, 바다\n",
      "Baggy Jeans\n",
      "사랑인가 봐\n",
      "모든 날, 모든 순간 (Every day, Every Moment)\n",
      "Summer (Feat. BE’O (비오))\n",
      "I Love You (Prod. 김도훈)\n",
      "Rewrite The Stars\n",
      "어른\n",
      "Snowman\n",
      "건물 사이에 피어난 장미 (Rose Blossom)\n",
      "미워 (Ego)\n",
      "지극히 사적인 얘기\n",
      "다정히 내 이름을 부르면\n",
      "Melt Away\n",
      "I Love You\n",
      "운이 좋았지\n",
      "Cool With You\n",
      "Bubble\n",
      "심(心)\n",
      "그대가 내 안에 박혔다(그내박)\n",
      "ANTIFRAGILE\n",
      "입술 (Feat. 10CM)\n",
      "Try Again\n",
      "내일 얘기해\n",
      "When I Get Old\n",
      "소년\n",
      "Love U Like That\n"
     ]
    }
   ],
   "source": [
    "songs = [title.get_text().strip() for title in soup.select('p.title')]\n",
    "for i in songs:\n",
    "    print(i)"
   ]
  },
  {
   "cell_type": "code",
   "execution_count": 12,
   "metadata": {},
   "outputs": [],
   "source": [
    "import os\n",
    "\n",
    "if 'img' in os.listdir():\n",
    "    pass\n",
    "else:\n",
    "    os.mkdir('img')\n"
   ]
  },
  {
   "cell_type": "code",
   "execution_count": 19,
   "metadata": {},
   "outputs": [
    {
     "data": {
      "text/plain": [
       "'https://music.bugs.co.kr/album/4094833?wl_ref=list_tr_07_chart'"
      ]
     },
     "execution_count": 19,
     "metadata": {},
     "output_type": "execute_result"
    }
   ],
   "source": [
    "soup.select('a.thumbnail')[0].attrs['href']"
   ]
  },
  {
   "cell_type": "code",
   "execution_count": 16,
   "metadata": {},
   "outputs": [],
   "source": [
    "from PIL import Image\n",
    "from io import BytesIO\n",
    "\n",
    "\n",
    "for idx, i in enumerate(soup.select('a.thumbnail')):\n",
    "    img_link = i.find_all('img')[0].attrs['src']\n",
    "    imgData = requests.get(img_link, stream=True)\n",
    "\n",
    "    img = Image.open(BytesIO(imgData.content))\n",
    "    img = img.resize((300, 300))\n",
    "\n",
    "    img.save(f'img\\\\song_album {idx+1}.jpg')\n",
    "\n",
    "    "
   ]
  }
 ],
 "metadata": {
  "kernelspec": {
   "display_name": "sesac",
   "language": "python",
   "name": "python3"
  },
  "language_info": {
   "codemirror_mode": {
    "name": "ipython",
    "version": 3
   },
   "file_extension": ".py",
   "mimetype": "text/x-python",
   "name": "python",
   "nbconvert_exporter": "python",
   "pygments_lexer": "ipython3",
   "version": "3.12.0"
  }
 },
 "nbformat": 4,
 "nbformat_minor": 2
}
