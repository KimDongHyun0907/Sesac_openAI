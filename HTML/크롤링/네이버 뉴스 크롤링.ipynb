{
 "cells": [
  {
   "cell_type": "code",
   "execution_count": 2,
   "metadata": {},
   "outputs": [],
   "source": [
    "# step1.프로젝트에 필요한 패키지 불러오기\n",
    "\n",
    "from bs4 import BeautifulSoup as bs\n",
    "\n",
    "import requests\n",
    "\n",
    "\n",
    "# step2. 검색할 키워드 입력\n",
    "\n",
    "query = input('검색할 키워드를 입력하세요: ')\n",
    "\n",
    "\n",
    "# step3. 입력받은 query가 포함된 url 주소(네이버 뉴스 검색 결과 페이지) 저장\n",
    "\n",
    "url = 'https://search.naver.com/search.naver?where=news&sm=tab_jum&query='+'%s'%query\n",
    "\n",
    "\n",
    "# step4. requests 패키지를 이용해 'url'의 html 문서 가져오기\n",
    "\n",
    "response = requests.get(url)\n",
    "\n",
    "html_text = response.text\n",
    "\n",
    "\n",
    "# step5. beautifulsoup 패키지로 파싱 후, 'soup' 변수에 저장\n",
    "\n",
    "soup = bs(response.text, 'html.parser')"
   ]
  },
  {
   "cell_type": "markdown",
   "metadata": {},
   "source": [
    "검색한 키워드의 제목 출력"
   ]
  },
  {
   "cell_type": "code",
   "execution_count": 4,
   "metadata": {},
   "outputs": [
    {
     "name": "stdout",
     "output_type": "stream",
     "text": [
      "훈련 참가한 손흥민\n",
      "손흥민, 호날두 제쳤다\n",
      "훈련하는 손흥민\n",
      "테이핑 한 손흥민\n",
      "훈련하는 손흥민-김민재-조규성\n",
      "호날두 제친 손흥민, 7년 연속 중국 매체 선정 아시아 최고 선수\n",
      "대화하는 이재성·손흥민\n",
      "달리는 손흥민·이기제\n",
      "[사진]손흥민-황희찬,'싱글벙글'\n",
      "훈련하는 손흥민-황희찬\n"
     ]
    }
   ],
   "source": [
    "news_titles = soup.select(\"a.news_tit\")\n",
    "\n",
    "for i in news_titles:\n",
    "    title = i.get_text()\n",
    "    print(title)"
   ]
  },
  {
   "cell_type": "markdown",
   "metadata": {},
   "source": [
    "각 기사의 링크 출력하기"
   ]
  },
  {
   "cell_type": "code",
   "execution_count": 6,
   "metadata": {},
   "outputs": [
    {
     "name": "stdout",
     "output_type": "stream",
     "text": [
      "http://www.newsis.com/view/?id=NISI20240117_0020198129\n",
      "https://www.chosun.com/sports/football/2024/01/18/5ZQODXBIXFFURC4SY5ZHHBM22A/?utm_source=naver&utm_medium=referral&utm_campaign=naver-news\n",
      "https://www.yna.co.kr/view/PYH20240117227100013?input=1196m\n",
      "https://www.news1.kr/articles/5292638\n",
      "http://www.osen.co.kr/article/G1112258072\n",
      "http://www.newsis.com/view/?id=NISI20240117_0020198237\n",
      "https://sports.donga.com/article/all/20240118/123108351/1\n",
      "https://www.yna.co.kr/view/AKR20240118055800007?input=1195m\n",
      "https://www.news1.kr/articles/5293704\n",
      "http://www.newsis.com/view/?id=NISX20240117_0002596103&cID=10503&pID=10500\n"
     ]
    }
   ],
   "source": [
    "for i in news_titles:\n",
    "    href = i.attrs['href']\n",
    "    print(href)"
   ]
  }
 ],
 "metadata": {
  "kernelspec": {
   "display_name": "sesac",
   "language": "python",
   "name": "python3"
  },
  "language_info": {
   "codemirror_mode": {
    "name": "ipython",
    "version": 3
   },
   "file_extension": ".py",
   "mimetype": "text/x-python",
   "name": "python",
   "nbconvert_exporter": "python",
   "pygments_lexer": "ipython3",
   "version": "3.12.0"
  }
 },
 "nbformat": 4,
 "nbformat_minor": 2
}
