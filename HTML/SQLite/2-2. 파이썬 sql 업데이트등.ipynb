{
 "cells": [
  {
   "cell_type": "markdown",
   "id": "42ea3ae0",
   "metadata": {},
   "source": [
    "###  [3] 파이썬을 이용한  "
   ]
  },
  {
   "cell_type": "code",
   "execution_count": 2,
   "id": "42b31e64",
   "metadata": {},
   "outputs": [
    {
     "data": {
      "text/plain": [
       "<sqlite3.Cursor at 0x29464743340>"
      ]
     },
     "execution_count": 2,
     "metadata": {},
     "output_type": "execute_result"
    }
   ],
   "source": [
    "# Section12-3\n",
    "# 파이썬 데이터베이스 연동(SQLite)\n",
    "# 테이블 수정 및 삭제\n",
    "\n",
    "import sqlite3\n",
    "\n",
    "# DB생성(파일)\n",
    "base_dir='C:/Users/bluecom014/Desktop/sesac_openai/HTML/sql/'\n",
    "# conn = sqlite3.connect('eCommerce.db')\n",
    "conn = sqlite3.connect(base_dir+'eCommerce.db', isolation_level=None)\n",
    "# Cursor연결\n",
    "c = conn.cursor()\n",
    "\n",
    "# 데이터 수정1\n",
    "c.execute(\"UPDATE 담당자 SET 담당자이름 = ? WHERE 담당자id = ?\", ('niceman', 1))\n",
    "\n"
   ]
  },
  {
   "cell_type": "code",
   "execution_count": 3,
   "id": "a9f31a1e",
   "metadata": {},
   "outputs": [
    {
     "data": {
      "text/html": [
       "<div>\n",
       "<style scoped>\n",
       "    .dataframe tbody tr th:only-of-type {\n",
       "        vertical-align: middle;\n",
       "    }\n",
       "\n",
       "    .dataframe tbody tr th {\n",
       "        vertical-align: top;\n",
       "    }\n",
       "\n",
       "    .dataframe thead th {\n",
       "        text-align: right;\n",
       "    }\n",
       "</style>\n",
       "<table border=\"1\" class=\"dataframe\">\n",
       "  <thead>\n",
       "    <tr style=\"text-align: right;\">\n",
       "      <th></th>\n",
       "      <th>담당자id</th>\n",
       "      <th>담당자이름</th>\n",
       "      <th>email</th>\n",
       "      <th>phone</th>\n",
       "      <th>website</th>\n",
       "    </tr>\n",
       "  </thead>\n",
       "  <tbody>\n",
       "    <tr>\n",
       "      <th>0</th>\n",
       "      <td>1</td>\n",
       "      <td>niceman</td>\n",
       "      <td>길동@naver.com</td>\n",
       "      <td>010-0000-0000</td>\n",
       "      <td>Kim.com</td>\n",
       "    </tr>\n",
       "    <tr>\n",
       "      <th>1</th>\n",
       "      <td>2</td>\n",
       "      <td>Park</td>\n",
       "      <td>Park@naver.com</td>\n",
       "      <td>010-1111-1111</td>\n",
       "      <td>Park.com</td>\n",
       "    </tr>\n",
       "    <tr>\n",
       "      <th>2</th>\n",
       "      <td>3</td>\n",
       "      <td>Lee</td>\n",
       "      <td>Lee@naver.com</td>\n",
       "      <td>010-2222-2222</td>\n",
       "      <td>Lee.com</td>\n",
       "    </tr>\n",
       "    <tr>\n",
       "      <th>3</th>\n",
       "      <td>4</td>\n",
       "      <td>Cho</td>\n",
       "      <td>Cho@naver.com</td>\n",
       "      <td>010-3333-3333</td>\n",
       "      <td>Cho.com</td>\n",
       "    </tr>\n",
       "    <tr>\n",
       "      <th>4</th>\n",
       "      <td>5</td>\n",
       "      <td>Yoo</td>\n",
       "      <td>Yoo@naver.com</td>\n",
       "      <td>010-4444-4444</td>\n",
       "      <td>Yoo.com</td>\n",
       "    </tr>\n",
       "  </tbody>\n",
       "</table>\n",
       "</div>"
      ],
      "text/plain": [
       "   담당자id    담당자이름           email          phone   website\n",
       "0      1  niceman    길동@naver.com  010-0000-0000   Kim.com\n",
       "1      2     Park  Park@naver.com  010-1111-1111  Park.com\n",
       "2      3      Lee   Lee@naver.com  010-2222-2222   Lee.com\n",
       "3      4      Cho   Cho@naver.com  010-3333-3333   Cho.com\n",
       "4      5      Yoo   Yoo@naver.com  010-4444-4444   Yoo.com"
      ]
     },
     "metadata": {},
     "output_type": "display_data"
    }
   ],
   "source": [
    "import pandas as pd\n",
    "\n",
    "query=\"SELECT * FROM 담당자\"\n",
    "df=pd.read_sql_query(query,conn)\n",
    "display(df)"
   ]
  },
  {
   "cell_type": "code",
   "execution_count": 6,
   "id": "d2f9c30b",
   "metadata": {},
   "outputs": [
    {
     "data": {
      "text/plain": [
       "<sqlite3.Cursor at 0x29464743340>"
      ]
     },
     "execution_count": 6,
     "metadata": {},
     "output_type": "execute_result"
    }
   ],
   "source": [
    "\n",
    "# 데이터 수정2\n",
    "c.execute(\"UPDATE 담당자 SET 담당자이름 = :name WHERE 담당자id = :id\", {\"name\": 'niceman', 'id': 3})\n",
    "\n"
   ]
  },
  {
   "cell_type": "code",
   "execution_count": 7,
   "id": "de151bdf",
   "metadata": {},
   "outputs": [
    {
     "data": {
      "text/html": [
       "<div>\n",
       "<style scoped>\n",
       "    .dataframe tbody tr th:only-of-type {\n",
       "        vertical-align: middle;\n",
       "    }\n",
       "\n",
       "    .dataframe tbody tr th {\n",
       "        vertical-align: top;\n",
       "    }\n",
       "\n",
       "    .dataframe thead th {\n",
       "        text-align: right;\n",
       "    }\n",
       "</style>\n",
       "<table border=\"1\" class=\"dataframe\">\n",
       "  <thead>\n",
       "    <tr style=\"text-align: right;\">\n",
       "      <th></th>\n",
       "      <th>담당자id</th>\n",
       "      <th>담당자이름</th>\n",
       "      <th>email</th>\n",
       "      <th>phone</th>\n",
       "      <th>website</th>\n",
       "    </tr>\n",
       "  </thead>\n",
       "  <tbody>\n",
       "    <tr>\n",
       "      <th>0</th>\n",
       "      <td>1</td>\n",
       "      <td>niceman</td>\n",
       "      <td>길동@naver.com</td>\n",
       "      <td>010-0000-0000</td>\n",
       "      <td>Kim.com</td>\n",
       "    </tr>\n",
       "    <tr>\n",
       "      <th>1</th>\n",
       "      <td>2</td>\n",
       "      <td>Park</td>\n",
       "      <td>Park@naver.com</td>\n",
       "      <td>010-1111-1111</td>\n",
       "      <td>Park.com</td>\n",
       "    </tr>\n",
       "    <tr>\n",
       "      <th>2</th>\n",
       "      <td>3</td>\n",
       "      <td>niceman</td>\n",
       "      <td>Lee@naver.com</td>\n",
       "      <td>010-2222-2222</td>\n",
       "      <td>Lee.com</td>\n",
       "    </tr>\n",
       "    <tr>\n",
       "      <th>3</th>\n",
       "      <td>4</td>\n",
       "      <td>Cho</td>\n",
       "      <td>Cho@naver.com</td>\n",
       "      <td>010-3333-3333</td>\n",
       "      <td>Cho.com</td>\n",
       "    </tr>\n",
       "    <tr>\n",
       "      <th>4</th>\n",
       "      <td>5</td>\n",
       "      <td>Yoo</td>\n",
       "      <td>Yoo@naver.com</td>\n",
       "      <td>010-4444-4444</td>\n",
       "      <td>Yoo.com</td>\n",
       "    </tr>\n",
       "  </tbody>\n",
       "</table>\n",
       "</div>"
      ],
      "text/plain": [
       "   담당자id    담당자이름           email          phone   website\n",
       "0      1  niceman    길동@naver.com  010-0000-0000   Kim.com\n",
       "1      2     Park  Park@naver.com  010-1111-1111  Park.com\n",
       "2      3  niceman   Lee@naver.com  010-2222-2222   Lee.com\n",
       "3      4      Cho   Cho@naver.com  010-3333-3333   Cho.com\n",
       "4      5      Yoo   Yoo@naver.com  010-4444-4444   Yoo.com"
      ]
     },
     "metadata": {},
     "output_type": "display_data"
    }
   ],
   "source": [
    "query=\"SELECT * FROM 담당자\"\n",
    "df=pd.read_sql_query(query,conn)\n",
    "display(df)"
   ]
  },
  {
   "cell_type": "code",
   "execution_count": 9,
   "id": "69c17cf1",
   "metadata": {},
   "outputs": [
    {
     "data": {
      "text/plain": [
       "<sqlite3.Cursor at 0x29464743340>"
      ]
     },
     "execution_count": 9,
     "metadata": {},
     "output_type": "execute_result"
    }
   ],
   "source": [
    "\n",
    "# 데이터 수정3\n",
    "c.execute(\"UPDATE 담당자 SET 담당자이름 = '%s' WHERE 담당자id = '%s'\" % ('badboy', 5))\n"
   ]
  },
  {
   "cell_type": "code",
   "execution_count": 10,
   "id": "3d646fd7",
   "metadata": {},
   "outputs": [
    {
     "data": {
      "text/html": [
       "<div>\n",
       "<style scoped>\n",
       "    .dataframe tbody tr th:only-of-type {\n",
       "        vertical-align: middle;\n",
       "    }\n",
       "\n",
       "    .dataframe tbody tr th {\n",
       "        vertical-align: top;\n",
       "    }\n",
       "\n",
       "    .dataframe thead th {\n",
       "        text-align: right;\n",
       "    }\n",
       "</style>\n",
       "<table border=\"1\" class=\"dataframe\">\n",
       "  <thead>\n",
       "    <tr style=\"text-align: right;\">\n",
       "      <th></th>\n",
       "      <th>담당자id</th>\n",
       "      <th>담당자이름</th>\n",
       "      <th>email</th>\n",
       "      <th>phone</th>\n",
       "      <th>website</th>\n",
       "    </tr>\n",
       "  </thead>\n",
       "  <tbody>\n",
       "    <tr>\n",
       "      <th>0</th>\n",
       "      <td>1</td>\n",
       "      <td>niceman</td>\n",
       "      <td>길동@naver.com</td>\n",
       "      <td>010-0000-0000</td>\n",
       "      <td>Kim.com</td>\n",
       "    </tr>\n",
       "    <tr>\n",
       "      <th>1</th>\n",
       "      <td>2</td>\n",
       "      <td>Park</td>\n",
       "      <td>Park@naver.com</td>\n",
       "      <td>010-1111-1111</td>\n",
       "      <td>Park.com</td>\n",
       "    </tr>\n",
       "    <tr>\n",
       "      <th>2</th>\n",
       "      <td>3</td>\n",
       "      <td>niceman</td>\n",
       "      <td>Lee@naver.com</td>\n",
       "      <td>010-2222-2222</td>\n",
       "      <td>Lee.com</td>\n",
       "    </tr>\n",
       "    <tr>\n",
       "      <th>3</th>\n",
       "      <td>4</td>\n",
       "      <td>Cho</td>\n",
       "      <td>Cho@naver.com</td>\n",
       "      <td>010-3333-3333</td>\n",
       "      <td>Cho.com</td>\n",
       "    </tr>\n",
       "    <tr>\n",
       "      <th>4</th>\n",
       "      <td>5</td>\n",
       "      <td>badboy</td>\n",
       "      <td>Yoo@naver.com</td>\n",
       "      <td>010-4444-4444</td>\n",
       "      <td>Yoo.com</td>\n",
       "    </tr>\n",
       "  </tbody>\n",
       "</table>\n",
       "</div>"
      ],
      "text/plain": [
       "   담당자id    담당자이름           email          phone   website\n",
       "0      1  niceman    길동@naver.com  010-0000-0000   Kim.com\n",
       "1      2     Park  Park@naver.com  010-1111-1111  Park.com\n",
       "2      3  niceman   Lee@naver.com  010-2222-2222   Lee.com\n",
       "3      4      Cho   Cho@naver.com  010-3333-3333   Cho.com\n",
       "4      5   badboy   Yoo@naver.com  010-4444-4444   Yoo.com"
      ]
     },
     "metadata": {},
     "output_type": "display_data"
    }
   ],
   "source": [
    "query=\"SELECT * FROM 담당자\"\n",
    "df=pd.read_sql_query(query,conn)\n",
    "display(df)"
   ]
  },
  {
   "cell_type": "code",
   "execution_count": 11,
   "id": "3175689e",
   "metadata": {},
   "outputs": [
    {
     "name": "stdout",
     "output_type": "stream",
     "text": [
      "(1, 'niceman', '길동@naver.com', '010-0000-0000', 'Kim.com')\n",
      "(2, 'Park', 'Park@naver.com', '010-1111-1111', 'Park.com')\n",
      "(3, 'niceman', 'Lee@naver.com', '010-2222-2222', 'Lee.com')\n",
      "(4, 'Cho', 'Cho@naver.com', '010-3333-3333', 'Cho.com')\n",
      "(5, 'badboy', 'Yoo@naver.com', '010-4444-4444', 'Yoo.com')\n"
     ]
    }
   ],
   "source": [
    "\n",
    "# 중간 데이터 확인1\n",
    "for user in c.execute('SELECT * FROM 담당자'):\n",
    "    print(user)\n"
   ]
  },
  {
   "cell_type": "code",
   "execution_count": 12,
   "id": "b5abd8c7",
   "metadata": {},
   "outputs": [
    {
     "data": {
      "text/plain": [
       "<sqlite3.Cursor at 0x29464743340>"
      ]
     },
     "execution_count": 12,
     "metadata": {},
     "output_type": "execute_result"
    }
   ],
   "source": [
    "\n",
    "# Row Delete1\n",
    "c.execute(\"DELETE FROM 담당자 WHERE 담당자id = ?\", (7,))\n"
   ]
  },
  {
   "cell_type": "code",
   "execution_count": 14,
   "id": "f8f89236",
   "metadata": {},
   "outputs": [
    {
     "data": {
      "text/plain": [
       "<sqlite3.Cursor at 0x29464743340>"
      ]
     },
     "execution_count": 14,
     "metadata": {},
     "output_type": "execute_result"
    }
   ],
   "source": [
    "\n",
    "# Row Delete2\n",
    "c.execute(\"DELETE FROM 담당자 WHERE 담당자id = :id\", {'id': 8})\n"
   ]
  },
  {
   "cell_type": "code",
   "execution_count": null,
   "id": "c107828d",
   "metadata": {},
   "outputs": [],
   "source": [
    "\n",
    "# Row Delete3\n",
    "c.execute(\"DELETE FROM users WHERE id = '%s'\" % 9)\n"
   ]
  },
  {
   "cell_type": "code",
   "execution_count": 15,
   "id": "d991254c",
   "metadata": {},
   "outputs": [
    {
     "name": "stdout",
     "output_type": "stream",
     "text": [
      "(1, 'niceman', '길동@naver.com', '010-0000-0000', 'Kim.com')\n",
      "(2, 'Park', 'Park@naver.com', '010-1111-1111', 'Park.com')\n",
      "(3, 'niceman', 'Lee@naver.com', '010-2222-2222', 'Lee.com')\n",
      "(4, 'Cho', 'Cho@naver.com', '010-3333-3333', 'Cho.com')\n",
      "(5, 'badboy', 'Yoo@naver.com', '010-4444-4444', 'Yoo.com')\n"
     ]
    }
   ],
   "source": [
    "\n",
    "# 중간 데이터 확인2\n",
    "for user in c.execute('SELECT * FROM 담당자'):\n",
    "    print(user)\n"
   ]
  },
  {
   "cell_type": "code",
   "execution_count": 16,
   "id": "4d7f8193",
   "metadata": {},
   "outputs": [
    {
     "name": "stdout",
     "output_type": "stream",
     "text": [
      "users db deleted :  5 rows\n"
     ]
    }
   ],
   "source": [
    "\n",
    "# 테이블 전체 데이터 삭제\n",
    "print(\"users db deleted : \", conn.execute(\"delete from 담당자\").rowcount, \"rows\")\n",
    "\n",
    "# 관계형 데이터 베이스\n",
    "\n",
    "# 커밋\n",
    "conn.commit()\n",
    "\n",
    "# 접속 해제\n",
    "conn.close()"
   ]
  }
 ],
 "metadata": {
  "kernelspec": {
   "display_name": "Python 3 (ipykernel)",
   "language": "python",
   "name": "python3"
  },
  "language_info": {
   "codemirror_mode": {
    "name": "ipython",
    "version": 3
   },
   "file_extension": ".py",
   "mimetype": "text/x-python",
   "name": "python",
   "nbconvert_exporter": "python",
   "pygments_lexer": "ipython3",
   "version": "3.12.0"
  }
 },
 "nbformat": 4,
 "nbformat_minor": 5
}
